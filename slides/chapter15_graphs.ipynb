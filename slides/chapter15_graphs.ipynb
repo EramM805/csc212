{
 "cells": [
  {
   "cell_type": "markdown",
   "metadata": {
    "slideshow": {
     "slide_type": "slide"
    }
   },
   "source": [
    "# Chapter 15: Graphs"
   ]
  },
  {
   "cell_type": "markdown",
   "metadata": {
    "slideshow": {
     "slide_type": "slide"
    }
   },
   "source": [
    "# Objectives\n",
    "* follow and explain graph based algorithms\n",
    "* design and implement classes for labeled or unlabled graphs\n",
    "* understand breadth-first and depth-first graph traversals\n",
    "* understand simple path algorithms and Dijkstra's algorithm"
   ]
  },
  {
   "cell_type": "markdown",
   "metadata": {
    "slideshow": {
     "slide_type": "slide"
    }
   },
   "source": [
    "# Undirected Graph\n",
    "```\n",
    "        (node 1)-- (node 2)--\\\n",
    "            |          |      (node 5)\n",
    "        (node 3) --(node 4)--/\n",
    "```     "
   ]
  },
  {
   "cell_type": "markdown",
   "metadata": {
    "slideshow": {
     "slide_type": "slide"
    }
   },
   "source": [
    "# Undirected Graph\n",
    "* finite set of vertices (nodes) + finite set of edges \n",
    "* empty graph: no vertices + no edges\n",
    "* edge connects two vertices \n",
    "* __order of connection does not matter__\n",
    "    + edge connects 1 and 2 == edge connects 2 and 1"
   ]
  },
  {
   "cell_type": "markdown",
   "metadata": {
    "slideshow": {
     "slide_type": "slide"
    }
   },
   "source": [
    "# Directed Graph\n",
    "```\n",
    "        (node 1)--> (node 2)<--\\ \n",
    "            ^           ^       \\\n",
    "            |           |        (node 5)\n",
    "        (node 3) -->(node 4) <--/\n",
    "```  "
   ]
  },
  {
   "cell_type": "markdown",
   "metadata": {
    "slideshow": {
     "slide_type": "slide"
    }
   },
   "source": [
    "# Directed Graph\n",
    "* finite set of vertices (nodes) + finite set of edges \n",
    "* empty graph: no vertices + no edges\n",
    "* edge connects __source__ vertex to __target__ vertex\n",
    "* __order of connection matters__\n",
    "    + edge connects 1 and 2 != edge connects 2 and 1"
   ]
  },
  {
   "cell_type": "markdown",
   "metadata": {},
   "source": [
    "# Graph Terminology:\n",
    "* __loops__:  edge that connects vertex to itself\n",
    "```\n",
    "        (node 1) --\\\n",
    "            ^------/\n",
    "```\n",
    "* __path__: sequence of vertices and edges to get from one node to another node. \n",
    "```\n",
    "    (node 1) -e1-> (node 2) -e2-> (node 3)\n",
    "```\n",
    "path: n1, n2, n3\n",
    "\n",
    "* __multiple edges__: 2+ edges connecting the same nodes in the same direction\n",
    "```\n",
    "            \n",
    "    (node 1)----(node 2)\n",
    "       |___________|\n",
    "```"
   ]
  },
  {
   "cell_type": "markdown",
   "metadata": {
    "slideshow": {
     "slide_type": "slide"
    }
   },
   "source": [
    "# Simple Graphs\n",
    "+ no loops\n",
    "+ no multiple edges"
   ]
  },
  {
   "cell_type": "markdown",
   "metadata": {
    "slideshow": {
     "slide_type": "slide"
    }
   },
   "source": [
    "# Adjacency Matrix\n",
    "\n",
    "Use a matrix to represent a graph. \n",
    "\n",
    "In a matrix representation, nodes are the rows and columns of the matrix, and edges are marked with a 1 or their weight. The matrix values usually default to 0.\n",
    "\n",
    "```\n",
    "( node 1 ) ---------( node 2)\n",
    "         \\          /\n",
    "          ( node 3 )\n",
    "```"
   ]
  },
  {
   "cell_type": "markdown",
   "metadata": {
    "slideshow": {
     "slide_type": "slide"
    }
   },
   "source": [
    "## Undirected Adjaceny Matrix\n",
    "|  <br/>| node 1 | node 2 | node 3 |\n",
    "|-------|--------| -------| -------|\n",
    "|node 1 |    1   |    1   |    1   |\n",
    "|node 2 |    1   |    0   |    1   |  \n",
    "|node 3 |    1   |    1   |    0   |"
   ]
  },
  {
   "cell_type": "markdown",
   "metadata": {
    "slideshow": {
     "slide_type": "slide"
    }
   },
   "source": [
    "## Directed Adjacency Matrix\n",
    "+ Mark a 1 for all source to target transitions.\n",
    "+ Rows = sources, columns=targets\n",
    "\n",
    "|  <br/>| node 1 | node 2 | node 3 |\n",
    "|-------|--------| -------| -------|\n",
    "|node 1 |    0   |    1   |    0   |\n",
    "|node 2 |    0   |    0   |    1   |  \n",
    "|node 3 |    1   |    0   |    0   |"
   ]
  },
  {
   "cell_type": "markdown",
   "metadata": {
    "slideshow": {
     "slide_type": "slide"
    }
   },
   "source": [
    "Programming Problem:\n",
    "Code up the CS department curriculum grid \n",
    "\n",
    "+ Task 1: undirected graph.\n",
    "  * Vertices: CS major classes\n",
    "  * Edges: any classes that have the same prerequistes\n",
    "+ Task 2: add direction (use a 2 instead of 1)\n",
    "  * Edges: source is prerequiste of target"
   ]
  },
  {
   "cell_type": "code",
   "execution_count": null,
   "metadata": {},
   "outputs": [],
   "source": []
  }
 ],
 "metadata": {
  "celltoolbar": "Slideshow",
  "kernelspec": {
   "display_name": "C++17",
   "language": "C++17",
   "name": "xeus-cling-cpp17"
  },
  "language_info": {
   "codemirror_mode": "text/x-c++src",
   "file_extension": ".cpp",
   "mimetype": "text/x-c++src",
   "name": "c++",
   "version": "-std=c++17"
  }
 },
 "nbformat": 4,
 "nbformat_minor": 2
}
