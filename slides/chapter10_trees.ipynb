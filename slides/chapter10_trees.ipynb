{
 "cells": [
  {
   "cell_type": "markdown",
   "metadata": {
    "slideshow": {
     "slide_type": "slide"
    }
   },
   "source": [
    "# Chapter 10: Trees"
   ]
  },
  {
   "cell_type": "markdown",
   "metadata": {
    "slideshow": {
     "slide_type": "slide"
    }
   },
   "source": [
    "# Objectives\n",
    "* follow and explain tree based algorithms\n",
    "* design and implement binary trees and other types of trees\n",
    "* list & implement binary tree traversal algorithms:\n",
    "    * in order\n",
    "    * pre order\n",
    "    * post order\n",
    "* determine the requirements for a binary tree search\n",
    "* implement searches, insertions, and removals on a binary search tree"
   ]
  },
  {
   "cell_type": "markdown",
   "metadata": {
    "slideshow": {
     "slide_type": "slide"
    }
   },
   "source": [
    "![trees xkcd image](figures/chap10/tree.png)"
   ]
  },
  {
   "cell_type": "markdown",
   "metadata": {
    "slideshow": {
     "slide_type": "slide"
    }
   },
   "source": [
    "# Binary Tree\n",
    "* Finite set of nodes. \n",
    "* No nodes: the empty tree. \n",
    "* None empty tree:\n",
    "   + __root__ : node at top of tree\n",
    "       + cannot be a __child__ node of any other node\n",
    "       + does not have a __parent__ node\n",
    "   + __parent node__: node in tree, has at most two nodes attached to it at the next level\n",
    "       + __left child__ : left linked node\n",
    "       + __right child__ : right linked node\n",
    "   + __sibling nodes__: left & right children of the same parent node\n",
    "  \n",
    "* Traversal: \n",
    "    + start at a node and move up node’s parents (provided there is one), must reach __root_\n",
    "    + __ancestor__:reachable by going up the tree from the node\n",
    "    + __descendant__:reachable by going down the treen from the node"
   ]
  },
  {
   "cell_type": "markdown",
   "metadata": {
    "slideshow": {
     "slide_type": "slide"
    }
   },
   "source": [
    "![](figures/chap10/btrees.png)"
   ]
  },
  {
   "cell_type": "markdown",
   "metadata": {
    "slideshow": {
     "slide_type": "slide"
    }
   },
   "source": [
    "# Trees\n",
    "A tree is a finite set of nodes. The set might be empty (no nodes, which is called the empty tree). But if the set is not empty, then it must follow these rules:\n",
    "   1. There is one special node, called the root.\n",
    "   2. Each node may be associated with one or more different nodes, called its children. If a node c is the child ofanother node p, then we say that “p is c’s parent.”\n",
    "    3. Each node except the root has exactly one parent; the root has no parent.\n",
    "    4. If you start at any node and move to the node’s parent (provided there is one), then move again to that node’s parent (provided there is one), and keep moving upward to each node’s parent, you will eventually reach the root."
   ]
  },
  {
   "cell_type": "markdown",
   "metadata": {
    "slideshow": {
     "slide_type": "slide"
    }
   },
   "source": [
    "# To Do\n",
    "1. Draw a tree that contains members of your family. The root should contain\n",
    "your mother’s mother. Her children nodes contain her actual children,\n",
    "and those nodes contain her children’s children, and so on.\n",
    "    \n",
    "2. Draw a binary tree with 12 nodes. Circle the root, and put asterisks at each leaf. Find two nodes that are siblings, and connect them with a wiggly\n",
    "line. Choose one of the leaves, and shade all of its ancestors.\n",
    "\n",
    "\n",
    "\n"
   ]
  },
  {
   "cell_type": "code",
   "execution_count": null,
   "metadata": {
    "slideshow": {
     "slide_type": "slide"
    }
   },
   "outputs": [],
   "source": [
    "   "
   ]
  }
 ],
 "metadata": {
  "celltoolbar": "Slideshow",
  "kernelspec": {
   "display_name": "C++17",
   "language": "C++17",
   "name": "xeus-cling-cpp17"
  },
  "language_info": {
   "codemirror_mode": "text/x-c++src",
   "file_extension": ".cpp",
   "mimetype": "text/x-c++src",
   "name": "c++",
   "version": "-std=c++17"
  }
 },
 "nbformat": 4,
 "nbformat_minor": 2
}
