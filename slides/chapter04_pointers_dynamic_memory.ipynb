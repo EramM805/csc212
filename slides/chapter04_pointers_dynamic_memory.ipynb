{
 "cells": [
  {
   "cell_type": "markdown",
   "metadata": {
    "slideshow": {
     "slide_type": "slide"
    }
   },
   "source": [
    "# Pointers & Dynamic Memory"
   ]
  },
  {
   "cell_type": "markdown",
   "metadata": {
    "slideshow": {
     "slide_type": "slide"
    }
   },
   "source": [
    "## Variables\n",
    "__name__  how the variable is referred to throughout the code\n",
    "\n",
    "__type__  the datatype of the information the variable stores\n",
    "\n",
    "__value__  the information the variable stores"
   ]
  },
  {
   "cell_type": "markdown",
   "metadata": {
    "slideshow": {
     "slide_type": "slide"
    }
   },
   "source": [
    "### Memory\n",
    "\n",
    "![memory](figures/chap04/memory.png)\n",
    "\n",
    "__stack__ memory set aside for an execution thread\n",
    "\n",
    "__heap__ memory set aside for allocating on the fly"
   ]
  },
  {
   "cell_type": "markdown",
   "metadata": {
    "slideshow": {
     "slide_type": "slide"
    }
   },
   "source": [
    "### Declaration & Initalization\n",
    "![exoression: int x = 365 green memory blocks with int space carved out in green, 365 written in binary in blocks, and x label hanging off memory address](figures/chap04/init.png)\n",
    "__type__ allocates space in memory\n",
    "__name__ labels space in memory\n",
    "__value__ stores as binary number"
   ]
  },
  {
   "cell_type": "markdown",
   "metadata": {
    "slideshow": {
     "slide_type": "slide"
    }
   },
   "source": [
    "### Assignment: Pointer\n",
    "![expression: int *ptrx = &x; same image as in previous slide and second label ptrx](figures/chap04/ptr.png)\n",
    "__address operator &__ *where* the address of the variable\n",
    "\n",
    "__indirection operator *__ *what* the value stored at that address"
   ]
  },
  {
   "cell_type": "code",
   "execution_count": 1,
   "metadata": {
    "slideshow": {
     "slide_type": "slide"
    }
   },
   "outputs": [],
   "source": [
    "int i = 42;\n",
    "int *example_ptr;"
   ]
  },
  {
   "cell_type": "code",
   "execution_count": 2,
   "metadata": {
    "slideshow": {
     "slide_type": "slide"
    }
   },
   "outputs": [],
   "source": [
    "example_ptr = &i;"
   ]
  },
  {
   "cell_type": "code",
   "execution_count": 3,
   "metadata": {
    "slideshow": {
     "slide_type": "slide"
    }
   },
   "outputs": [
    {
     "name": "stdout",
     "output_type": "stream",
     "text": [
      "42\n",
      "42\n"
     ]
    }
   ],
   "source": [
    "#include <iostream>\n",
    "std::cout<<i<<\"\\n\";\n",
    "std::cout<<(*example_ptr)<<\"\\n\";"
   ]
  },
  {
   "cell_type": "code",
   "execution_count": 4,
   "metadata": {
    "slideshow": {
     "slide_type": "slide"
    }
   },
   "outputs": [
    {
     "name": "stdout",
     "output_type": "stream",
     "text": [
      "0\n"
     ]
    }
   ],
   "source": [
    "*example_ptr = 0;\n",
    "std::cout<<i<<\"\\n\";"
   ]
  },
  {
   "cell_type": "code",
   "execution_count": 5,
   "metadata": {
    "slideshow": {
     "slide_type": "slide"
    }
   },
   "outputs": [
    {
     "name": "stdout",
     "output_type": "stream",
     "text": [
      "p1: 42 p2: 42\n",
      "i: 42\n"
     ]
    }
   ],
   "source": [
    "i = 42;\n",
    "int *p1, *p2;\n",
    "p1 = &i;\n",
    "p2 = p1;\n",
    "std::cout<<\"p1: \"<<*p1<<\" \"<<\"p2: \"<<*p2<<\"\\n\";\n",
    "int x = i;\n",
    "x = 2;\n",
    "std::cout<<\"i: \"<<i<<std::endl;"
   ]
  },
  {
   "cell_type": "code",
   "execution_count": null,
   "metadata": {
    "slideshow": {
     "slide_type": "slide"
    }
   },
   "outputs": [],
   "source": [
    "i = 42;\n",
    "int j = 80;\n",
    "p1 = &i;\n",
    "p2 = &j;\n",
    "std::cout<<\"p1: \"<<*p1<<\" \"<<\"p2: \"<<*p2<<\"\\n\";"
   ]
  },
  {
   "cell_type": "markdown",
   "metadata": {
    "slideshow": {
     "slide_type": "slide"
    }
   },
   "source": [
    "### Dynamic Memory Allocation\n",
    "\n",
    "Dynamic variables are:\n",
    "1. not declared in a traditional sense\n",
    "2. created (allocated memory) at runtime\n",
    "3. are created using the __new__ operator"
   ]
  },
  {
   "cell_type": "markdown",
   "metadata": {
    "slideshow": {
     "slide_type": "slide"
    }
   },
   "source": [
    "### Let's make a dynamic array!"
   ]
  },
  {
   "cell_type": "code",
   "execution_count": 6,
   "metadata": {
    "slideshow": {
     "slide_type": "slide"
    }
   },
   "outputs": [],
   "source": [
    "#include <cstddef>\n",
    "int array_size;\n",
    "int *numbers;\n",
    "int numbs[565];"
   ]
  },
  {
   "cell_type": "code",
   "execution_count": 7,
   "metadata": {
    "slideshow": {
     "slide_type": "slide"
    }
   },
   "outputs": [],
   "source": [
    "array_size = 45;\n",
    "numbers = new int[array_size];"
   ]
  },
  {
   "cell_type": "code",
   "execution_count": null,
   "metadata": {
    "slideshow": {
     "slide_type": "slide"
    }
   },
   "outputs": [],
   "source": [
    "//clean up\n",
    "delete example_ptr;\n",
    "delete [] numbers;"
   ]
  },
  {
   "cell_type": "markdown",
   "metadata": {
    "slideshow": {
     "slide_type": "slide"
    }
   },
   "source": [
    "### Do we want to refactor the bag class with a dynamic array?"
   ]
  },
  {
   "cell_type": "markdown",
   "metadata": {
    "slideshow": {
     "slide_type": "slide"
    }
   },
   "source": [
    "## Bag Class Specs :\n",
    "* __constructor__: make a bag, make a copy of a bag\n",
    "```cpp \n",
    "bag b; \n",
    "bag c(b); \n",
    "```"
   ]
  },
  {
   "cell_type": "markdown",
   "metadata": {
    "slideshow": {
     "slide_type": "slide"
    }
   },
   "source": [
    "* __size__: how big is the bag?\n",
    "```cpp\n",
    "b.size();\n",
    "```"
   ]
  },
  {
   "cell_type": "markdown",
   "metadata": {
    "slideshow": {
     "slide_type": "slide"
    }
   },
   "source": [
    "* __insert__: add stuff to the bag\n",
    "```cpp\n",
    "b.insert(42);\n",
    "b.insert(42);\n",
    "b.insert(106);\n",
    "```"
   ]
  },
  {
   "cell_type": "markdown",
   "metadata": {
    "slideshow": {
     "slide_type": "slide"
    }
   },
   "source": [
    "* __erase__: remove stuff from the bag\n",
    "```cpp\n",
    "b.erase(106);\n",
    "```"
   ]
  },
  {
   "cell_type": "markdown",
   "metadata": {
    "slideshow": {
     "slide_type": "slide"
    }
   },
   "source": [
    "* __erase_one__: erase just one item\n",
    "```cpp\n",
    "b.erase_one(42);\n",
    "```"
   ]
  },
  {
   "cell_type": "markdown",
   "metadata": {
    "slideshow": {
     "slide_type": "slide"
    }
   },
   "source": [
    "* __count__: how many 1's are in the bag?\n",
    "```cpp\n",
    "b.count(1); \n",
    "```"
   ]
  },
  {
   "cell_type": "markdown",
   "metadata": {
    "slideshow": {
     "slide_type": "slide"
    }
   },
   "source": [
    "* **+** : create new bag by adding two bags\n",
    "```cpp\n",
    "bag d = b + c;\n",
    "```"
   ]
  },
  {
   "cell_type": "markdown",
   "metadata": {
    "slideshow": {
     "slide_type": "slide"
    }
   },
   "source": [
    "* **+=** : inplace concatenation (add one bag to another)\n",
    "```cpp\n",
    "d+=c;\n",
    "```"
   ]
  },
  {
   "cell_type": "markdown",
   "metadata": {
    "slideshow": {
     "slide_type": "slide"
    }
   },
   "source": [
    "## \"bag.h\" "
   ]
  },
  {
   "cell_type": "code",
   "execution_count": 2,
   "metadata": {
    "slideshow": {
     "slide_type": "slide"
    }
   },
   "outputs": [],
   "source": [
    "#include <cstdlib> //provides size_t\n",
    "\n",
    "class bag{\n",
    "    public:\n",
    "        //typedefs and member constants\n",
    "        typedef int value_type;\n",
    "        typedef size_t size_type;\n",
    "        static const size_type DEFAULT_CAPACITY = 30;\n",
    "        //constructor\n",
    "        bag(size_type initial_capacity = DEFAULT_CAPACITY);\n",
    "        bag(const bag& source); //copy constructor\n",
    "        ~bag(); //destructor\n",
    "        //modifying methods (changes the bag)\n",
    "        bool erase_one(const value_type& target); \n",
    "        size_type erase(const value_type& target);\n",
    "        void insert(const value_type& entry);\n",
    "        void reserve(size_type new_capacity);\n",
    "        void operator =(const bag& source);\n",
    "        void operator +=(const value_type& entry);\n",
    "        //const methods (doesn't change the bag)\n",
    "        size_type size() const {return used; }\n",
    "        size_type count(const value_type& target) const;\n",
    "    private:\n",
    "        value_type *data;\n",
    "        size_type used;\n",
    "        size_type capacity;\n",
    "    };\n",
    "// acts on bags but doesn't need access to private attributes\n",
    "bag operator +(const bag& b1, const bag& b2);\n"
   ]
  },
  {
   "cell_type": "markdown",
   "metadata": {
    "slideshow": {
     "slide_type": "slide"
    }
   },
   "source": [
    "### Revised invariant\n",
    "* `used` stores number of items in bag\n",
    "* items are stored in dynamic array pointed to by `data`\n",
    "* total size of dynamic array stored in `capacity`"
   ]
  },
  {
   "cell_type": "code",
   "execution_count": 3,
   "metadata": {
    "slideshow": {
     "slide_type": "slide"
    }
   },
   "outputs": [],
   "source": [
    "bag::bag(size_type initial_capacity){\n",
    "    data = new value_type[initial_capacity];\n",
    "    capacity = initial_capacity;\n",
    "    used = 0;\n",
    "}"
   ]
  },
  {
   "cell_type": "code",
   "execution_count": 4,
   "metadata": {
    "slideshow": {
     "slide_type": "slide"
    }
   },
   "outputs": [
    {
     "name": "stderr",
     "output_type": "stream",
     "text": [
      "IncrementalExecutor::executeFunction: symbol '_ZN3bagD1Ev' unresolved while linking function '_GLOBAL__sub_I_cling_module_7'!\n",
      "You are probably missing the definition of bag::~bag()\n",
      "Maybe you need to load the corresponding shared library?\n"
     ]
    }
   ],
   "source": [
    "bag bookbag(10);"
   ]
  },
  {
   "cell_type": "code",
   "execution_count": 5,
   "metadata": {
    "slideshow": {
     "slide_type": "slide"
    }
   },
   "outputs": [],
   "source": [
    "bag::~bag(){\n",
    "    delete [] data;\n",
    "}"
   ]
  },
  {
   "cell_type": "code",
   "execution_count": 6,
   "metadata": {
    "slideshow": {
     "slide_type": "slide"
    }
   },
   "outputs": [],
   "source": [
    "bag books(10);"
   ]
  },
  {
   "cell_type": "code",
   "execution_count": null,
   "metadata": {
    "slideshow": {
     "slide_type": "slide"
    }
   },
   "outputs": [],
   "source": [
    "#include <algorithm>\n",
    "//lets add more space\n",
    "bag::reserve(size_type new_capacity){\n",
    "    value_type *larger_array;\n",
    "    if (new_capacity<=capacity){return;}\n",
    "    if (new_capacity<used){new_capacity=used};\n",
    "    \n",
    "    larger_array = new value_type[new_capacity];\n",
    "    std::copy(data, data + used, larger_array);\n",
    "    delete [] data;\n",
    "    data = larger_array;\n",
    "    capacity = new_capacity;\n",
    "}"
   ]
  },
  {
   "cell_type": "code",
   "execution_count": 7,
   "metadata": {
    "slideshow": {
     "slide_type": "slide"
    }
   },
   "outputs": [
    {
     "name": "stderr",
     "output_type": "stream",
     "text": [
      "\u001b[1minput_line_14:3:6: \u001b[0m\u001b[0;1;31merror: \u001b[0m\u001b[1mcall to non-static member function without an object argument\u001b[0m\n",
      "bag::insert(const value_type& entry){\n",
      "\u001b[0;1;32m~~~~~^~~~~~\n",
      "\u001b[0m\u001b[1minput_line_14:3:13: \u001b[0m\u001b[0;1;31merror: \u001b[0m\u001b[1mexpected expression\u001b[0m\n",
      "bag::insert(const value_type& entry){\n",
      "\u001b[0;1;32m            ^\n",
      "\u001b[0m"
     ]
    },
    {
     "ename": "Interpreter Error",
     "evalue": "",
     "output_type": "error",
     "traceback": [
      "Interpreter Error: "
     ]
    }
   ],
   "source": [
    "//does the implementation of insert change? (do we want dynamic reserve?)\n",
    "bag::insert(const value_type& entry){\n",
    "    if (capacity==used){\n",
    "        reserve(used+1);\n",
    "    }\n",
    "    data[used];\n",
    "    used++;\n",
    "}"
   ]
  },
  {
   "cell_type": "markdown",
   "metadata": {
    "slideshow": {
     "slide_type": "slide"
    }
   },
   "source": [
    "### Assignment vs Copy:\n",
    "__copy__ creates bag from scratch\n",
    "\n",
    "__assignment__ ```a = b```\n",
    " * __copy__ : *a* stores a copy of the value stored in *b*\n",
    " * __reference__: *a* points to the same address as *b*"
   ]
  },
  {
   "cell_type": "code",
   "execution_count": 12,
   "metadata": {
    "slideshow": {
     "slide_type": "slide"
    }
   },
   "outputs": [],
   "source": [
    "// let's make a reference assignment bag a = b;\n",
    "#include <algorithm>"
   ]
  },
  {
   "cell_type": "code",
   "execution_count": 13,
   "metadata": {
    "slideshow": {
     "slide_type": "slide"
    }
   },
   "outputs": [
    {
     "name": "stderr",
     "output_type": "stream",
     "text": [
      "\u001b[1minput_line_28:2:40: \u001b[0m\u001b[0;1;31merror: \u001b[0m\u001b[1mfunction definition is not allowed here\u001b[0m\n",
      " void bag::operator=(const bag& source){\n",
      "\u001b[0;1;32m                                       ^\n",
      "\u001b[0m"
     ]
    },
    {
     "ename": "Interpreter Error",
     "evalue": "",
     "output_type": "error",
     "traceback": [
      "Interpreter Error: "
     ]
    }
   ],
   "source": [
    "void bag::operator=(const bag& source){\n",
    "    value_type *new_data;\n",
    "    //check for self assignment\n",
    "    if (this == &source){ return;}\n",
    "    //overwrite a's attributes with b's\n",
    "    if (capacity != source.capacity){\n",
    "        new_data = new value_type[source.capacity];\n",
    "        delete [] data;\n",
    "        data = new_data;\n",
    "        capacity = source.capacity;\n",
    "    }\n",
    "    used = source.used;\n",
    "    std::copy(source.data, source.data + used, data);\n",
    "}"
   ]
  },
  {
   "cell_type": "markdown",
   "metadata": {
    "slideshow": {
     "slide_type": "subslide"
    }
   },
   "source": [
    "#### Copy\n",
    "* c++ stdlib http://www.cplusplus.com/reference/algorithm/copy/\n",
    "* https://en.cppreference.com/w/cpp/algorithm/copy\n",
    "\n",
    "Copies the elements in the range [first,last) into the range beginning at result.:\n",
    "```copy(pointer/index first, pointer/index last, start of where to copy into result)```\n",
    "\n",
    "__source__: [0, 1, 2, 3, 4]\n",
    "\n",
    "__target__: [5, 6, 7, 8, 9]\n",
    "\n",
    "copy last 3 elements of target into source:\n",
    "\n",
    "```copy(target+3, target+5, source+5);```"
   ]
  },
  {
   "cell_type": "code",
   "execution_count": null,
   "metadata": {
    "slideshow": {
     "slide_type": "slide"
    }
   },
   "outputs": [],
   "source": [
    "// how does this differ from equal?\n",
    "void bag::operator +=(const bag& addend){\n",
    "    if (used + used.addend > capacity){\n",
    "        reserve(used + addend.used);\n",
    "    }\n",
    "    \n",
    "    copy(addend.data, addend.data+addend.used, data+used);\n",
    "}"
   ]
  },
  {
   "cell_type": "code",
   "execution_count": null,
   "metadata": {
    "slideshow": {
     "slide_type": "slide"
    }
   },
   "outputs": [],
   "source": [
    "//What do you think this implementation looks like?\n",
    "void bag::operator+(const bag&source){}"
   ]
  },
  {
   "cell_type": "code",
   "execution_count": null,
   "metadata": {
    "slideshow": {
     "slide_type": "slide"
    }
   },
   "outputs": [],
   "source": [
    "// Do these implementations change? Why or why not?\n",
    "bool erase_one(const value_type& target); \n",
    "size_type erase(const value_type& target);\n",
    "\n",
    "size_type count(const value_type& target) const;"
   ]
  }
 ],
 "metadata": {
  "celltoolbar": "Slideshow",
  "kernelspec": {
   "display_name": "C++17",
   "language": "C++17",
   "name": "xeus-cling-cpp17"
  },
  "language_info": {
   "codemirror_mode": "text/x-c++src",
   "file_extension": ".cpp",
   "mimetype": "text/x-c++src",
   "name": "c++",
   "version": "-std=c++17"
  }
 },
 "nbformat": 4,
 "nbformat_minor": 2
}
