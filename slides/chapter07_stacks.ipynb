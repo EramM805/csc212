{
 "cells": [
  {
   "cell_type": "markdown",
   "metadata": {
    "slideshow": {
     "slide_type": "slide"
    }
   },
   "source": [
    "# Chapter 07: Stacks"
   ]
  },
  {
   "cell_type": "markdown",
   "metadata": {
    "slideshow": {
     "slide_type": "slide"
    }
   },
   "source": [
    "# Objectives\n",
    "* understand stack operations: push, pop, top, and peek \n",
    "* use the STL stack class to implement stack based algorithms\n",
    "* implement a custom stack class using an array or linked list"
   ]
  },
  {
   "cell_type": "markdown",
   "metadata": {
    "slideshow": {
     "slide_type": "slide"
    }
   },
   "source": [
    "![image of four books stacked one on top of another](figures\\chap07\\books.jpg??)\n",
    "https://www.flickr.com/photos/ginnerobot/4552277923/"
   ]
  },
  {
   "cell_type": "markdown",
   "metadata": {
    "slideshow": {
     "slide_type": "slide"
    }
   },
   "source": [
    "# Characteristics of a stack\n",
    "* entries are ordered\n",
    "* entries are inserted and removed at the same end\n",
    "    + __LIFO__ - last in, first out\n",
    "    + __push__ - entry added to top of stack\n",
    "    + __pop__ - entry removed from top of stack\n",
    "* stack errors:\n",
    "    + __underflow__ - pop an entry from an empty stack\n",
    "    + __overflow__ - push an entry on a full stack"
   ]
  },
  {
   "cell_type": "markdown",
   "metadata": {
    "slideshow": {
     "slide_type": "slide"
    }
   },
   "source": [
    "# Programming Example: Reversing a Word"
   ]
  },
  {
   "cell_type": "markdown",
   "metadata": {
    "slideshow": {
     "slide_type": "slide"
    }
   },
   "source": [
    "# Push `Hello` onto the stack\n",
    "| H | e | l | l | o |\n",
    "|:--:|:--:|:--:|:---:|:---:|\n",
    "|<br><br><br><br> H | <br> <br><br>e<br>H | <br><br>l<br>e<br>H | <br>l<br>l<br>e<br>H | o<br>l<br>l<br>e<br>H|\n",
    "\n",
    "The top of the stack is `o`"
   ]
  },
  {
   "cell_type": "markdown",
   "metadata": {
    "slideshow": {
     "slide_type": "slide"
    }
   },
   "source": [
    "# Pop the stack:\n",
    "    \n",
    "\n",
    "| o | l | l | e | H |\n",
    "|:--:|:--:|:--:|:---:|:---:|\n",
    "|l<br>l<br>e<br>H|<br>l<br>e<br>H|<br><br>e<br>H |<br><br><br> H | |\n"
   ]
  },
  {
   "cell_type": "markdown",
   "metadata": {
    "slideshow": {
     "slide_type": "slide"
    }
   },
   "source": [
    "# How do we implement this? \n",
    "\n",
    "    while (there are more characters of the word to read)\n",
    "        read a character, and push onto the the stack\n",
    "    \n",
    "    while (the stack is not empty)\n",
    "        write the top character to the screen, \n",
    "        and pop it off the stack"
   ]
  },
  {
   "cell_type": "markdown",
   "metadata": {
    "slideshow": {
     "slide_type": "slide"
    }
   },
   "source": [
    "# STL stack member functions\n",
    "\n",
    "* __(constructor)__ Construct stack (public member function )\n",
    "* __empty__ Test whether container is empty (public member function )\n",
    "\n",
    "* __size__ Return size (public member function )\n",
    "\n",
    "* __top__ Access next element (public member function )\n",
    "\n",
    "* __push__ Insert element (public member function )\n",
    "\n",
    "* __emplace__ Construct and insert element (public member function )\n",
    "* __pop__ Remove top element (public member function )\n",
    "* __swap__ Swap contents (public member function )\n",
    "    \n",
    "source: http://www.cplusplus.com/reference/stack/stack/"
   ]
  },
  {
   "cell_type": "code",
   "execution_count": 4,
   "metadata": {
    "slideshow": {
     "slide_type": "slide"
    }
   },
   "outputs": [
    {
     "name": "stderr",
     "output_type": "stream",
     "text": [
      "In file included from input_line_5:1:\n",
      "In file included from /home/hannah/miniconda3/envs/xeus-cling/include/xeus/xinterpreter.hpp:12:\n",
      "In file included from /home/hannah/miniconda3/envs/xeus-cling/bin/../lib/gcc/../../gcc/include/c++/functional:54:\n",
      "In file included from /home/hannah/miniconda3/envs/xeus-cling/bin/../lib/gcc/../../gcc/include/c++/tuple:39:\n",
      "In file included from /home/hannah/miniconda3/envs/xeus-cling/bin/../lib/gcc/../../gcc/include/c++/array:39:\n",
      "In file included from /home/hannah/miniconda3/envs/xeus-cling/bin/../lib/gcc/../../gcc/include/c++/stdexcept:39:\n",
      "In file included from /home/hannah/miniconda3/envs/xeus-cling/bin/../lib/gcc/../../gcc/include/c++/string:40:\n",
      "In file included from /home/hannah/miniconda3/envs/xeus-cling/bin/../lib/gcc/../../gcc/include/c++/bits/char_traits.h:39:\n",
      "In file included from /home/hannah/miniconda3/envs/xeus-cling/bin/../lib/gcc/../../gcc/include/c++/bits/stl_algobase.h:67:\n",
      "In file included from /home/hannah/miniconda3/envs/xeus-cling/bin/../lib/gcc/../../gcc/include/c++/bits/stl_iterator.h:66:\n",
      "\u001b[1m/home/hannah/miniconda3/envs/xeus-cling/bin/../lib/gcc/../../gcc/include/c++/bits/ptr_traits.h:71:44: \u001b[0m\u001b[0;1;31merror: \u001b[0m\u001b[1mno member named 'value' in 'std::is_void<std::__cxx11::basic_string<char, std::char_traits<char>,\n",
      "      std::allocator<char> > >'\u001b[0m\n",
      "      = typename conditional<is_void<_Tp>::value, __undefined, _Tp>::type;\n",
      "\u001b[0;1;32m                             ~~~~~~~~~~~~~~^\n",
      "\u001b[0m\u001b[1m/home/hannah/miniconda3/envs/xeus-cling/bin/../lib/gcc/../../gcc/include/c++/bits/ptr_traits.h:141:18: \u001b[0m\u001b[0;1;30mnote: \u001b[0min instantiation of template type alias '__make_not_void' requested here\u001b[0m\n",
      "      pointer_to(__make_not_void<element_type>& __r) noexcept\n",
      "\u001b[0;1;32m                 ^\n",
      "\u001b[0m\u001b[1m/home/hannah/miniconda3/envs/xeus-cling/bin/../lib/gcc/../../gcc/include/c++/bits/stl_deque.h:118:28: \u001b[0m\u001b[0;1;30mnote: \u001b[0min instantiation of template class 'std::pointer_traits<std::__cxx11::basic_string<char,\n",
      "      std::char_traits<char>, std::allocator<char> > *>' requested here\u001b[0m\n",
      "        using __ptr_to = typename pointer_traits<_Ptr>::template rebind<_Up>;\n",
      "\u001b[0;1;32m                                  ^\n",
      "\u001b[0m\u001b[1m/home/hannah/miniconda3/envs/xeus-cling/bin/../lib/gcc/../../gcc/include/c++/bits/stl_deque.h:544:24: \u001b[0m\u001b[0;1;30mnote: \u001b[0min instantiation of template class 'std::_Deque_iterator<std::__cxx11::basic_string<char,\n",
      "      std::char_traits<char>, std::allocator<char> >, std::__cxx11::basic_string<char,\n",
      "      std::char_traits<char>, std::allocator<char> > &, std::__cxx11::basic_string<char,\n",
      "      std::char_traits<char>, std::allocator<char> > *>' requested here\u001b[0m\n",
      "      typedef typename iterator::_Map_pointer _Map_pointer;\n",
      "\u001b[0;1;32m                       ^\n",
      "\u001b[0m\u001b[1m/home/hannah/miniconda3/envs/xeus-cling/bin/../lib/gcc/../../gcc/include/c++/bits/stl_deque.h:831:29: \u001b[0m\u001b[0;1;30mnote: \u001b[0min instantiation of template class 'std::_Deque_base<std::__cxx11::basic_string<char,\n",
      "      std::char_traits<char>, std::allocator<char> >,\n",
      "      std::allocator<std::__cxx11::basic_string<char, std::char_traits<char>, std::allocator<char>\n",
      "      > > >' requested here\u001b[0m\n",
      "    class deque : protected _Deque_base<_Tp, _Alloc>\n",
      "\u001b[0;1;32m                            ^\n",
      "\u001b[0m\u001b[1m/home/hannah/miniconda3/envs/xeus-cling/bin/../lib/gcc/../../gcc/include/c++/bits/stl_stack.h:126:24: \u001b[0m\u001b[0;1;30mnote: \u001b[0min instantiation of template class 'std::deque<std::__cxx11::basic_string<char,\n",
      "      std::char_traits<char>, std::allocator<char> >,\n",
      "      std::allocator<std::__cxx11::basic_string<char, std::char_traits<char>, std::allocator<char>\n",
      "      > > >' requested here\u001b[0m\n",
      "      typedef typename _Sequence::value_type            value_type;\n",
      "\u001b[0;1;32m                       ^\n",
      "\u001b[0m\u001b[1minput_line_14:3:30: \u001b[0m\u001b[0;1;30mnote: \u001b[0min instantiation of template class 'std::stack<std::__cxx11::basic_string<char,\n",
      "      std::char_traits<char>, std::allocator<char> >, std::deque<std::__cxx11::basic_string<char,\n",
      "      std::char_traits<char>, std::allocator<char> >,\n",
      "      std::allocator<std::__cxx11::basic_string<char, std::char_traits<char>, std::allocator<char>\n",
      "      > > > >' requested here\u001b[0m\n",
      "    std::stack <std::string> store;\n",
      "\u001b[0;1;32m                             ^\n",
      "\u001b[0mIn file included from input_line_1:1:\n",
      "In file included from /home/hannah/miniconda3/envs/xeus-cling/bin/../lib/gcc/../../gcc/include/c++/new:40:\n",
      "In file included from /home/hannah/miniconda3/envs/xeus-cling/bin/../lib/gcc/../../gcc/include/c++/exception:143:\n",
      "In file included from /home/hannah/miniconda3/envs/xeus-cling/bin/../lib/gcc/../../gcc/include/c++/bits/nested_exception.h:40:\n",
      "In file included from /home/hannah/miniconda3/envs/xeus-cling/bin/../lib/gcc/../../gcc/include/c++/bits/move.h:54:\n",
      "\u001b[1m/home/hannah/miniconda3/envs/xeus-cling/bin/../lib/gcc/../../gcc/include/c++/type_traits:901:48: \u001b[0m\u001b[0;1;31merror: \u001b[0m\u001b[1mno member named 'value' in 'std::is_array<std::deque<std::__cxx11::basic_string<char,\n",
      "      std::char_traits<char>, std::allocator<char> >,\n",
      "      std::allocator<std::__cxx11::basic_string<char, std::char_traits<char>, std::allocator<char>\n",
      "      > > > >'\u001b[0m\n",
      "  template<typename _Tp, bool = is_array<_Tp>::value>\n",
      "\u001b[0;1;32m                                ~~~~~~~~~~~~~~~^\n",
      "\u001b[0m\u001b[1m/home/hannah/miniconda3/envs/xeus-cling/bin/../lib/gcc/../../gcc/include/c++/type_traits:924:14: \u001b[0m\u001b[0;1;30mnote: \u001b[0min instantiation of default argument for\n",
      "      '__is_default_constructible_safe<std::deque<std::__cxx11::basic_string<char,\n",
      "      std::char_traits<char>, std::allocator<char> >,\n",
      "      std::allocator<std::__cxx11::basic_string<char, std::char_traits<char>, std::allocator<char>\n",
      "      > > > >' required here\u001b[0m\n",
      "    : public __is_default_constructible_safe<_Tp>::type\n",
      "\u001b[0;1;32m             ^~~~~~~~~~~~~~~~~~~~~~~~~~~~~~~~~~~~\n",
      "\u001b[0m\u001b[1m/home/hannah/miniconda3/envs/xeus-cling/bin/../lib/gcc/../../gcc/include/c++/bits/stl_stack.h:147:19: \u001b[0m\u001b[0;1;30mnote: \u001b[0min instantiation of template class\n",
      "      'std::is_default_constructible<std::deque<std::__cxx11::basic_string<char,\n",
      "      std::char_traits<char>, std::allocator<char> >,\n",
      "      std::allocator<std::__cxx11::basic_string<char, std::char_traits<char>, std::allocator<char>\n",
      "      > > > >' requested here\u001b[0m\n",
      "               enable_if<is_default_constructible<_Seq>::value>::type>\n",
      "\u001b[0;1;32m                         ^\n",
      "\u001b[0m\u001b[1m/home/hannah/miniconda3/envs/xeus-cling/bin/../lib/gcc/../../gcc/include/c++/bits/stl_stack.h:148:2: \u001b[0m\u001b[0;1;30mnote: \u001b[0min instantiation of default argument for 'stack<std::deque<std::__cxx11::basic_string<char,\n",
      "      std::char_traits<char>, std::allocator<char> >,\n",
      "      std::allocator<std::__cxx11::basic_string<char, std::char_traits<char>, std::allocator<char>\n",
      "      > > > >' required here\u001b[0m\n",
      "        stack()\n",
      "\u001b[0;1;32m        ^~~~~~~\n",
      "\u001b[0m\u001b[1minput_line_14:3:30: \u001b[0m\u001b[0;1;30mnote: \u001b[0mwhile substituting deduced template arguments into function template 'stack' [with _Seq =\n",
      "      (no value), _Requires = (no value)]\u001b[0m\n",
      "    std::stack <std::string> store;\n",
      "\u001b[0;1;32m                             ^\n",
      "\u001b[0m\u001b[1minput_line_14:3:30: \u001b[0m\u001b[0;1;31merror: \u001b[0m\u001b[1mno matching constructor for initialization of 'std::stack<std::string>' (aka\n",
      "      'stack<basic_string<char> >')\u001b[0m\n",
      "    std::stack <std::string> store;\n",
      "\u001b[0;1;32m                             ^\n",
      "\u001b[0m\u001b[1m/home/hannah/miniconda3/envs/xeus-cling/bin/../lib/gcc/../../gcc/include/c++/bits/stl_stack.h:148:2: \u001b[0m\u001b[0;1;30mnote: \u001b[0mcandidate template ignored: substitution failure [with _Seq =\n",
      "      std::deque<std::__cxx11::basic_string<char, std::char_traits<char>, std::allocator<char> >,\n",
      "      std::allocator<std::__cxx11::basic_string<char, std::char_traits<char>, std::allocator<char>\n",
      "      > > >]\u001b[0m\n",
      "        stack()\n",
      "\u001b[0;1;32m        ^\n",
      "\u001b[0m\u001b[1m/home/hannah/miniconda3/envs/xeus-cling/bin/../lib/gcc/../../gcc/include/c++/bits/stl_stack.h:161:2: \u001b[0m\u001b[0;1;30mnote: \u001b[0mcandidate constructor template not viable: requires single argument '__a', but no arguments were\n",
      "      provided\u001b[0m\n",
      "        stack(const _Alloc& __a)\n",
      "\u001b[0;1;32m        ^\n"
     ]
    },
    {
     "name": "stderr",
     "output_type": "stream",
     "text": [
      "\u001b[0m\u001b[1m/home/hannah/miniconda3/envs/xeus-cling/bin/../lib/gcc/../../gcc/include/c++/bits/stl_stack.h:165:2: \u001b[0m\u001b[0;1;30mnote: \u001b[0mcandidate constructor template not viable: requires 2 arguments, but 0 were provided\u001b[0m\n",
      "        stack(const _Sequence& __c, const _Alloc& __a)\n",
      "\u001b[0;1;32m        ^\n",
      "\u001b[0m\u001b[1m/home/hannah/miniconda3/envs/xeus-cling/bin/../lib/gcc/../../gcc/include/c++/bits/stl_stack.h:169:2: \u001b[0m\u001b[0;1;30mnote: \u001b[0mcandidate constructor template not viable: requires 2 arguments, but 0 were provided\u001b[0m\n",
      "        stack(_Sequence&& __c, const _Alloc& __a)\n",
      "\u001b[0;1;32m        ^\n",
      "\u001b[0m\u001b[1m/home/hannah/miniconda3/envs/xeus-cling/bin/../lib/gcc/../../gcc/include/c++/bits/stl_stack.h:173:2: \u001b[0m\u001b[0;1;30mnote: \u001b[0mcandidate constructor template not viable: requires 2 arguments, but 0 were provided\u001b[0m\n",
      "        stack(const stack& __q, const _Alloc& __a)\n",
      "\u001b[0;1;32m        ^\n",
      "\u001b[0m\u001b[1m/home/hannah/miniconda3/envs/xeus-cling/bin/../lib/gcc/../../gcc/include/c++/bits/stl_stack.h:177:2: \u001b[0m\u001b[0;1;30mnote: \u001b[0mcandidate constructor template not viable: requires 2 arguments, but 0 were provided\u001b[0m\n",
      "        stack(stack&& __q, const _Alloc& __a)\n",
      "\u001b[0;1;32m        ^\n",
      "\u001b[0m\u001b[1m/home/hannah/miniconda3/envs/xeus-cling/bin/../lib/gcc/../../gcc/include/c++/bits/stl_stack.h:152:7: \u001b[0m\u001b[0;1;30mnote: \u001b[0mcandidate constructor not viable: requires single argument '__c', but no arguments were provided\u001b[0m\n",
      "      stack(const _Sequence& __c)\n",
      "\u001b[0;1;32m      ^\n",
      "\u001b[0m\u001b[1m/home/hannah/miniconda3/envs/xeus-cling/bin/../lib/gcc/../../gcc/include/c++/bits/stl_stack.h:156:7: \u001b[0m\u001b[0;1;30mnote: \u001b[0mcandidate constructor not viable: requires single argument '__c', but no arguments were provided\u001b[0m\n",
      "      stack(_Sequence&& __c)\n",
      "\u001b[0;1;32m      ^\n",
      "\u001b[0m\u001b[1m/home/hannah/miniconda3/envs/xeus-cling/bin/../lib/gcc/../../gcc/include/c++/bits/stl_stack.h:99:11: \u001b[0m\u001b[0;1;30mnote: \u001b[0mcandidate constructor (the implicit copy constructor) not viable: requires 1 argument, but 0 were\n",
      "      provided\u001b[0m\n",
      "    class stack\n",
      "\u001b[0;1;32m          ^\n",
      "\u001b[0m\u001b[1m/home/hannah/miniconda3/envs/xeus-cling/bin/../lib/gcc/../../gcc/include/c++/bits/stl_stack.h:99:11: \u001b[0m\u001b[0;1;30mnote: \u001b[0mcandidate constructor (the implicit move constructor) not viable: requires 1 argument, but 0 were\n",
      "      provided\u001b[0m\n",
      "\u001b[1minput_line_14:5:41: \u001b[0m\u001b[0;1;31merror: \u001b[0m\u001b[1mno member named 'begin' in 'std::__cxx11::basic_string<char, std::char_traits<char>,\n",
      "      std::allocator<char> >'\u001b[0m\n",
      "    for (std::string::iterator it=input.begin(); it!=input.end(); ++it){\n",
      "\u001b[0;1;32m                                  ~~~~~ ^\n",
      "\u001b[0m\u001b[1minput_line_14:5:60: \u001b[0m\u001b[0;1;31merror: \u001b[0m\u001b[1mno member named 'end' in 'std::__cxx11::basic_string<char, std::char_traits<char>,\n",
      "      std::allocator<char> >'\u001b[0m\n",
      "    for (std::string::iterator it=input.begin(); it!=input.end(); ++it){\n",
      "\u001b[0;1;32m                                                     ~~~~~ ^\n",
      "\u001b[0mIn file included from input_line_5:1:\n",
      "In file included from /home/hannah/miniconda3/envs/xeus-cling/include/xeus/xinterpreter.hpp:12:\n",
      "In file included from /home/hannah/miniconda3/envs/xeus-cling/bin/../lib/gcc/../../gcc/include/c++/functional:54:\n",
      "In file included from /home/hannah/miniconda3/envs/xeus-cling/bin/../lib/gcc/../../gcc/include/c++/tuple:39:\n",
      "In file included from /home/hannah/miniconda3/envs/xeus-cling/bin/../lib/gcc/../../gcc/include/c++/array:39:\n",
      "In file included from /home/hannah/miniconda3/envs/xeus-cling/bin/../lib/gcc/../../gcc/include/c++/stdexcept:39:\n",
      "In file included from /home/hannah/miniconda3/envs/xeus-cling/bin/../lib/gcc/../../gcc/include/c++/string:52:\n",
      "\u001b[1m/home/hannah/miniconda3/envs/xeus-cling/bin/../lib/gcc/../../gcc/include/c++/bits/basic_string.h:823:45: \u001b[0m\u001b[0;1;31merror: \u001b[0m\u001b[1mno member named 'end' in 'std::__cxx11::basic_string<char, std::char_traits<char>,\n",
      "      std::allocator<char> >'\u001b[0m\n",
      "      { return const_reverse_iterator(this->end()); }\n",
      "\u001b[0;1;32m                                      ~~~~  ^\n",
      "\u001b[0m\u001b[1minput_line_14:5:41: \u001b[0m\u001b[0;1;30mnote: \u001b[0min instantiation of member function 'std::__cxx11::basic_string<char, std::char_traits<char>,\n",
      "      std::allocator<char> >::rbegin' requested here\u001b[0m\n",
      "    for (std::string::iterator it=input.begin(); it!=input.end(); ++it){\n",
      "\u001b[0;1;32m                                        ^\n",
      "\u001b[0mIn file included from input_line_5:1:\n",
      "In file included from /home/hannah/miniconda3/envs/xeus-cling/include/xeus/xinterpreter.hpp:12:\n",
      "In file included from /home/hannah/miniconda3/envs/xeus-cling/bin/../lib/gcc/../../gcc/include/c++/functional:54:\n",
      "In file included from /home/hannah/miniconda3/envs/xeus-cling/bin/../lib/gcc/../../gcc/include/c++/tuple:39:\n",
      "In file included from /home/hannah/miniconda3/envs/xeus-cling/bin/../lib/gcc/../../gcc/include/c++/array:39:\n",
      "In file included from /home/hannah/miniconda3/envs/xeus-cling/bin/../lib/gcc/../../gcc/include/c++/stdexcept:39:\n",
      "In file included from /home/hannah/miniconda3/envs/xeus-cling/bin/../lib/gcc/../../gcc/include/c++/string:52:\n",
      "\u001b[1m/home/hannah/miniconda3/envs/xeus-cling/bin/../lib/gcc/../../gcc/include/c++/bits/basic_string.h:850:16: \u001b[0m\u001b[0;1;31merror: \u001b[0m\u001b[1mno matching conversion for functional-style cast from 'std::__cxx11::basic_string<char,\n",
      "      std::char_traits<char>, std::allocator<char> >::pointer' (aka 'char *') to\n",
      "      'std::__cxx11::basic_string<char, std::char_traits<char>, std::allocator<char>\n",
      "      >::const_iterator' (aka '__normal_iterator<const char *, std::__cxx11::basic_string<char,\n",
      "      std::char_traits<char>, std::allocator<char> > >')\u001b[0m\n",
      "      { return const_iterator(this->_M_data()); }\n",
      "\u001b[0;1;32m               ^~~~~~~~~~~~~~~~~~~~~~~~~~~~~~\n",
      "\u001b[0m\u001b[1minput_line_14:5:41: \u001b[0m\u001b[0;1;30mnote: \u001b[0min instantiation of member function 'std::__cxx11::basic_string<char, std::char_traits<char>,\n",
      "      std::allocator<char> >::cbegin' requested here\u001b[0m\n",
      "    for (std::string::iterator it=input.begin(); it!=input.end(); ++it){\n",
      "\u001b[0;1;32m                                        ^\n",
      "\u001b[0m\u001b[1m/home/hannah/miniconda3/envs/xeus-cling/bin/../lib/gcc/../../gcc/include/c++/bits/stl_iterator.h:760:11: \u001b[0m\u001b[0;1;30mnote: \u001b[0mcandidate constructor (the implicit copy constructor) not viable: no known conversion from\n",
      "      'std::__cxx11::basic_string<char, std::char_traits<char>, std::allocator<char> >::pointer'\n",
      "      (aka 'char *') to 'const __gnu_cxx::__normal_iterator<const char *,\n",
      "      std::__cxx11::basic_string<char, std::char_traits<char>, std::allocator<char> > >' for 1st\n",
      "      argument\u001b[0m\n",
      "    class __normal_iterator\n",
      "\u001b[0;1;32m          ^\n",
      "\u001b[0m\u001b[1m/home/hannah/miniconda3/envs/xeus-cling/bin/../lib/gcc/../../gcc/include/c++/bits/stl_iterator.h:760:11: \u001b[0m\u001b[0;1;30mnote: \u001b[0mcandidate constructor (the implicit move constructor) not viable: no known conversion from\n",
      "      'std::__cxx11::basic_string<char, std::char_traits<char>, std::allocator<char> >::pointer'\n",
      "      (aka 'char *') to '__gnu_cxx::__normal_iterator<const char *,\n",
      "      std::__cxx11::basic_string<char, std::char_traits<char>, std::allocator<char> > >' for 1st\n",
      "      argument\u001b[0m\n",
      "\u001b[1m/home/hannah/miniconda3/envs/xeus-cling/bin/../lib/gcc/../../gcc/include/c++/bits/stl_iterator.h:784:9: \u001b[0m\u001b[0;1;30mnote: \u001b[0mcandidate template ignored: could not match '__normal_iterator<type-parameter-0-0, typename\n",
      "      __enable_if<(std::__are_same<_Iter, typename basic_string<char, char_traits<char>,\n",
      "      allocator<char> >::pointer>::__value), basic_string<char, char_traits<char>, allocator<char>\n",
      "      > >::__type>' against 'char *'\u001b[0m\n",
      "        __normal_iterator(const __normal_iterator<_Iter,\n",
      "\u001b[0;1;32m        ^\n",
      "\u001b[0m\u001b[1m/home/hannah/miniconda3/envs/xeus-cling/bin/../lib/gcc/../../gcc/include/c++/bits/stl_iterator.h:775:26: \u001b[0m\u001b[0;1;30mnote: \u001b[0mcandidate constructor not viable: requires 0 arguments, but 1 was provided\u001b[0m\n",
      "      _GLIBCXX_CONSTEXPR __normal_iterator() _GLIBCXX_NOEXCEPT\n",
      "\u001b[0;1;32m                         ^\n",
      "\u001b[0mIn file included from input_line_5:1:\n",
      "In file included from /home/hannah/miniconda3/envs/xeus-cling/include/xeus/xinterpreter.hpp:12:\n",
      "In file included from /home/hannah/miniconda3/envs/xeus-cling/bin/../lib/gcc/../../gcc/include/c++/functional:54:\n"
     ]
    },
    {
     "name": "stderr",
     "output_type": "stream",
     "text": [
      "In file included from /home/hannah/miniconda3/envs/xeus-cling/bin/../lib/gcc/../../gcc/include/c++/tuple:39:\n",
      "In file included from /home/hannah/miniconda3/envs/xeus-cling/bin/../lib/gcc/../../gcc/include/c++/array:39:\n",
      "In file included from /home/hannah/miniconda3/envs/xeus-cling/bin/../lib/gcc/../../gcc/include/c++/stdexcept:39:\n",
      "In file included from /home/hannah/miniconda3/envs/xeus-cling/bin/../lib/gcc/../../gcc/include/c++/string:52:\n",
      "\u001b[1m/home/hannah/miniconda3/envs/xeus-cling/bin/../lib/gcc/../../gcc/include/c++/bits/basic_string.h:841:45: \u001b[0m\u001b[0;1;31merror: \u001b[0m\u001b[1mno member named 'begin' in 'std::__cxx11::basic_string<char, std::char_traits<char>,\n",
      "      std::allocator<char> >'\u001b[0m\n",
      "      { return const_reverse_iterator(this->begin()); }\n",
      "\u001b[0;1;32m                                      ~~~~  ^\n",
      "\u001b[0m\u001b[1minput_line_14:5:60: \u001b[0m\u001b[0;1;30mnote: \u001b[0min instantiation of member function 'std::__cxx11::basic_string<char, std::char_traits<char>,\n",
      "      std::allocator<char> >::rend' requested here\u001b[0m\n",
      "    for (std::string::iterator it=input.begin(); it!=input.end(); ++it){\n",
      "\u001b[0;1;32m                                                           ^\n",
      "\u001b[0mIn file included from input_line_5:1:\n",
      "In file included from /home/hannah/miniconda3/envs/xeus-cling/include/xeus/xinterpreter.hpp:12:\n",
      "In file included from /home/hannah/miniconda3/envs/xeus-cling/bin/../lib/gcc/../../gcc/include/c++/functional:54:\n",
      "In file included from /home/hannah/miniconda3/envs/xeus-cling/bin/../lib/gcc/../../gcc/include/c++/tuple:39:\n",
      "In file included from /home/hannah/miniconda3/envs/xeus-cling/bin/../lib/gcc/../../gcc/include/c++/array:39:\n",
      "In file included from /home/hannah/miniconda3/envs/xeus-cling/bin/../lib/gcc/../../gcc/include/c++/stdexcept:39:\n",
      "In file included from /home/hannah/miniconda3/envs/xeus-cling/bin/../lib/gcc/../../gcc/include/c++/string:52:\n",
      "\u001b[1m/home/hannah/miniconda3/envs/xeus-cling/bin/../lib/gcc/../../gcc/include/c++/bits/basic_string.h:858:16: \u001b[0m\u001b[0;1;31merror: \u001b[0m\u001b[1mno matching conversion for functional-style cast from 'std::__cxx11::basic_string<char,\n",
      "      std::char_traits<char>, std::allocator<char> >::pointer' (aka 'char *') to\n",
      "      'std::__cxx11::basic_string<char, std::char_traits<char>, std::allocator<char>\n",
      "      >::const_iterator' (aka '__normal_iterator<const char *, std::__cxx11::basic_string<char,\n",
      "      std::char_traits<char>, std::allocator<char> > >')\u001b[0m\n",
      "      { return const_iterator(this->_M_data() + this->size()); }\n",
      "\u001b[0;1;32m               ^~~~~~~~~~~~~~~~~~~~~~~~~~~~~~~~~~~~~~~~~~~~~\n",
      "\u001b[0m\u001b[1minput_line_14:5:60: \u001b[0m\u001b[0;1;30mnote: \u001b[0min instantiation of member function 'std::__cxx11::basic_string<char, std::char_traits<char>,\n",
      "      std::allocator<char> >::cend' requested here\u001b[0m\n",
      "    for (std::string::iterator it=input.begin(); it!=input.end(); ++it){\n",
      "\u001b[0;1;32m                                                           ^\n",
      "\u001b[0m\u001b[1m/home/hannah/miniconda3/envs/xeus-cling/bin/../lib/gcc/../../gcc/include/c++/bits/stl_iterator.h:760:11: \u001b[0m\u001b[0;1;30mnote: \u001b[0mcandidate constructor (the implicit copy constructor) not viable: no known conversion from\n",
      "      'std::__cxx11::basic_string<char, std::char_traits<char>, std::allocator<char> >::pointer'\n",
      "      (aka 'char *') to 'const __gnu_cxx::__normal_iterator<const char *,\n",
      "      std::__cxx11::basic_string<char, std::char_traits<char>, std::allocator<char> > >' for 1st\n",
      "      argument\u001b[0m\n",
      "    class __normal_iterator\n",
      "\u001b[0;1;32m          ^\n",
      "\u001b[0m\u001b[1m/home/hannah/miniconda3/envs/xeus-cling/bin/../lib/gcc/../../gcc/include/c++/bits/stl_iterator.h:760:11: \u001b[0m\u001b[0;1;30mnote: \u001b[0mcandidate constructor (the implicit move constructor) not viable: no known conversion from\n",
      "      'std::__cxx11::basic_string<char, std::char_traits<char>, std::allocator<char> >::pointer'\n",
      "      (aka 'char *') to '__gnu_cxx::__normal_iterator<const char *,\n",
      "      std::__cxx11::basic_string<char, std::char_traits<char>, std::allocator<char> > >' for 1st\n",
      "      argument\u001b[0m\n",
      "\u001b[1m/home/hannah/miniconda3/envs/xeus-cling/bin/../lib/gcc/../../gcc/include/c++/bits/stl_iterator.h:784:9: \u001b[0m\u001b[0;1;30mnote: \u001b[0mcandidate template ignored: could not match '__normal_iterator<type-parameter-0-0, typename\n",
      "      __enable_if<(std::__are_same<_Iter, typename basic_string<char, char_traits<char>,\n",
      "      allocator<char> >::pointer>::__value), basic_string<char, char_traits<char>, allocator<char>\n",
      "      > >::__type>' against 'char *'\u001b[0m\n",
      "        __normal_iterator(const __normal_iterator<_Iter,\n",
      "\u001b[0;1;32m        ^\n",
      "\u001b[0m\u001b[1m/home/hannah/miniconda3/envs/xeus-cling/bin/../lib/gcc/../../gcc/include/c++/bits/stl_iterator.h:775:26: \u001b[0m\u001b[0;1;30mnote: \u001b[0mcandidate constructor not viable: requires 0 arguments, but 1 was provided\u001b[0m\n",
      "      _GLIBCXX_CONSTEXPR __normal_iterator() _GLIBCXX_NOEXCEPT\n",
      "\u001b[0;1;32m                         ^\n",
      "\u001b[0m"
     ]
    },
    {
     "ename": "Interpreter Error",
     "evalue": "",
     "output_type": "error",
     "traceback": [
      "Interpreter Error: "
     ]
    }
   ],
   "source": [
    "#include <stack>\n",
    "#include <string>\n",
    "std::string reverse(const std::string& input){\n",
    "    std::string output;\n",
    "    std::stack <char> store;\n",
    "\n",
    "    return output;\n",
    "}"
   ]
  },
  {
   "cell_type": "code",
   "execution_count": 3,
   "metadata": {
    "slideshow": {
     "slide_type": "fragment"
    }
   },
   "outputs": [
    {
     "name": "stderr",
     "output_type": "stream",
     "text": [
      "\u001b[1minput_line_12:2:16: \u001b[0m\u001b[0;1;31merror: \u001b[0m\u001b[1muse of undeclared identifier 'reverse'\u001b[0m\n",
      "    std::cout<<reverse(\"Hello\");\n",
      "\u001b[0;1;32m               ^\n",
      "\u001b[0m"
     ]
    },
    {
     "ename": "Interpreter Error",
     "evalue": "",
     "output_type": "error",
     "traceback": [
      "Interpreter Error: "
     ]
    }
   ],
   "source": [
    "#include <iostream>\n",
    "int main(){\n",
    "    std::cout<<reverse(\"Hello\");\n",
    "}"
   ]
  },
  {
   "cell_type": "markdown",
   "metadata": {
    "slideshow": {
     "slide_type": "slide"
    }
   },
   "source": [
    "# Stack Applications: Balanced Parenthesis\n",
    "\n",
    "## Input: `(()())`\n",
    "\n",
    "|input|`(` | `(` | `)` | `(` | `)` |`)`| \n",
    "|-|-|-|-|-|-|-|\n",
    "|operation| push| push | pop | push | pop | pop|\n",
    "|stack|<br>`(`| `(`<br>`(`|<br>`(` | `(`<br>`(` | <br>`(`| |"
   ]
  },
  {
   "cell_type": "code",
   "execution_count": null,
   "metadata": {
    "slideshow": {
     "slide_type": "slide"
    }
   },
   "outputs": [],
   "source": [
    "// implement the is balanced function, and add a test for it in main\n",
    "#include <stack>\n",
    "#include <string>\n",
    "bool is_balanced(const std::string& expression){\n",
    "    //postcondition: A true return value indicates that the parenthesis in the given expression are balanced\n",
    "    //otherwise return false\n",
    "}"
   ]
  },
  {
   "attachments": {},
   "cell_type": "markdown",
   "metadata": {
    "slideshow": {
     "slide_type": "slide"
    }
   },
   "source": [
    "# Stack Applications: N Queens:\n",
    "\n",
    "__Can the ♛  be placed so than no two ♛ are attacking each other?__\n",
    "* 8 Queens ♛ \n",
    "* 8 x 8 chess board:\n",
    "\n",
    "| pos | 1     | 2     | 3     | 4     |  5    | 6     | 7     | 8     |\n",
    "|:---:|:-----:|:-----:|:-----:|:-----:|:-----:|:-----:|:-----:|:-----:|\n",
    "|__1__|<i></i>|<i></i>|<i></i>|<i></i>|<i></i>|<i></i>|<i></i>|<i></i>|  \n",
    "|__2__|<i></i>|<i></i>|<i></i>|<i></i>|<i></i>|<i></i>|<i></i>|<i></i>| \n",
    "|__3__|<i></i>|<i></i>|<i></i>|<i></i>|<i></i>|<i></i>|<i></i>|<i></i>| \n",
    "|__4__|<i></i>|<i></i>|<i></i>|<i></i>|<i></i>|<i></i>|<i></i>|<i></i>| \n",
    "|__5__|<i></i>|<i></i>|<i></i>|<i></i>|<i></i>|<i></i>|<i></i>|<i></i>| \n",
    "|__6__|<i></i>|<i></i>|<i></i>|<i></i>|<i></i>|<i></i>|<i></i>|<i></i>| \n",
    "|__7__|<i></i>|<i></i>|<i></i>|<i></i>|<i></i>|<i></i>|<i></i>|<i></i>|   \n",
    "|__8__|<i></i>|<i></i>|<i></i>|<i></i>|<i></i>|<i></i>|<i></i>|<i></i>| \n",
    "\n",
    "src: textbook slides (Main)"
   ]
  },
  {
   "cell_type": "markdown",
   "metadata": {
    "slideshow": {
     "slide_type": "slide"
    }
   },
   "source": [
    "\n",
    "# Two ♛ are not allowed in the same row\n",
    "| pos | 1     | 2     | 3     | 4     |  5    | 6     | 7     | 8     |\n",
    "|:---:|:-----:|:-----:|:-----:|:-----:|:-----:|:-----:|:-----:|:-----:|\n",
    "|__1__|<i></i>|<i></i>|<i></i>|<i></i>|<i></i>|<i></i>|<i></i>|<i></i>|  \n",
    "|__2__|<i></i>|<i></i>|<i></i>|<i></i>|<i></i>|<i></i>|<i></i>|<i></i>| \n",
    "|__3__|<i></i>|<i></i>|<i></i>|<i></i>|<i></i>|<i></i>|<i></i>|<i></i>| \n",
    "|__4__|<i></i>|<i></i>|<i></i>|<i></i>|<i></i>|<i></i>|<i></i>|<i></i>| \n",
    "|__5__|<i></i>|<i></i>|<i></i>|<i></i>|<i></i>|<i></i>|<i></i>|<i></i>| \n",
    "|__6__|<i></i>|<i></i>|<i></i>|<i></i>|<i></i>|<i></i>|<i></i>|<i></i>| \n",
    "|__7__|<i></i>|<i></i>|<i></i>|<i></i>|<i></i>|<i></i>|<i></i>|<i></i>|   \n",
    "|__8__|<i></i>|<i></i>|<i></i>|<i></i>|  ♛   |<i></i>|<i></i>|   ♛   | \n"
   ]
  },
  {
   "cell_type": "markdown",
   "metadata": {
    "slideshow": {
     "slide_type": "slide"
    }
   },
   "source": [
    "# Two ♛ are not allowed in the same column\n",
    "\n",
    "| pos | 1     | 2     | 3     | 4     |  5    | 6     | 7     | 8     |\n",
    "|:---:|:-----:|:-----:|:-----:|:-----:|:-----:|:-----:|:-----:|:-----:|\n",
    "|__1__|<i></i>|<i></i>|<i></i>|<i></i>|<i></i>|<i></i>|<i></i>|<i></i>|  \n",
    "|__2__|<i></i>|<i></i>|<i></i>|<i></i>|<i></i>|<i></i>|<i></i>|<i></i>| \n",
    "|__3__|<i></i>|<i></i>|<i></i>|<i></i>|<i></i>|<i></i>|<i></i>|<i></i>| \n",
    "|__4__|<i></i>|<i></i>|<i></i>|<i></i>|<i></i>|<i></i>|<i></i>|<i></i>| \n",
    "|__5__|<i></i>|<i></i>|<i></i>|<i></i>|<i></i>|<i></i>|<i></i>|♛     | \n",
    "|__6__|<i></i>|<i></i>|<i></i>|<i></i>|<i></i>|<i></i>|<i></i>|<i></i>| \n",
    "|__7__|<i></i>|<i></i>|<i></i>|<i></i>|<i></i>|<i></i>|<i></i>|<i></i>|   \n",
    "|__8__|<i></i>|<i></i>|<i></i>|<i></i>|<i></i>|<i></i>|<i></i>|   ♛   |"
   ]
  },
  {
   "cell_type": "markdown",
   "metadata": {
    "slideshow": {
     "slide_type": "slide"
    }
   },
   "source": [
    "# Two ♛ are not allowed along the same diagonal \n",
    "| pos | 1     | 2     | 3     | 4     |  5    | 6     | 7     | 8     |\n",
    "|:---:|:-----:|:-----:|:-----:|:-----:|:-----:|:-----:|:-----:|:-----:|\n",
    "|__1__|<i></i>|<i></i>|<i></i>|<i></i>|<i></i>|<i></i>|<i></i>|<i></i>|  \n",
    "|__2__|<i></i>|<i></i>|<i></i>|<i></i>|<i></i>|<i></i>|<i></i>|<i></i>| \n",
    "|__3__|<i></i>|<i></i>|<i></i>|<i></i>|<i></i>|<i></i>|<i></i>|<i></i>| \n",
    "|__4__|<i></i>|<i></i>|<i></i>|<i></i>|<i></i>|<i></i>|<i></i>|<i></i>| \n",
    "|__5__|<i></i>|<i></i>|<i></i>|<i></i>|♛|<i></i>|<i></i>|<i></i>| \n",
    "|__6__|<i></i>|<i></i>|<i></i>|<i></i>|<i></i>|<i></i>|<i></i>|<i></i>| \n",
    "|__7__|<i></i>|<i></i>|<i></i>|<i></i>|<i></i>|<i></i>|<i></i>|<i></i>|   \n",
    "|__8__|<i></i>|<i></i>|<i></i>|<i></i>|<i></i>|<i></i>|<i></i>|♛| "
   ]
  },
  {
   "cell_type": "markdown",
   "metadata": {
    "slideshow": {
     "slide_type": "slide"
    }
   },
   "source": [
    "# Rules for the N-♛ problem:\n",
    "1. Number of queens and the size of the board can vary:\n",
    "    * N x N board\n",
    "    * N Queens ♛\n",
    "2. Two ♛ are not allowed:\n",
    "    * in the same row\n",
    "    * in the same column\n",
    "    * along the same diagonal\n",
    "    \n",
    "__Task__: Write a program which tries to find a way to place N queens on an N x N chess board."
   ]
  },
  {
   "cell_type": "markdown",
   "metadata": {
    "slideshow": {
     "slide_type": "slide"
    }
   },
   "source": [
    "How the program works:\n",
    "* Stack to keep track of where each queen is placed (backtracking)\n",
    "* 4 ♛ on a 4 x 4 board:\n",
    "\n",
    "|stack  |<i></i>| pos | 1     | 2     | 3     | 4     | \n",
    "|:-----:|:-----:|:---:|:-----:|:-----:|:-----:|:-----:|\n",
    "|<i></i>|<i></i>|__1__|<i></i>|<i></i>|<i></i>|<i></i>|\n",
    "|<i></i>|<i></i>|__2__|<i></i>|<i></i>|<i></i>|<i></i>|\n",
    "|<i></i>|<i></i>|__3__|<i></i>|<i></i>|<i></i>|<i></i>| \n",
    "|<i></i>|<i></i>|__4__|<i></i>|<i></i>|<i></i>|<i></i>| \n"
   ]
  },
  {
   "cell_type": "markdown",
   "metadata": {
    "slideshow": {
     "slide_type": "slide"
    }
   },
   "source": [
    "Each time the queen is placed on the board, the position of the queen is pushed on the stack (row, column):\n",
    "\n",
    "|stack  |<i></i>| pos | 1     | 2     | 3     | 4     | \n",
    "|:-----:|:-----:|:---:|:-----:|:-----:|:-----:|:-----:|\n",
    "|<i></i>|<i></i>|__1__|<i></i>|<i></i>|<i></i>|<i></i>|\n",
    "|<i></i>|<i></i>|__2__|<i></i>|<i></i>|<i></i>|<i></i>|\n",
    "|<i></i>|<i></i>|__3__|<i></i>|<i></i>|<i></i>|<i></i>| \n",
    "|(4, 1) |<i></i>|__4__|♛|<i></i>|<i></i>|<i></i>| "
   ]
  },
  {
   "cell_type": "markdown",
   "metadata": {
    "slideshow": {
     "slide_type": "slide"
    }
   },
   "source": [
    "Let's also record how many rows have been filled using a variabled called filled. \n",
    "```cpp\n",
    "int filled = 0;\n",
    "```\n",
    "\n",
    "|stack  |<i></i>| pos | 1     | 2     | 3     | 4     | \n",
    "|:-----:|:-----:|:---:|:-----:|:-----:|:-----:|:-----:|\n",
    "|<i></i>|<i></i>|__1__|<i></i>|<i></i>|<i></i>|<i></i>|\n",
    "|<i></i>|<i></i>|__2__|<i></i>|<i></i>|<i></i>|<i></i>|\n",
    "|<i></i>|<i></i>|__3__|<i></i>|<i></i>|<i></i>|<i></i>| \n",
    "|(4, 1) |<i></i>|__4__|♛|<i></i>|<i></i>|<i></i>| \n",
    "\n",
    "Increment filled once the ♛ is placed in a position where there are no conflicts\n",
    "\n",
    "__filled__: 1"
   ]
  },
  {
   "cell_type": "markdown",
   "metadata": {
    "slideshow": {
     "slide_type": "slide"
    }
   },
   "source": [
    "For every new row, we first try to place the queen in column 1:\n",
    "\n",
    "|stack  |<i></i>| pos | 1     | 2     | 3     | 4     | \n",
    "|:-----:|:-----:|:---:|:-----:|:-----:|:-----:|:-----:|\n",
    "|<i></i>|<i></i>|__1__|<i></i>|<i></i>|<i></i>|<i></i>|\n",
    "|<i></i>|<i></i>|__2__|<i></i>|<i></i>|<i></i>|<i></i>|\n",
    "| (3, 1)|<i></i>|__3__|♛|<i></i>|<i></i>|<i></i>| \n",
    "|(4, 1) |<i></i>|__4__|♛|<i></i>|<i></i>|<i></i>| \n",
    "\n",
    "__filled__: 1"
   ]
  },
  {
   "cell_type": "markdown",
   "metadata": {
    "slideshow": {
     "slide_type": "slide"
    }
   },
   "source": [
    "But if one of our rules are violated, we shift the queen:\n",
    "\n",
    "|stack  |<i></i>| pos | 1     | 2     | 3     | 4     | \n",
    "|:-----:|:-----:|:---:|:-----:|:-----:|:-----:|:-----:|\n",
    "|<i></i>|<i></i>|__1__|<i></i>|<i></i>|<i></i>|<i></i>|\n",
    "|<i></i>|<i></i>|__2__|<i></i>|<i></i>|<i></i>|<i></i>|\n",
    "| (3, 2)|<i></i>|__3__|<i></i>|♛|<i></i>|<i></i>| \n",
    "|(4, 1) |<i></i>|__4__|♛|<i></i>|<i></i>|<i></i>| \n",
    "\n",
    "__filled__: 1"
   ]
  },
  {
   "cell_type": "markdown",
   "metadata": {
    "slideshow": {
     "slide_type": "slide"
    }
   },
   "source": [
    "And we keep shifting rightward until there's no conflict:\n",
    "\n",
    "|stack  |<i></i>| pos | 1     | 2     | 3     | 4     | \n",
    "|:-----:|:-----:|:---:|:-----:|:-----:|:-----:|:-----:|\n",
    "|<i></i>|<i></i>|__1__|<i></i>|<i></i>|<i></i>|<i></i>|\n",
    "|<i></i>|<i></i>|__2__|<i></i>|<i></i>|<i></i>|<i></i>|\n",
    "| (3, 3)|<i></i>|__3__|<i></i>|<i></i>|♛|<i></i>| \n",
    "|(4, 1) |<i></i>|__4__|♛|<i></i>|<i></i>|<i></i>| \n",
    "\n",
    "__filled__: 1"
   ]
  },
  {
   "cell_type": "markdown",
   "metadata": {
    "slideshow": {
     "slide_type": "slide"
    }
   },
   "source": [
    "When there are no conflicts, we stop and add one to filled:\n",
    "\n",
    "|stack  |<i></i>| pos | 1     | 2     | 3     | 4     | \n",
    "|:-----:|:-----:|:---:|:-----:|:-----:|:-----:|:-----:|\n",
    "|<i></i>|<i></i>|__1__|<i></i>|<i></i>|<i></i>|<i></i>|\n",
    "|<i></i>|<i></i>|__2__|<i></i>|<i></i>|<i></i>|<i></i>|\n",
    "| (3, 3)|<i></i>|__3__|<i></i>|<i></i>|♛|<i></i>| \n",
    "|(4, 1) |<i></i>|__4__|♛|<i></i>|<i></i>|<i></i>| \n",
    "\n",
    "__filled__: 2"
   ]
  },
  {
   "cell_type": "markdown",
   "metadata": {
    "slideshow": {
     "slide_type": "slide"
    }
   },
   "source": [
    "Then we move on to the next row. The first position has a conflict:\n",
    "\n",
    "|stack  |<i></i>| pos | 1     | 2     | 3     | 4     | \n",
    "|:-----:|:-----:|:---:|:-----:|:-----:|:-----:|:-----:|\n",
    "|<i></i>|<i></i>|__1__|<i></i>|<i></i>|<i></i>|<i></i>|\n",
    "| (2, 1)|<i></i>|__2__|♛|<i></i>|<i></i>|<i></i>|\n",
    "| (3, 3)|<i></i>|__3__|<i></i>|<i></i>|♛|<i></i>| \n",
    "|(4, 1) |<i></i>|__4__|♛|<i></i>|<i></i>|<i></i>| \n",
    "\n",
    "__filled__: 2"
   ]
  },
  {
   "cell_type": "markdown",
   "metadata": {
    "slideshow": {
     "slide_type": "slide"
    }
   },
   "source": [
    "The second position has a conflict:\n",
    "\n",
    "|stack  |<i></i>| pos | 1     | 2     | 3     | 4     | \n",
    "|:-----:|:-----:|:---:|:-----:|:-----:|:-----:|:-----:|\n",
    "|<i></i>|<i></i>|__1__|<i></i>|<i></i>|<i></i>|<i></i>|\n",
    "| (2, 2)|<i></i>|__2__|<i><i> |♛     |<i></i>|<i></i>|\n",
    "| (3, 3)|<i></i>|__3__|<i></i>|<i></i>|♛|<i></i>| \n",
    "|(4, 1) |<i></i>|__4__|♛|<i></i>|<i></i>|<i></i>| \n",
    "\n",
    "__filled__: 2"
   ]
  },
  {
   "cell_type": "markdown",
   "metadata": {
    "slideshow": {
     "slide_type": "slide"
    }
   },
   "source": [
    "The third position has a conflict:\n",
    "\n",
    "|stack  |<i></i>| pos | 1     | 2     | 3     | 4     | \n",
    "|:-----:|:-----:|:---:|:-----:|:-----:|:-----:|:-----:|\n",
    "|<i></i>|<i></i>|__1__|<i></i>|<i></i>|<i></i>|<i></i>|\n",
    "| (2, 3)|<i></i>|__2__|<i></i>|<i></i>|♛|<i></i>|\n",
    "| (3, 3)|<i></i>|__3__|<i></i>|<i></i>|♛|<i></i>| \n",
    "|(4, 1) |<i></i>|__4__|♛|<i></i>|<i></i>|<i></i>| \n",
    "\n",
    "__filled__: 2"
   ]
  },
  {
   "cell_type": "markdown",
   "metadata": {
    "slideshow": {
     "slide_type": "slide"
    }
   },
   "source": [
    "The fourth position has a conflict:\n",
    "\n",
    "|stack  |<i></i>| pos | 1     | 2     | 3     | 4     | \n",
    "|:-----:|:-----:|:---:|:-----:|:-----:|:-----:|:-----:|\n",
    "|<i></i>|<i></i>|__1__|<i></i>|<i></i>|<i></i>|<i></i>|\n",
    "| (2, 4)|<i></i>|__2__|<i></i>|<i></i>|<i></i>|♛|\n",
    "| (3, 3)|<i></i>|__3__|<i></i>|<i></i>|♛|<i></i>| \n",
    "|(4, 1) |<i></i>|__4__|♛|<i></i>|<i></i>|<i></i>| \n",
    "\n",
    "__filled__: 2"
   ]
  },
  {
   "cell_type": "markdown",
   "metadata": {
    "slideshow": {
     "slide_type": "slide"
    }
   },
   "source": [
    "There are no positions left!\n",
    "\n",
    "|stack  |<i></i>| pos | 1     | 2     | 3     | 4     | \n",
    "|:-----:|:-----:|:---:|:-----:|:-----:|:-----:|:-----:|\n",
    "|<i></i>|<i></i>|__1__|<i></i>|<i></i>|<i></i>|<i></i>|\n",
    "| (2, ??)|<i></i>|__2__|<i></i>|<i></i>|<i></i>|<i></i>|\n",
    "| (3, 3)|<i></i>|__3__|<i></i>|<i></i>|♛|<i></i>| \n",
    "|(4, 1) |<i></i>|__4__|♛|<i></i>|<i></i>|<i></i>| \n",
    "\n",
    "__filled__: 2"
   ]
  },
  {
   "cell_type": "markdown",
   "metadata": {
    "slideshow": {
     "slide_type": "slide"
    }
   },
   "source": [
    "# How do we place all the queens? \n",
    "When there are no positions left in a row:\n",
    "1. pop the stack\n",
    "2. reduce filled by 1\n",
    "3. shift the queen rightward on the previous row\n",
    "\n",
    "|stack  |<i></i>| pos | 1     | 2     | 3     | 4     | \n",
    "|:-----:|:-----:|:---:|:-----:|:-----:|:-----:|:-----:|\n",
    "|<i></i>|<i></i>|__1__|<i></i>|<i></i>|<i></i>|<i></i>|\n",
    "|<i></i>|<i></i>|__2__|<i></i>|<i></i>|<i></i>|<i></i>|\n",
    "| (3, 3)|<i></i>|__3__|<i></i>|<i></i>|♛|<i></i>| \n",
    "|(4, 1) |<i></i>|__4__|♛|<i></i>|<i></i>|<i></i>| \n",
    "\n",
    "__filled__: 1"
   ]
  },
  {
   "cell_type": "markdown",
   "metadata": {
    "slideshow": {
     "slide_type": "slide"
    }
   },
   "source": [
    "__Step 3__: shift queen to right\n",
    "\n",
    "|stack  |<i></i>| pos | 1     | 2     | 3     | 4     | \n",
    "|:-----:|:-----:|:---:|:-----:|:-----:|:-----:|:-----:|\n",
    "|<i></i>|<i></i>|__1__|<i></i>|<i></i>|<i></i>|<i></i>|\n",
    "|<i></i>|<i></i>|__2__|<i></i>|<i></i>|<i></i>|<i></i>|\n",
    "| (3, 3)|<i></i>|__3__|<i></i>|<i></i>|<i></i>| ♛|\n",
    "|(4, 1) |<i></i>|__4__|♛|<i></i>|<i></i>|<i></i>| \n",
    "\n",
    "__filled__: 1"
   ]
  },
  {
   "cell_type": "markdown",
   "metadata": {
    "slideshow": {
     "slide_type": "slide"
    }
   },
   "source": [
    "No conflicts, so filled gets incremented\n",
    "\n",
    "|stack  |<i></i>| pos | 1     | 2     | 3     | 4     | \n",
    "|:-----:|:-----:|:---:|:-----:|:-----:|:-----:|:-----:|\n",
    "|<i></i>|<i></i>|__1__|<i></i>|<i></i>|<i></i>|<i></i>|\n",
    "|<i></i>|<i></i>|__2__|<i></i>|<i></i>|<i></i>|<i></i>|\n",
    "| (3, 3)|<i></i>|__3__|<i></i>|<i></i>|<i></i>| ♛|\n",
    "|(4, 1) |<i></i>|__4__|♛|<i></i>|<i></i>|<i></i>| \n",
    "\n",
    "__filled__: 2"
   ]
  },
  {
   "cell_type": "markdown",
   "metadata": {
    "slideshow": {
     "slide_type": "slide"
    }
   },
   "source": [
    "Now start again on the third row:\n",
    "\n",
    "|stack  |<i></i>| pos | 1     | 2     | 3     | 4     | \n",
    "|:-----:|:-----:|:---:|:-----:|:-----:|:-----:|:-----:|\n",
    "|<i></i>|<i></i>|__1__|<i></i>|<i></i>|<i></i>|<i></i>|\n",
    "| (2, 1)|<i></i>|__2__|♛|<i></i>|<i></i>|<i></i>|\n",
    "| (3, 3)|<i></i>|__3__|<i></i>|<i></i>|<i></i>|♛| \n",
    "|(4, 1) |<i></i>|__4__|♛|<i></i>|<i></i>|<i></i>| \n",
    "\n",
    "__filled__: 2"
   ]
  },
  {
   "cell_type": "markdown",
   "metadata": {
    "slideshow": {
     "slide_type": "slide"
    }
   },
   "source": [
    "There's a conflict, so shift: \n",
    "\n",
    "|stack  |<i></i>| pos | 1     | 2     | 3     | 4     | \n",
    "|:-----:|:-----:|:---:|:-----:|:-----:|:-----:|:-----:|\n",
    "|<i></i>|<i></i>|__1__|<i></i>|<i></i>|<i></i>|<i></i>|\n",
    "| (2, 2)|<i></i>|__2__|<i></i>|♛|<i></i>|<i></i>|\n",
    "| (3, 3)|<i></i>|__3__|<i></i>|<i></i>|<i></i>|♛| \n",
    "|(4, 1) |<i></i>|__4__|♛|<i></i>|<i></i>|<i></i>| \n",
    "\n",
    "__filled__: 2"
   ]
  },
  {
   "cell_type": "markdown",
   "metadata": {
    "slideshow": {
     "slide_type": "slide"
    }
   },
   "source": [
    "# How to program N-Queens?\n",
    "* initialize a stack to keep track of moves\n",
    "* place the first queen\n",
    "    + push its position on the stack\n",
    "    + set filled to 0\n",
    "* repeat with following queens:\n",
    "    + no conflicts: ...\n",
    "    + conflict & room to shift rightward: ...\n",
    "    + conflict & no room to shift: ...\n",
    "   "
   ]
  },
  {
   "cell_type": "code",
   "execution_count": null,
   "metadata": {},
   "outputs": [],
   "source": []
  }
 ],
 "metadata": {
  "celltoolbar": "Slideshow",
  "kernelspec": {
   "display_name": "C++17",
   "language": "C++17",
   "name": "xeus-cling-cpp17"
  },
  "language_info": {
   "codemirror_mode": "text/x-c++src",
   "file_extension": ".cpp",
   "mimetype": "text/x-c++src",
   "name": "c++",
   "version": "-std=c++17"
  }
 },
 "nbformat": 4,
 "nbformat_minor": 2
}
