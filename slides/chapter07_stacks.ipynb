{
 "cells": [
  {
   "cell_type": "markdown",
   "metadata": {
    "slideshow": {
     "slide_type": "slide"
    }
   },
   "source": [
    "# Chapter 07: Stacks"
   ]
  },
  {
   "cell_type": "markdown",
   "metadata": {
    "slideshow": {
     "slide_type": "slide"
    }
   },
   "source": [
    "# Objectives\n",
    "* understand stack operations: push, pop, top, and peek \n",
    "* use the STL stack class to implement stack based algorithms\n",
    "* implement a custom stack class using an array or linked list"
   ]
  },
  {
   "cell_type": "markdown",
   "metadata": {
    "slideshow": {
     "slide_type": "slide"
    }
   },
   "source": [
    "![image of four books stacked one on top of another](figures\\chap07\\books.jpg??)\n",
    "https://www.flickr.com/photos/ginnerobot/4552277923/"
   ]
  },
  {
   "cell_type": "markdown",
   "metadata": {
    "slideshow": {
     "slide_type": "slide"
    }
   },
   "source": [
    "# Characteristics of a stack\n",
    "* entries are ordered\n",
    "* entries are inserted and removed at the same end\n",
    "    + __LIFO__ - last in, first out\n",
    "    + __push__ - entry added to top of stack\n",
    "    + __pop__ - entry removed from top of stack\n",
    "* stack errors:\n",
    "    + __underflow__ - pop an entry from an empty stack\n",
    "    + __overflow__ - push an entry on a full stack"
   ]
  },
  {
   "cell_type": "markdown",
   "metadata": {
    "slideshow": {
     "slide_type": "slide"
    }
   },
   "source": [
    "# Programming Example: Reversing a Word"
   ]
  },
  {
   "cell_type": "markdown",
   "metadata": {
    "slideshow": {
     "slide_type": "fragment"
    }
   },
   "source": [
    "# Push `Hello` onto the stack\n",
    "| H | e | l | l | o |\n",
    "|:--:|:--:|:--:|:---:|:---:|\n",
    "|<br><br><br><br> H | <br> <br><br>e<br>H | <br><br>l<br>e<br>H | <br>l<br>l<br>e<br>H | o<br>l<br>l<br>e<br>H|\n",
    "\n",
    "The top of the stack is `o`"
   ]
  },
  {
   "cell_type": "markdown",
   "metadata": {
    "slideshow": {
     "slide_type": "fragment"
    }
   },
   "source": [
    "# Pop the stack:\n",
    "    \n",
    "\n",
    "| o | l | l | e | H |\n",
    "|:--:|:--:|:--:|:---:|:---:|\n",
    "|l<br>l<br>e<br>H|<br>l<br>e<br>H|<br><br>e<br>H |<br><br><br> H | |\n"
   ]
  },
  {
   "cell_type": "markdown",
   "metadata": {
    "slideshow": {
     "slide_type": "slide"
    }
   },
   "source": [
    "# How do we implement this? \n",
    "\n",
    "    while (there are more characters of the word to read)\n",
    "        read a character, and push onto the the stack\n",
    "    \n",
    "    while (the stack is not empty)\n",
    "        write the top character to the screen, and pop it off the stack"
   ]
  },
  {
   "cell_type": "markdown",
   "metadata": {
    "slideshow": {
     "slide_type": "slide"
    }
   },
   "source": [
    "# STL stack member functions\n",
    "\n",
    "* __(constructor)__ Construct stack (public member function )\n",
    "* __empty__ Test whether container is empty (public member function )\n",
    "\n",
    "* __size__ Return size (public member function )\n",
    "\n",
    "* __top__ Access next element (public member function )\n",
    "\n",
    "* __push__ Insert element (public member function )\n",
    "\n",
    "* __emplace__ Construct and insert element (public member function )\n",
    "* __pop__ Remove top element (public member function )\n",
    "* __swap__ Swap contents (public member function )\n",
    "    \n",
    "source: http://www.cplusplus.com/reference/stack/stack/"
   ]
  },
  {
   "cell_type": "code",
   "execution_count": 13,
   "metadata": {
    "slideshow": {
     "slide_type": "slide"
    }
   },
   "outputs": [],
   "source": [
    "#include <stack>\n",
    "#include <string>\n",
    "std::string reverse(const std::string& input){\n",
    "    std::string output;\n",
    "    //write code to implement reversal\n",
    "    std::stack <std::string> store;\n",
    "    return output;\n",
    "}"
   ]
  },
  {
   "cell_type": "code",
   "execution_count": 12,
   "metadata": {
    "slideshow": {
     "slide_type": "fragment"
    }
   },
   "outputs": [],
   "source": [
    "#include <iostream>\n",
    "int main(){\n",
    "    std::cout<<reverse(\"Hello\");\n",
    "}"
   ]
  },
  {
   "cell_type": "markdown",
   "metadata": {
    "slideshow": {
     "slide_type": "slide"
    }
   },
   "source": [
    "# Stack Applications: Balanced Parenthesis\n",
    "\n",
    "## Input: `(()())`\n",
    "\n",
    "|input|`(` | `(` | `)` | `(` | `)` |`)`| \n",
    "|-|-|-|-|-|-|-|\n",
    "|operation| push| push | pop | push | pop | pop|\n",
    "|stack|<br>`(`| `(`<br>`(`|<br>`(` | `(`<br>`(` | <br>`(`| |"
   ]
  },
  {
   "cell_type": "code",
   "execution_count": null,
   "metadata": {
    "slideshow": {
     "slide_type": "slide"
    }
   },
   "outputs": [],
   "source": [
    "// implement the is balanced function, and add a test for it in main\n",
    "#include <stack>\n",
    "#include <string>\n",
    "bool is_balanced(const std::string& expression){\n",
    "    //postcondition: A true return value indicates that the parenthesis in the given expression are balanced\n",
    "    //otherwise return false\n",
    "}"
   ]
  },
  {
   "attachments": {},
   "cell_type": "markdown",
   "metadata": {
    "slideshow": {
     "slide_type": "slide"
    }
   },
   "source": [
    "# Stack Applications: N Queens:\n",
    "\n",
    "__Can the ♛  be placed so than no two ♛ are attacking each other?__\n",
    "* 8 Queens ♛ \n",
    "* 8 x 8 chess board:\n",
    "\n",
    "| pos | 1     | 2     | 3     | 4     |  5    | 6     | 7     | 8     |\n",
    "|:---:|:-----:|:-----:|:-----:|:-----:|:-----:|:-----:|:-----:|:-----:|\n",
    "|__1__|<i></i>|<i></i>|<i></i>|<i></i>|<i></i>|<i></i>|<i></i>|<i></i>|  \n",
    "|__2__|<i></i>|<i></i>|<i></i>|<i></i>|<i></i>|<i></i>|<i></i>|<i></i>| \n",
    "|__3__|<i></i>|<i></i>|<i></i>|<i></i>|<i></i>|<i></i>|<i></i>|<i></i>| \n",
    "|__4__|<i></i>|<i></i>|<i></i>|<i></i>|<i></i>|<i></i>|<i></i>|<i></i>| \n",
    "|__5__|<i></i>|<i></i>|<i></i>|<i></i>|<i></i>|<i></i>|<i></i>|<i></i>| \n",
    "|__6__|<i></i>|<i></i>|<i></i>|<i></i>|<i></i>|<i></i>|<i></i>|<i></i>| \n",
    "|__7__|<i></i>|<i></i>|<i></i>|<i></i>|<i></i>|<i></i>|<i></i>|<i></i>|   \n",
    "|__8__|<i></i>|<i></i>|<i></i>|<i></i>|<i></i>|<i></i>|<i></i>|<i></i>| \n",
    "\n",
    "src: textbook slides (Main)"
   ]
  },
  {
   "cell_type": "markdown",
   "metadata": {
    "slideshow": {
     "slide_type": "slide"
    }
   },
   "source": [
    "\n",
    "# Two ♛ are not allowed in the same row\n",
    "| pos | 1     | 2     | 3     | 4     |  5    | 6     | 7     | 8     |\n",
    "|:---:|:-----:|:-----:|:-----:|:-----:|:-----:|:-----:|:-----:|:-----:|\n",
    "|__1__|<i></i>|<i></i>|<i></i>|<i></i>|<i></i>|<i></i>|<i></i>|<i></i>|  \n",
    "|__2__|<i></i>|<i></i>|<i></i>|<i></i>|<i></i>|<i></i>|<i></i>|<i></i>| \n",
    "|__3__|<i></i>|<i></i>|<i></i>|<i></i>|<i></i>|<i></i>|<i></i>|<i></i>| \n",
    "|__4__|<i></i>|<i></i>|<i></i>|<i></i>|<i></i>|<i></i>|<i></i>|<i></i>| \n",
    "|__5__|<i></i>|<i></i>|<i></i>|<i></i>|<i></i>|<i></i>|<i></i>|<i></i>| \n",
    "|__6__|<i></i>|<i></i>|<i></i>|<i></i>|<i></i>|<i></i>|<i></i>|<i></i>| \n",
    "|__7__|<i></i>|<i></i>|<i></i>|<i></i>|<i></i>|<i></i>|<i></i>|<i></i>|   \n",
    "|__8__|<i></i>|<i></i>|<i></i>|<i></i>|  ♛   |<i></i>|<i></i>|   ♛   | \n"
   ]
  },
  {
   "cell_type": "markdown",
   "metadata": {
    "slideshow": {
     "slide_type": "slide"
    }
   },
   "source": [
    "# Two ♛ are not allowed in the same column\n",
    "\n",
    "| pos | 1     | 2     | 3     | 4     |  5    | 6     | 7     | 8     |\n",
    "|:---:|:-----:|:-----:|:-----:|:-----:|:-----:|:-----:|:-----:|:-----:|\n",
    "|__1__|<i></i>|<i></i>|<i></i>|<i></i>|<i></i>|<i></i>|<i></i>|<i></i>|  \n",
    "|__2__|<i></i>|<i></i>|<i></i>|<i></i>|<i></i>|<i></i>|<i></i>|<i></i>| \n",
    "|__3__|<i></i>|<i></i>|<i></i>|<i></i>|<i></i>|<i></i>|<i></i>|<i></i>| \n",
    "|__4__|<i></i>|<i></i>|<i></i>|<i></i>|<i></i>|<i></i>|<i></i>|<i></i>| \n",
    "|__5__|<i></i>|<i></i>|<i></i>|<i></i>|<i></i>|<i></i>|<i></i>|♛     | \n",
    "|__6__|<i></i>|<i></i>|<i></i>|<i></i>|<i></i>|<i></i>|<i></i>|<i></i>| \n",
    "|__7__|<i></i>|<i></i>|<i></i>|<i></i>|<i></i>|<i></i>|<i></i>|<i></i>|   \n",
    "|__8__|<i></i>|<i></i>|<i></i>|<i></i>|<i></i>|<i></i>|<i></i>|   ♛   |"
   ]
  },
  {
   "cell_type": "markdown",
   "metadata": {
    "slideshow": {
     "slide_type": "slide"
    }
   },
   "source": [
    "# Two ♛ are not allowed along the same diagonal \n",
    "| pos | 1     | 2     | 3     | 4     |  5    | 6     | 7     | 8     |\n",
    "|:---:|:-----:|:-----:|:-----:|:-----:|:-----:|:-----:|:-----:|:-----:|\n",
    "|__1__|<i></i>|<i></i>|<i></i>|<i></i>|<i></i>|<i></i>|<i></i>|<i></i>|  \n",
    "|__2__|<i></i>|<i></i>|<i></i>|<i></i>|<i></i>|<i></i>|<i></i>|<i></i>| \n",
    "|__3__|<i></i>|<i></i>|<i></i>|<i></i>|<i></i>|<i></i>|<i></i>|<i></i>| \n",
    "|__4__|<i></i>|<i></i>|<i></i>|<i></i>|<i></i>|<i></i>|<i></i>|<i></i>| \n",
    "|__5__|<i></i>|<i></i>|<i></i>|<i></i>|♛|<i></i>|<i></i>|<i></i>| \n",
    "|__6__|<i></i>|<i></i>|<i></i>|<i></i>|<i></i>|<i></i>|<i></i>|<i></i>| \n",
    "|__7__|<i></i>|<i></i>|<i></i>|<i></i>|<i></i>|<i></i>|<i></i>|<i></i>|   \n",
    "|__8__|<i></i>|<i></i>|<i></i>|<i></i>|<i></i>|<i></i>|<i></i>|♛| "
   ]
  },
  {
   "cell_type": "markdown",
   "metadata": {
    "slideshow": {
     "slide_type": "slide"
    }
   },
   "source": [
    "# Rules for the N-♛ problem:\n",
    "1. Number of queens and the size of the board can vary:\n",
    "    * N x N board\n",
    "    * N Queens ♛\n",
    "2. Two ♛ are now allowed:\n",
    "    * in the same row\n",
    "    * in the same column\n",
    "    * along the same diagonal\n",
    "    \n",
    "__Task__: Write a program which tries to find a way to place N queens on an N x N chess board."
   ]
  },
  {
   "cell_type": "markdown",
   "metadata": {
    "slideshow": {
     "slide_type": "slide"
    }
   },
   "source": [
    "How the program works:\n",
    "* Stack to keep track of where each queen is placed (backtracking)\n",
    "* 4 ♛ on a 4 x 4 board:\n",
    "\n",
    "|stack  |<i></i>| pos | 1     | 2     | 3     | 4     | \n",
    "|:-----:|:-----:|:---:|:-----:|:-----:|:-----:|:-----:|\n",
    "|<i></i>|<i></i>|__1__|<i></i>|<i></i>|<i></i>|<i></i>|\n",
    "|<i></i>|<i></i>|__2__|<i></i>|<i></i>|<i></i>|<i></i>|\n",
    "|<i></i>|<i></i>|__3__|<i></i>|<i></i>|<i></i>|<i></i>| \n",
    "|<i></i>|<i></i>|__4__|<i></i>|<i></i>|<i></i>|<i></i>| \n"
   ]
  },
  {
   "cell_type": "markdown",
   "metadata": {
    "slideshow": {
     "slide_type": "slide"
    }
   },
   "source": [
    "Each time the queen is placed on the board, the position of the queen is pushed on the stack (row, columns):\n",
    "\n",
    "|stack  |<i></i>| pos | 1     | 2     | 3     | 4     | \n",
    "|:-----:|:-----:|:---:|:-----:|:-----:|:-----:|:-----:|\n",
    "|<i></i>|<i></i>|__1__|<i></i>|<i></i>|<i></i>|<i></i>|\n",
    "|<i></i>|<i></i>|__2__|<i></i>|<i></i>|<i></i>|<i></i>|\n",
    "|<i></i>|<i></i>|__3__|<i></i>|<i></i>|<i></i>|<i></i>| \n",
    "|(4, 1) |<i></i>|__4__|♛|<i></i>|<i></i>|<i></i>| "
   ]
  },
  {
   "cell_type": "markdown",
   "metadata": {
    "slideshow": {
     "slide_type": "slide"
    }
   },
   "source": [
    "Let's also record how many rows have been filled using a variabled called filled. \n",
    "```cpp\n",
    "int filled = 0;\n",
    "```\n",
    "\n",
    "|stack  |<i></i>| pos | 1     | 2     | 3     | 4     | \n",
    "|:-----:|:-----:|:---:|:-----:|:-----:|:-----:|:-----:|\n",
    "|<i></i>|<i></i>|__1__|<i></i>|<i></i>|<i></i>|<i></i>|\n",
    "|<i></i>|<i></i>|__2__|<i></i>|<i></i>|<i></i>|<i></i>|\n",
    "|<i></i>|<i></i>|__3__|<i></i>|<i></i>|<i></i>|<i></i>| \n",
    "|(4, 1) |<i></i>|__4__|♛|<i></i>|<i></i>|<i></i>| \n",
    "\n",
    "Increment filled once the ♛ is placed in a position where there are no conflicts\n",
    "\n",
    "__filled__: 1"
   ]
  },
  {
   "cell_type": "markdown",
   "metadata": {
    "slideshow": {
     "slide_type": "slide"
    }
   },
   "source": [
    "For every new row, we first try to place the queen in column 1:\n",
    "\n",
    "|stack  |<i></i>| pos | 1     | 2     | 3     | 4     | \n",
    "|:-----:|:-----:|:---:|:-----:|:-----:|:-----:|:-----:|\n",
    "|<i></i>|<i></i>|__1__|<i></i>|<i></i>|<i></i>|<i></i>|\n",
    "|<i></i>|<i></i>|__2__|<i></i>|<i></i>|<i></i>|<i></i>|\n",
    "| (3, 1)|<i></i>|__3__|♛|<i></i>|<i></i>|<i></i>| \n",
    "|(4, 1) |<i></i>|__4__|♛|<i></i>|<i></i>|<i></i>| \n",
    "\n",
    "__filled__: 1"
   ]
  },
  {
   "cell_type": "markdown",
   "metadata": {
    "slideshow": {
     "slide_type": "slide"
    }
   },
   "source": [
    "But if one of our rules are violated, we shift the queen:\n",
    "\n",
    "|stack  |<i></i>| pos | 1     | 2     | 3     | 4     | \n",
    "|:-----:|:-----:|:---:|:-----:|:-----:|:-----:|:-----:|\n",
    "|<i></i>|<i></i>|__1__|<i></i>|<i></i>|<i></i>|<i></i>|\n",
    "|<i></i>|<i></i>|__2__|<i></i>|<i></i>|<i></i>|<i></i>|\n",
    "| (3, 2)|<i></i>|__3__|<i></i>|♛|<i></i>|<i></i>| \n",
    "|(4, 1) |<i></i>|__4__|♛|<i></i>|<i></i>|<i></i>| \n",
    "\n",
    "__filled__: 1"
   ]
  },
  {
   "cell_type": "markdown",
   "metadata": {
    "slideshow": {
     "slide_type": "slide"
    }
   },
   "source": [
    "And we keep shifting rightward until there's no conflict:\n",
    "\n",
    "|stack  |<i></i>| pos | 1     | 2     | 3     | 4     | \n",
    "|:-----:|:-----:|:---:|:-----:|:-----:|:-----:|:-----:|\n",
    "|<i></i>|<i></i>|__1__|<i></i>|<i></i>|<i></i>|<i></i>|\n",
    "|<i></i>|<i></i>|__2__|<i></i>|<i></i>|<i></i>|<i></i>|\n",
    "| (3, 3)|<i></i>|__3__|<i></i>|<i></i>|♛|<i></i>| \n",
    "|(4, 1) |<i></i>|__4__|♛|<i></i>|<i></i>|<i></i>| \n",
    "\n",
    "__filled__: 1"
   ]
  },
  {
   "cell_type": "markdown",
   "metadata": {
    "slideshow": {
     "slide_type": "slide"
    }
   },
   "source": [
    "When there are no conflicts, we stop and add one to filled:\n",
    "\n",
    "|stack  |<i></i>| pos | 1     | 2     | 3     | 4     | \n",
    "|:-----:|:-----:|:---:|:-----:|:-----:|:-----:|:-----:|\n",
    "|<i></i>|<i></i>|__1__|<i></i>|<i></i>|<i></i>|<i></i>|\n",
    "|<i></i>|<i></i>|__2__|<i></i>|<i></i>|<i></i>|<i></i>|\n",
    "| (3, 3)|<i></i>|__3__|<i></i>|<i></i>|♛|<i></i>| \n",
    "|(4, 1) |<i></i>|__4__|♛|<i></i>|<i></i>|<i></i>| \n",
    "\n",
    "__filled__: 2"
   ]
  },
  {
   "cell_type": "markdown",
   "metadata": {
    "slideshow": {
     "slide_type": "slide"
    }
   },
   "source": [
    "Then we move on to the next row. The first position has a conflict:\n",
    "\n",
    "|stack  |<i></i>| pos | 1     | 2     | 3     | 4     | \n",
    "|:-----:|:-----:|:---:|:-----:|:-----:|:-----:|:-----:|\n",
    "|<i></i>|<i></i>|__1__|<i></i>|<i></i>|<i></i>|<i></i>|\n",
    "| (2, 1)|<i></i>|__2__|♛|<i></i>|<i></i>|<i></i>|\n",
    "| (3, 3)|<i></i>|__3__|<i></i>|<i></i>|♛|<i></i>| \n",
    "|(4, 1) |<i></i>|__4__|♛|<i></i>|<i></i>|<i></i>| \n",
    "\n",
    "__filled__: 2"
   ]
  },
  {
   "cell_type": "markdown",
   "metadata": {
    "slideshow": {
     "slide_type": "slide"
    }
   },
   "source": [
    "The second position has a conflict:\n",
    "\n",
    "|stack  |<i></i>| pos | 1     | 2     | 3     | 4     | \n",
    "|:-----:|:-----:|:---:|:-----:|:-----:|:-----:|:-----:|\n",
    "|<i></i>|<i></i>|__1__|<i></i>|<i></i>|<i></i>|<i></i>|\n",
    "| (2, 2)|<i></i>|__2__|<i><i> |♛     |<i></i>|<i></i>|\n",
    "| (3, 3)|<i></i>|__3__|<i></i>|<i></i>|♛|<i></i>| \n",
    "|(4, 1) |<i></i>|__4__|♛|<i></i>|<i></i>|<i></i>| \n",
    "\n",
    "__filled__: 2"
   ]
  },
  {
   "cell_type": "markdown",
   "metadata": {
    "slideshow": {
     "slide_type": "slide"
    }
   },
   "source": [
    "The third position has a conflict:\n",
    "\n",
    "|stack  |<i></i>| pos | 1     | 2     | 3     | 4     | \n",
    "|:-----:|:-----:|:---:|:-----:|:-----:|:-----:|:-----:|\n",
    "|<i></i>|<i></i>|__1__|<i></i>|<i></i>|<i></i>|<i></i>|\n",
    "| (2, 3)|<i></i>|__2__|<i></i>|<i></i>|♛|<i></i>|\n",
    "| (3, 3)|<i></i>|__3__|<i></i>|<i></i>|♛|<i></i>| \n",
    "|(4, 1) |<i></i>|__4__|♛|<i></i>|<i></i>|<i></i>| \n",
    "\n",
    "__filled__: 2"
   ]
  },
  {
   "cell_type": "markdown",
   "metadata": {
    "slideshow": {
     "slide_type": "slide"
    }
   },
   "source": [
    "The fourth position has a conflict:\n",
    "\n",
    "|stack  |<i></i>| pos | 1     | 2     | 3     | 4     | \n",
    "|:-----:|:-----:|:---:|:-----:|:-----:|:-----:|:-----:|\n",
    "|<i></i>|<i></i>|__1__|<i></i>|<i></i>|<i></i>|<i></i>|\n",
    "| (2, 4)|<i></i>|__2__|<i></i>|<i></i>|<i></i>|♛|\n",
    "| (3, 3)|<i></i>|__3__|<i></i>|<i></i>|♛|<i></i>| \n",
    "|(4, 1) |<i></i>|__4__|♛|<i></i>|<i></i>|<i></i>| \n",
    "\n",
    "__filled__: 2"
   ]
  },
  {
   "cell_type": "markdown",
   "metadata": {
    "slideshow": {
     "slide_type": "slide"
    }
   },
   "source": [
    "There are no positions left!\n",
    "\n",
    "|stack  |<i></i>| pos | 1     | 2     | 3     | 4     | \n",
    "|:-----:|:-----:|:---:|:-----:|:-----:|:-----:|:-----:|\n",
    "|<i></i>|<i></i>|__1__|<i></i>|<i></i>|<i></i>|<i></i>|\n",
    "| (2, ??)|<i></i>|__2__|<i></i>|<i></i>|<i></i>|<i></i>|\n",
    "| (3, 3)|<i></i>|__3__|<i></i>|<i></i>|♛|<i></i>| \n",
    "|(4, 1) |<i></i>|__4__|♛|<i></i>|<i></i>|<i></i>| \n",
    "\n",
    "__filled__: 2"
   ]
  },
  {
   "cell_type": "markdown",
   "metadata": {
    "slideshow": {
     "slide_type": "slide"
    }
   },
   "source": [
    "# How do we place all the queens? \n",
    "When there are no positions left in a row:\n",
    "1. pop the stack\n",
    "2. reduce filled by 1\n",
    "3. shift the queen rightward on the previous row\n",
    "\n",
    "|stack  |<i></i>| pos | 1     | 2     | 3     | 4     | \n",
    "|:-----:|:-----:|:---:|:-----:|:-----:|:-----:|:-----:|\n",
    "|<i></i>|<i></i>|__1__|<i></i>|<i></i>|<i></i>|<i></i>|\n",
    "|<i></i>|<i></i>|__2__|<i></i>|<i></i>|<i></i>|<i></i>|\n",
    "| (3, 3)|<i></i>|__3__|<i></i>|<i></i>|♛|<i></i>| \n",
    "|(4, 1) |<i></i>|__4__|♛|<i></i>|<i></i>|<i></i>| \n",
    "\n",
    "__filled__: 1"
   ]
  },
  {
   "cell_type": "markdown",
   "metadata": {
    "slideshow": {
     "slide_type": "slide"
    }
   },
   "source": [
    "__Step 3__: shift queen to right\n",
    "|stack  |<i></i>| pos | 1     | 2     | 3     | 4     | \n",
    "|:-----:|:-----:|:---:|:-----:|:-----:|:-----:|:-----:|\n",
    "|<i></i>|<i></i>|__1__|<i></i>|<i></i>|<i></i>|<i></i>|\n",
    "|<i></i>|<i></i>|__2__|<i></i>|<i></i>|<i></i>|<i></i>|\n",
    "| (3, 3)|<i></i>|__3__|<i></i>|<i></i>|<i></i>| ♛|\n",
    "|(4, 1) |<i></i>|__4__|♛|<i></i>|<i></i>|<i></i>| \n",
    "\n",
    "__filled__: 1"
   ]
  },
  {
   "cell_type": "markdown",
   "metadata": {
    "slideshow": {
     "slide_type": "slide"
    }
   },
   "source": [
    "No conflicts, so filled gets incremented\n",
    "\n",
    "|stack  |<i></i>| pos | 1     | 2     | 3     | 4     | \n",
    "|:-----:|:-----:|:---:|:-----:|:-----:|:-----:|:-----:|\n",
    "|<i></i>|<i></i>|__1__|<i></i>|<i></i>|<i></i>|<i></i>|\n",
    "|<i></i>|<i></i>|__2__|<i></i>|<i></i>|<i></i>|<i></i>|\n",
    "| (3, 3)|<i></i>|__3__|<i></i>|<i></i>|<i></i>| ♛|\n",
    "|(4, 1) |<i></i>|__4__|♛|<i></i>|<i></i>|<i></i>| \n",
    "\n",
    "__filled__: 2"
   ]
  },
  {
   "cell_type": "markdown",
   "metadata": {
    "slideshow": {
     "slide_type": "slide"
    }
   },
   "source": [
    "Now start again on the third row:\n",
    "\n",
    "|stack  |<i></i>| pos | 1     | 2     | 3     | 4     | \n",
    "|:-----:|:-----:|:---:|:-----:|:-----:|:-----:|:-----:|\n",
    "|<i></i>|<i></i>|__1__|<i></i>|<i></i>|<i></i>|<i></i>|\n",
    "| (2, 1)|<i></i>|__2__|♛|<i></i>|<i></i>|<i></i>|\n",
    "| (3, 3)|<i></i>|__3__|<i></i>|<i></i>|<i></i>|♛| \n",
    "|(4, 1) |<i></i>|__4__|♛|<i></i>|<i></i>|<i></i>| \n",
    "\n",
    "__filled__: 2"
   ]
  },
  {
   "cell_type": "markdown",
   "metadata": {
    "slideshow": {
     "slide_type": "slide"
    }
   },
   "source": [
    "There's a conflict, so shift: \n",
    "\n",
    "|stack  |<i></i>| pos | 1     | 2     | 3     | 4     | \n",
    "|:-----:|:-----:|:---:|:-----:|:-----:|:-----:|:-----:|\n",
    "|<i></i>|<i></i>|__1__|<i></i>|<i></i>|<i></i>|<i></i>|\n",
    "| (2, 2)|<i></i>|__2__|<i></i>|♛|<i></i>|<i></i>|\n",
    "| (3, 3)|<i></i>|__3__|<i></i>|<i></i>|<i></i>|♛| \n",
    "|(4, 1) |<i></i>|__4__|♛|<i></i>|<i></i>|<i></i>| \n",
    "\n",
    "__filled__: 2"
   ]
  },
  {
   "cell_type": "markdown",
   "metadata": {
    "slideshow": {
     "slide_type": "slide"
    }
   },
   "source": [
    "# How to program N-Queens?\n",
    "* initialize a stack to keep track of moves\n",
    "* place the first queen\n",
    "    + push its position on the stack\n",
    "    + set filled to 0\n",
    "* repeat with following queens:\n",
    "    + no conflicts: ...\n",
    "    + conflict & room to shift rightward: ...\n",
    "    + conflict & no room to shift: ...\n",
    "   "
   ]
  },
  {
   "cell_type": "code",
   "execution_count": null,
   "metadata": {},
   "outputs": [],
   "source": []
  }
 ],
 "metadata": {
  "celltoolbar": "Slideshow",
  "kernelspec": {
   "display_name": "C++17",
   "language": "C++17",
   "name": "xeus-cling-cpp17"
  },
  "language_info": {
   "codemirror_mode": "text/x-c++src",
   "file_extension": ".cpp",
   "mimetype": "text/x-c++src",
   "name": "c++",
   "version": "-std=c++17"
  }
 },
 "nbformat": 4,
 "nbformat_minor": 2
}
