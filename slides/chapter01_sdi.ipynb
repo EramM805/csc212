{
 "cells": [
  {
   "cell_type": "markdown",
   "metadata": {
    "slideshow": {
     "slide_type": "slide"
    }
   },
   "source": [
    "# Phases of Software Development\n",
    "* Specification of the task\n",
    "* Design of a solution\n",
    "* Implementation (coding) of the solution\n",
    " + Testing and debugging (Test Driven Development)\n",
    "* Analysis of the implemented solution "
   ]
  },
  {
   "cell_type": "markdown",
   "metadata": {
    "slideshow": {
     "slide_type": "slide"
    }
   },
   "source": [
    "## Specification, Design, Implementation\n",
    "* __Specification__ What does it need to do?\n",
    "* __Design__ How should it work? \n",
    "* __Implementation__ How does it work? "
   ]
  },
  {
   "cell_type": "markdown",
   "metadata": {
    "slideshow": {
     "slide_type": "slide"
    }
   },
   "source": [
    "![](figures/temperature.jpg)\n",
    "Andy Miccone (https://www.flickr.com/photos/andymiccone/40514662612/)"
   ]
  },
  {
   "cell_type": "markdown",
   "metadata": {
    "slideshow": {
     "slide_type": "slide"
    }
   },
   "source": [
    "### Scoped (Minimum Viable) Problem:\n",
    "    \n",
    "| Celsius | Fahrenheit |\n",
    "| --------| -----------|\n",
    "| start   |   |\n",
    "| ... | |\n",
    "| ... | |\n",
    "| stop | | "
   ]
  },
  {
   "cell_type": "markdown",
   "metadata": {
    "slideshow": {
     "slide_type": "slide"
    }
   },
   "source": [
    "## Specification: Decomposing the Problem:\n",
    "1. make table - formatting requirement\n",
    "2. label the table\n",
    "3. conversion formula\n",
    "4. print/display the values = cell formatting requirement\n",
    "    what values?\n",
    "        celsius, fahrenheit\n",
    "        one temp or multiple\n",
    "        constant/user enter\n",
    "        decimal places/values\n",
    "        increment/decerment\n",
    "        closed or open set of values"
   ]
  },
  {
   "cell_type": "markdown",
   "metadata": {
    "slideshow": {
     "slide_type": "subslide"
    }
   },
   "source": [
    "<!--## Design Concept: Decomposing the Problem -->\n",
    "<!--1. $T(F^\\circ$) = $T(C^\\circ)*\\frac{9}{5} + 32$ -->\n",
    "<!--2. Printing it in the requested form -->"
   ]
  },
  {
   "cell_type": "markdown",
   "metadata": {
    "slideshow": {
     "slide_type": "slide"
    }
   },
   "source": [
    "### Design: Pseudocode\n",
    "1. Break down the steps in the problem as if you were writing a homework assignment\n",
    "2. Give your instructions to a classmate & try to write psuedocode based on their instructions\n",
    "3. Present to the class (Instruct me on solving the problem)"
   ]
  },
  {
   "cell_type": "markdown",
   "metadata": {
    "slideshow": {
     "slide_type": "slide"
    }
   },
   "source": [
    "### Design: Pseudocode\n",
    "1. ?\n",
    "2. ?\n",
    "3. ?"
   ]
  },
  {
   "cell_type": "markdown",
   "metadata": {
    "slideshow": {
     "slide_type": "subslide"
    }
   },
   "source": [
    "<!--Design Concept: Psuedocode -->\n",
    "<!-- 0. language boilerplates/library imports -->\n",
    "<!-- 1. Display the table headings -->\n",
    "<!-- 2. Initialize the loop iterating between the start and stop values -->\n",
    "<!-- 3. compute the fahrenheit temperature using the conversion formula -->\n",
    "<!---4. display the celsius and fahrenheit temperature -->"
   ]
  },
  {
   "cell_type": "markdown",
   "metadata": {
    "slideshow": {
     "slide_type": "slide"
    }
   },
   "source": [
    "### Convert pseudocode to code\n",
    "* __Pseudocode__ \n",
    "```cpp\n",
    "//compute the fahrenheit temperature \n",
    "// using the conversion formula\n",
    "```\n",
    "* __code__:\n",
    "```cpp\n",
    "double celsius_to_fahrenheit(double c);```"
   ]
  },
  {
   "cell_type": "markdown",
   "metadata": {
    "slideshow": {
     "slide_type": "slide"
    }
   },
   "source": [
    "### Formal Specifications: Procedural Abstraction \n",
    "* __Precondition__ What must be true before the function is called?\n",
    "* __Postcondition__ What must be true after the function is called?\n",
    "\n",
    "__Example__:\n",
    "```cpp\n",
    "double celsius_to_fahrenheit(double c);\n",
    "// Precondition: c >= -273.15\n",
    "// Postcondition: returns: f where f = c*(9/5) + 32\n",
    "```"
   ]
  },
  {
   "cell_type": "markdown",
   "metadata": {
    "slideshow": {
     "slide_type": "slide"
    }
   },
   "source": [
    "## Implementation"
   ]
  },
  {
   "cell_type": "code",
   "execution_count": null,
   "metadata": {
    "slideshow": {
     "slide_type": "slide"
    }
   },
   "outputs": [],
   "source": [
    "// library imports\n",
    "#include <cassert> // assert functions\n",
    "#include <cstdlib> // EXIT_SUCCESS for portability\n",
    "#include <iomanip> // Pretty formatting functions\n",
    "#include <iostream> // cout (input and output)\n",
    "#include <exception> // standard exceptions"
   ]
  },
  {
   "cell_type": "code",
   "execution_count": 4,
   "metadata": {
    "slideshow": {
     "slide_type": "slide"
    }
   },
   "outputs": [],
   "source": [
    "// C to F conversion function\n",
    "double celsius_to_fahrenheit(double c){\n",
    "    //pre: c >= -273.15, post: f = c*(9/5) + 32\n",
    "    static const double MINIMUM_CELSIUS = -273.15; \n",
    "\n",
    "    if (c < MINIMUM_CELSIUS){ \n",
    "        std::string error_message = \"Input must be greater than \";\n",
    "        error_message+=std::to_string(MINIMUM_CELSIUS);\n",
    "        throw std::invalid_argument(error_message); \n",
    "    } \n",
    "    return (9.0/5.0) * c + 32;\n",
    "}"
   ]
  },
  {
   "cell_type": "code",
   "execution_count": 5,
   "metadata": {
    "slideshow": {
     "slide_type": "slide"
    }
   },
   "outputs": [
    {
     "data": {
      "text/plain": [
       "85.1"
      ]
     },
     "execution_count": 5,
     "metadata": {},
     "output_type": "execute_result"
    }
   ],
   "source": [
    "// Does our function work?\n",
    "celsius_to_fahrenheit(29.5)"
   ]
  },
  {
   "cell_type": "code",
   "execution_count": 6,
   "metadata": {
    "slideshow": {
     "slide_type": "slide"
    }
   },
   "outputs": [
    {
     "ename": "Standard Exception",
     "evalue": "Input must be greater than -273.150000",
     "output_type": "error",
     "traceback": [
      "Standard Exception: Input must be greater than -273.150000"
     ]
    }
   ],
   "source": [
    "// Does it throw an error?\n",
    "celsius_to_fahrenheit(-1000)"
   ]
  },
  {
   "cell_type": "code",
   "execution_count": null,
   "metadata": {
    "slideshow": {
     "slide_type": "slide"
    }
   },
   "outputs": [],
   "source": [
    "// Set up the pretty number printing\n",
    "void setup_cout_fractions(int fraction_digits){\n",
    "    if (fraction_digits < 0){ throw fraction_digits; }\n",
    "    std::cout.precision(fraction_digits);\n",
    "    std::cout.setf(std::ios::fixed, std::ios::floatfield);\n",
    "    std::cout.setf(std::ios::showpoint);\n",
    "    if (fraction_digits == 0){\n",
    "        std::cout.unsetf(std::ios::showpoint);\n",
    "        }\n",
    "}"
   ]
  },
  {
   "cell_type": "code",
   "execution_count": null,
   "metadata": {
    "slideshow": {
     "slide_type": "slide"
    }
   },
   "outputs": [],
   "source": [
    "// Does it work?\n",
    "double mypi = 3.14159265359;"
   ]
  },
  {
   "cell_type": "code",
   "execution_count": null,
   "metadata": {
    "slideshow": {
     "slide_type": "slide"
    }
   },
   "outputs": [],
   "source": [
    "// Does it work?\n",
    "//double mypi = 3.14159265359;\n",
    "setup_cout_fractions(3);\n",
    "std::cout<< mypi << std::endl;\n",
    "setup_cout_fractions(6);\n",
    "std::cout<< mypi << std::endl;\n",
    "setup_cout_fractions(0);\n",
    "std::cout<< mypi <<std::endl;"
   ]
  },
  {
   "cell_type": "code",
   "execution_count": null,
   "metadata": {
    "slideshow": {
     "slide_type": "slide"
    }
   },
   "outputs": [],
   "source": [
    "// Does it throw an error?\n",
    "setup_cout_fractions(-6)"
   ]
  },
  {
   "cell_type": "code",
   "execution_count": null,
   "metadata": {
    "slideshow": {
     "slide_type": "slide"
    }
   },
   "outputs": [],
   "source": [
    "// let's make a function to print the table:\n",
    "void print_temperature_table(double start, double stop, double increment, \n",
    "                             const int WIDTH, const int DIGITS){\n",
    "    const char SEP[] = \"    \";\n",
    "    setup_cout_fractions(DIGITS);\n",
    "    \n",
    "    \n",
    "    std::cout<< \"Celsius\" << SEP <<\"Fahrenheit\" << std::endl;\n",
    "    //add bounds checking for start, stop, increment\n",
    "    for(double celsius = start; celsius <= stop; celsius+=increment){\n",
    "        std::cout<< std::setw(WIDTH) << celsius << \"C°\" << SEP;\n",
    "        std::cout<< std::setw(WIDTH) << celsius_to_fahrenheit(celsius) <<\"F°\"<<std::endl;\n",
    "    }\n",
    "}"
   ]
  },
  {
   "cell_type": "code",
   "execution_count": null,
   "metadata": {
    "slideshow": {
     "slide_type": "slide"
    }
   },
   "outputs": [],
   "source": [
    "//let's check for the digit<0 error\n",
    "print_temperature_table(0, 100, 25, 10, -5)"
   ]
  },
  {
   "cell_type": "code",
   "execution_count": null,
   "metadata": {
    "slideshow": {
     "slide_type": "slide"
    }
   },
   "outputs": [],
   "source": [
    "//Let's check for the celsius < -273.15 error\n",
    "print_temperature_table(-500, 100, 25, 10, -5)"
   ]
  },
  {
   "cell_type": "code",
   "execution_count": null,
   "metadata": {
    "slideshow": {
     "slide_type": "slide"
    }
   },
   "outputs": [],
   "source": [
    "print_temperature_table(0, 25, 5, 5, 1)"
   ]
  },
  {
   "cell_type": "code",
   "execution_count": null,
   "metadata": {
    "slideshow": {
     "slide_type": "slide"
    }
   },
   "outputs": [],
   "source": [
    "print_temperature_table(0, 100, 25, 10, 3)"
   ]
  },
  {
   "cell_type": "markdown",
   "metadata": {
    "slideshow": {
     "slide_type": "slide"
    }
   },
   "source": [
    "### Eek! How do we correct that?"
   ]
  },
  {
   "cell_type": "code",
   "execution_count": null,
   "metadata": {
    "slideshow": {
     "slide_type": "slide"
    }
   },
   "outputs": [],
   "source": [
    "// lets call the functions we wrote (put the program together)\n",
    "int main(){\n",
    "    const int DIGITS = 2;\n",
    "    const int WIDTH = 7;\n",
    "    //optimally these would be user input, but limited by (jupyter environment)\n",
    "    double start = 0;\n",
    "    double stop = 100;\n",
    "    double increment = 2.5;\n",
    "    \n",
    "    print_temperature_table(start, stop, increment, WIDTH, DIGITS);\n",
    "    \n",
    "    return EXIT_SUCCESS;\n",
    "}"
   ]
  },
  {
   "cell_type": "markdown",
   "metadata": {
    "slideshow": {
     "slide_type": "slide"
    }
   },
   "source": [
    "### What are we missing in main?"
   ]
  },
  {
   "cell_type": "markdown",
   "metadata": {
    "slideshow": {
     "slide_type": "slide"
    }
   },
   "source": [
    "## Performance Analysis\n",
    "* Time Analysis: number of operations the algorithm performs\n",
    "* Space Analysis: amount of working memory the algorithm requires"
   ]
  },
  {
   "cell_type": "markdown",
   "metadata": {
    "slideshow": {
     "slide_type": "slide"
    }
   },
   "source": [
    "![](figures/stairs.jpg?)\n",
    "Rising Damp (https://www.flickr.com/photos/66126733@N04/6321379567/)"
   ]
  },
  {
   "cell_type": "markdown",
   "metadata": {
    "slideshow": {
     "slide_type": "slide"
    }
   },
   "source": [
    "## Stair Counting\n",
    ">Suppose that you and your friend Judy are standing at the top of the Eiffel Tower.\n",
    "As you gaze out over the French landscape, Judy turns to you and says, “I wonder\n",
    "how many steps there are to the bottom?” You, of course, are the everaccommodating\n",
    "host, so you reply, “I’m not sure . . . but I’ll find out.”"
   ]
  },
  {
   "cell_type": "markdown",
   "metadata": {
    "slideshow": {
     "slide_type": "slide"
    }
   },
   "source": [
    "## Stair Counting: Parameters\n",
    "1. You and Judy start at the top of the staircase\n",
    "2. You and Judy end at the same place (top or bottom)\n",
    "3. There are 2689 steps\n",
    "4. Counting the number of operations to record number of steps"
   ]
  },
  {
   "cell_type": "markdown",
   "metadata": {
    "slideshow": {
     "slide_type": "slide"
    }
   },
   "source": [
    "## Stair Counting: Operation\n",
    "1. Step up or down\n",
    "2. Mark on the paper"
   ]
  },
  {
   "cell_type": "markdown",
   "metadata": {
    "slideshow": {
     "slide_type": "slide"
    }
   },
   "source": [
    "### Method 1: Walk down and keep a tally\n",
    "\n",
    "\n"
   ]
  },
  {
   "cell_type": "markdown",
   "metadata": {
    "slideshow": {
     "slide_type": "skip"
    }
   },
   "source": [
    "<!-- ### Method 1: Walk down and keep a tally -->\n",
    "<!--1. 2689 steps down -->\n",
    "<!--2. 2689 marks on the paper -->\n",
    "<!-- 1 step down, 1 mark>\n",
    "<!--3. 2689 steps up -->\n",
    "<!--4. 8067 total operations -->"
   ]
  },
  {
   "cell_type": "markdown",
   "metadata": {
    "slideshow": {
     "slide_type": "slide"
    }
   },
   "source": [
    "### Method 2: Walk down, but let Judy keep the tally "
   ]
  },
  {
   "cell_type": "markdown",
   "metadata": {
    "slideshow": {
     "slide_type": "skip"
    }
   },
   "source": [
    "<!--### Method 2: Walk down, but let Judy keep the tally-->\n",
    "<!--1. 1 step down -->\n",
    "<!--1. 1 step up -->\n",
    "<!--1. 1 mark-->\n",
    "<!--1. 2 steps down -->\n",
    "<!--1. 2 steps up -->\n",
    "<!--1. 1 mark-->\n",
    "<!---....--->\n",
    "<!--1. 2689 steps down -->\n",
    "<!--1. 2689 steps up -->\n",
    "<!--1. 1 mark-->\n",
    "<!--3. 2*3,616,705 steps + 2689 marks -->"
   ]
  },
  {
   "cell_type": "markdown",
   "metadata": {
    "slideshow": {
     "slide_type": "slide"
    }
   },
   "source": [
    "### Method 3: Jervis to the rescue\n",
    "![](figures/jervis.png)\n",
    "\n",
    "Data Structures & Other Objects, Third Edition (Chapter 1, pg. 16)"
   ]
  },
  {
   "cell_type": "markdown",
   "metadata": {
    "slideshow": {
     "slide_type": "skip"
    }
   },
   "source": [
    "<!--### Method 3: Jervis to the rescue-->\n",
    "<!-- 1 mark: 2 -->\n",
    "<!-- 1 mark: 6 -->\n",
    "<!-- 1 mark: 8 -->\n",
    "<!-- 1 mark: 9 -->"
   ]
  },
  {
   "cell_type": "markdown",
   "metadata": {
    "slideshow": {
     "slide_type": "slide"
    }
   },
   "source": [
    "### Time Complexity: \n",
    "\n",
    "\n",
    "| Method | # Steps | O notation | time |\n",
    "|--------| --------| -----------| ---- |\n",
    "| 1 | $3n$ | $O(n)$ | linear |\n",
    "| 2 | $\\frac{n(n + 1)}{2}$ | $O(n^2 + 2n)$ | quadratic |\n",
    "| 3 | $4$ | $\\lfloor\\log_{10}n\\rfloor + 1 $| logarithmic|\n",
    "\n",
    "__n__ input/data size - 2689 steps \n",
    "\n",
    "\n"
   ]
  },
  {
   "cell_type": "markdown",
   "metadata": {
    "slideshow": {
     "slide_type": "subslide"
    }
   },
   "source": [
    "#### Why is method 3 logarithmic and not constant? 2689 steps!\n",
    "\n",
    "2. $\\lfloor\\log_{10}2689\\rfloor$ = 3.43\n",
    "1. $2*10^3 + 6*10^2 + 8*10^1 + 9*10^0$\n",
    "3. More steps (on the order of 10) => more digits\n"
   ]
  },
  {
   "cell_type": "markdown",
   "metadata": {
    "slideshow": {
     "slide_type": "slide"
    }
   },
   "source": [
    "## Time Complexity of the Temperature Program?\n",
    "\n",
    "__operations__: assignment, selection, iteration, function calls, etc\n",
    "\n",
    "* `double celsius_to_fahrenheit(double c)`\n",
    "* `void setup_cout_fractions(int fraction_digits)`\n",
    "* `void print_temperature_table(double start, double stop, double increment, const int WIDTH, const int DIGITS)`\n",
    "* `int main()`"
   ]
  },
  {
   "cell_type": "markdown",
   "metadata": {
    "slideshow": {
     "slide_type": "slide"
    }
   },
   "source": [
    "```cpp\n",
    "double celsius_to_fahrenheit(double c){\n",
    "    //pre: c >= -273.15, post: f = c*(9/5) + 32\n",
    "    static const double MINIMUM_CELSIUS = -273.15; \n",
    "\n",
    "    if (c < MINIMUM_CELSIUS){ \n",
    "        std::string error_message = \"Input must be greater than \";\n",
    "        error_message+=std::to_string(MINIMUM_CELSIUS);\n",
    "        throw std::invalid_argument(error_message); \n",
    "    } \n",
    "    return (9.0/5.0) * c + 32;\n",
    "}```"
   ]
  },
  {
   "cell_type": "markdown",
   "metadata": {
    "slideshow": {
     "slide_type": "slide"
    }
   },
   "source": [
    "```cpp\n",
    "void setup_cout_fractions(int fraction_digits){\n",
    "    if (fraction_digits < 0){ throw fraction_digits; }\n",
    "    std::cout.precision(fraction_digits);\n",
    "    std::cout.setf(std::ios::fixed, std::ios::floatfield);\n",
    "    std::cout.setf(std::ios::showpoint);\n",
    "    if (fraction_digits == 0){\n",
    "        std::cout.unsetf(std::ios::showpoint);\n",
    "        }\n",
    "}```"
   ]
  },
  {
   "cell_type": "markdown",
   "metadata": {
    "slideshow": {
     "slide_type": "slide"
    }
   },
   "source": [
    "```cpp\n",
    "void print_temperature_table(double start, double stop, double increment, \n",
    "                             const int WIDTH, const int DIGITS){\n",
    "    const char SEP[] = \"    \";\n",
    "    setup_cout_fractions(DIGITS);\n",
    "    \n",
    "    std::cout<< \"Celsius\" << SEP <<\"Fahrenheit\" << std::endl;\n",
    "    \n",
    "    for(double celsius = start; celsius <= stop; celsius+=increment){\n",
    "        std::cout<< std::setw(WIDTH) << celsius << \"C°\" << SEP;\n",
    "        std::cout<< std::setw(WIDTH) << celsius_to_fahrenheit(celsius) <<\"F°\"<<std::endl;\n",
    "    }\n",
    "}\n",
    "```"
   ]
  },
  {
   "cell_type": "markdown",
   "metadata": {
    "slideshow": {
     "slide_type": "slide"
    }
   },
   "source": [
    "```cpp\n",
    "int main(){\n",
    "    const int DIGITS = 2;\n",
    "    const int WIDTH = 7;\n",
    "    double start = 0;\n",
    "    double stop = 100;\n",
    "    double increment = 2.5;    \n",
    "    print_temperature_table(start, stop, increment,\n",
    "        WIDTH, DIGITS);\n",
    "    \n",
    "    return EXIT_SUCCESS;\n",
    "}```"
   ]
  },
  {
   "cell_type": "code",
   "execution_count": null,
   "metadata": {},
   "outputs": [],
   "source": []
  }
 ],
 "metadata": {
  "celltoolbar": "Slideshow",
  "kernelspec": {
   "display_name": "C++17",
   "language": "C++17",
   "name": "xeus-cling-cpp17"
  },
  "language_info": {
   "codemirror_mode": "text/x-c++src",
   "file_extension": ".cpp",
   "mimetype": "text/x-c++src",
   "name": "c++",
   "version": "-std=c++17"
  }
 },
 "nbformat": 4,
 "nbformat_minor": 2
}
