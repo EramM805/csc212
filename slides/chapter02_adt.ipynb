{
 "cells": [
  {
   "cell_type": "markdown",
   "metadata": {
    "slideshow": {
     "slide_type": "slide"
    }
   },
   "source": [
    "# Abstract Data Types and C++ Classes"
   ]
  },
  {
   "cell_type": "markdown",
   "metadata": {
    "slideshow": {
     "slide_type": "slide"
    }
   },
   "source": [
    "# Objectives\n",
    "* Design and implement custom classes \n",
    "  + write both the header and implementation files\n",
    "  + define  public/private/protected attributes and methods\n",
    "  + write getters and setters as needed\n",
    "  + implement empty and default constructors\n",
    "  + overload operators\n",
    "* understand features of the c++ language, including: \n",
    "  + the `const` and `typedef` specifiers\n",
    "  + pass by references and pass by value functions\n",
    "  + exceptions and exception handling \n",
    "  + file conventions: point library, test application\n",
    "    - Point.h - header : declarations\n",
    "    - Point.cpp : implementations\n",
    "    - test.cpp/main.cpp: test the Point library\n",
    "* Use standard template library classes"
   ]
  },
  {
   "cell_type": "markdown",
   "metadata": {
    "slideshow": {
     "slide_type": "slide"
    }
   },
   "source": [
    "![animated picture of yellow dot moving in a jagged circular trajectory](figures/chap02/swirl.gif)"
   ]
  },
  {
   "cell_type": "markdown",
   "metadata": {
    "slideshow": {
     "slide_type": "slide"
    }
   },
   "source": [
    "## Classes and Members\n",
    "\n",
    "* __Attributes__: What are the characteristics of a point?\n",
    "* __Methods__: What sort of things can the point do?"
   ]
  },
  {
   "cell_type": "markdown",
   "metadata": {
    "slideshow": {
     "slide_type": "slide"
    }
   },
   "source": [
    "### Let's define a  Point data type (class)\n",
    "```cpp\n",
    "#include <iostream>\n",
    "#include <string>\n",
    "class Point{\n",
    "    public:\n",
    "        Point(double nx; double ny; std::string color nc);\n",
    "    private:\n",
    "        std::string color c;\n",
    "        double x;\n",
    "        double y;\n",
    "};\n",
    "```"
   ]
  },
  {
   "cell_type": "markdown",
   "metadata": {
    "slideshow": {
     "slide_type": "slide"
    }
   },
   "source": [
    "## Private vs Public?\n",
    "\n",
    "* __private__: can only be accessed by class methods\n",
    "* __public__: can be accessed by any function \n",
    "* __getters__& __setters__: used to control access to private attributes"
   ]
  },
  {
   "cell_type": "markdown",
   "metadata": {
    "slideshow": {
     "slide_type": "slide"
    }
   },
   "source": [
    "## Wait, what about behavior?"
   ]
  },
  {
   "cell_type": "markdown",
   "metadata": {},
   "source": [
    "The Point class is defined here as PointV# because this environment does not allow redefinig Point. Normally, the file would just be edited as the class changes. "
   ]
  },
  {
   "cell_type": "code",
   "execution_count": null,
   "metadata": {
    "slideshow": {
     "slide_type": "slide"
    }
   },
   "outputs": [],
   "source": [
    "#include <iostream>\n",
    "#include <string>\n",
    "class Point{\n",
    "    public:\n",
    "        Point(double nx, double ny, std::string ncolor);\n",
    "        std::string get_color(){return color;}\n",
    "        void move(int nx, int ny);\n",
    "        double distance(Point P2);\n",
    "        double operator-(Point P2);\n",
    "    private:\n",
    "        std::string color;\n",
    "        double x;\n",
    "        double y;\n",
    "};"
   ]
  },
  {
   "cell_type": "markdown",
   "metadata": {
    "slideshow": {
     "slide_type": "slide"
    }
   },
   "source": [
    "# Let's implement that constructor\n",
    "+ __class name::method__ : the method belongs to the `<class name>` class:\n",
    "    * __std::string__ : the string constructor method belongs the std class\n",
    "    * __Point::Point__ : the point constructor is a method of the point class"
   ]
  },
  {
   "cell_type": "code",
   "execution_count": null,
   "metadata": {
    "slideshow": {
     "slide_type": "slide"
    }
   },
   "outputs": [],
   "source": [
    "Point::Point(double nx, double ny, std::string ncolor){\n",
    "    x = nx;\n",
    "    y = ny;\n",
    "    color = ncolor;\n",
    "}"
   ]
  },
  {
   "cell_type": "code",
   "execution_count": null,
   "metadata": {
    "slideshow": {
     "slide_type": "slide"
    }
   },
   "outputs": [],
   "source": [
    "Point P1(0,0,\"yellow\")"
   ]
  },
  {
   "cell_type": "code",
   "execution_count": null,
   "metadata": {
    "slideshow": {
     "slide_type": "slide"
    }
   },
   "outputs": [],
   "source": [
    "//P1's location in memory\n",
    "P1"
   ]
  },
  {
   "cell_type": "code",
   "execution_count": null,
   "metadata": {
    "slideshow": {
     "slide_type": "slide"
    }
   },
   "outputs": [],
   "source": [
    "P1.color"
   ]
  },
  {
   "cell_type": "code",
   "execution_count": null,
   "metadata": {
    "slideshow": {
     "slide_type": "slide"
    }
   },
   "outputs": [],
   "source": [
    "P1.get_color()"
   ]
  },
  {
   "cell_type": "code",
   "execution_count": null,
   "metadata": {
    "slideshow": {
     "slide_type": "slide"
    }
   },
   "outputs": [],
   "source": [
    "Point P2;"
   ]
  },
  {
   "cell_type": "markdown",
   "metadata": {
    "slideshow": {
     "slide_type": "slide"
    }
   },
   "source": [
    "# Let's implement the empty constructor!"
   ]
  },
  {
   "cell_type": "code",
   "execution_count": null,
   "metadata": {
    "slideshow": {
     "slide_type": "slide"
    }
   },
   "outputs": [],
   "source": [
    "#include <iostream>\n",
    "#include <string>\n",
    "class Point{\n",
    "    public:\n",
    "        Point(){};\n",
    "        Point(double nx, double ny, std::string ncolor);\n",
    "        std::string get_color(){return color;}\n",
    "        void move(double nx, double ny);\n",
    "        double distance(Point P2);\n",
    "        double operator-(Point P2);\n",
    "    private:\n",
    "        std::string color;\n",
    "        double x;\n",
    "        double y;\n",
    "}"
   ]
  },
  {
   "cell_type": "code",
   "execution_count": null,
   "metadata": {
    "slideshow": {
     "slide_type": "slide"
    }
   },
   "outputs": [],
   "source": [
    "Point P2;"
   ]
  },
  {
   "cell_type": "markdown",
   "metadata": {
    "slideshow": {
     "slide_type": "slide"
    }
   },
   "source": [
    "### Now let's implement the other methods"
   ]
  },
  {
   "cell_type": "code",
   "execution_count": null,
   "metadata": {
    "slideshow": {
     "slide_type": "slide"
    }
   },
   "outputs": [],
   "source": [
    "void Point::move(double nx, double ny){\n",
    "    x+=nx;\n",
    "    y+=ny;\n",
    "};"
   ]
  },
  {
   "cell_type": "code",
   "execution_count": null,
   "metadata": {
    "slideshow": {
     "slide_type": "slide"
    }
   },
   "outputs": [],
   "source": [
    "#include <cmath>\n",
    "double Point::distance(PointV1 P2){\n",
    "    return std::sqrt(pow(x-P2.x, 2) + pow(y-P2.y,2));\n",
    "}"
   ]
  },
  {
   "cell_type": "code",
   "execution_count": null,
   "metadata": {
    "slideshow": {
     "slide_type": "slide"
    }
   },
   "outputs": [],
   "source": [
    "PointV1 P4(0,0,\"blue\");\n",
    "PointV1 P3(2,3,\"green\");"
   ]
  },
  {
   "cell_type": "code",
   "execution_count": null,
   "metadata": {
    "slideshow": {
     "slide_type": "slide"
    }
   },
   "outputs": [],
   "source": [
    "P4.move(1,2);"
   ]
  },
  {
   "cell_type": "code",
   "execution_count": null,
   "metadata": {
    "slideshow": {
     "slide_type": "slide"
    }
   },
   "outputs": [],
   "source": [
    "P4.distance(P3)"
   ]
  },
  {
   "cell_type": "code",
   "execution_count": null,
   "metadata": {
    "slideshow": {
     "slide_type": "slide"
    }
   },
   "outputs": [],
   "source": [
    "// this - object calling the function\n",
    "double Point::operator-(Point P2){\n",
    "    return this.distance(P2);\n",
    "}"
   ]
  },
  {
   "cell_type": "markdown",
   "metadata": {
    "slideshow": {
     "slide_type": "slide"
    }
   },
   "source": [
    "# What about optionally setting the start position?"
   ]
  },
  {
   "cell_type": "code",
   "execution_count": null,
   "metadata": {
    "slideshow": {
     "slide_type": "slide"
    }
   },
   "outputs": [],
   "source": [
    "#include <iostream>\n",
    "#include <string>\n",
    "class Point{\n",
    "    public:\n",
    "        //don't need empty constructor when parameters are fully defaulted\n",
    "        Point(double nx=0, double ny=0, std::string ncolor=\"None\");\n",
    "        void print();\n",
    "        std::string get_color(){return color;}\n",
    "        void move(double nx, double ny);\n",
    "        double distance(Point P2);\n",
    "        double operator-(Point P2);\n",
    "    private:\n",
    "        std::string color;\n",
    "        double x;\n",
    "        double y;\n",
    "}"
   ]
  },
  {
   "cell_type": "code",
   "execution_count": null,
   "metadata": {
    "slideshow": {
     "slide_type": "slide"
    }
   },
   "outputs": [],
   "source": [
    "Point::Point(double nx, double ny, std::string ncolor){\n",
    "    x = nx;\n",
    "    y = ny;\n",
    "    color = ncolor;\n",
    "}"
   ]
  },
  {
   "cell_type": "code",
   "execution_count": null,
   "metadata": {
    "slideshow": {
     "slide_type": "slide"
    }
   },
   "outputs": [],
   "source": [
    "void Point::print(){\n",
    "    std::cout<<\"(\"<<x<<\",\"<<y<<\") \"<<color<<std::endl;\n",
    "}"
   ]
  },
  {
   "cell_type": "code",
   "execution_count": null,
   "metadata": {
    "slideshow": {
     "slide_type": "slide"
    }
   },
   "outputs": [],
   "source": [
    "Point P;\n",
    "P.print();"
   ]
  },
  {
   "cell_type": "code",
   "execution_count": null,
   "metadata": {
    "slideshow": {
     "slide_type": "slide"
    }
   },
   "outputs": [],
   "source": [
    "Point Q(2);\n",
    "Q.print()"
   ]
  },
  {
   "cell_type": "code",
   "execution_count": null,
   "metadata": {
    "slideshow": {
     "slide_type": "slide"
    }
   },
   "outputs": [],
   "source": [
    "Point R(2,3);\n",
    "Q.print()"
   ]
  },
  {
   "cell_type": "markdown",
   "metadata": {
    "slideshow": {
     "slide_type": "slide"
    }
   },
   "source": [
    "# Can we simplify some of this? (inline decorations)"
   ]
  },
  {
   "cell_type": "code",
   "execution_count": null,
   "metadata": {
    "slideshow": {
     "slide_type": "slide"
    }
   },
   "outputs": [],
   "source": [
    "#include <iostream>\n",
    "#include <string>\n",
    "#include <cmath>\n",
    "\n",
    "class Point{\n",
    "    public:\n",
    "        //don't need empty constructor when parameters are fully defaulted\n",
    "        Point(double nx=0, double ny=0, std::string ncolor=\"None\"){\n",
    "            x = nx; y = ny; color = ncolor;}\n",
    "        //void print(std::cout<<\"(\"<<x<<\",\"<<y<<\") \"<<color<<std::endl;)\n",
    "        std::string get_color(){return color;}\n",
    "        void move(double nx, double ny){x+=nx; y+=ny;}\n",
    "        double distance(Point P2){return std::sqrt(pow(x-P2.x, 2) + pow(y-P2.y,2));}\n",
    "        double operator-(Point P2){return this->distance(P2);}\n",
    "    private:\n",
    "        std::string color;\n",
    "        double x;\n",
    "        double y;\n",
    "}"
   ]
  },
  {
   "cell_type": "code",
   "execution_count": null,
   "metadata": {
    "slideshow": {
     "slide_type": "slide"
    }
   },
   "outputs": [],
   "source": [
    "Point P1(0,2);\n",
    "Point P2(2,2);"
   ]
  },
  {
   "cell_type": "code",
   "execution_count": null,
   "metadata": {
    "slideshow": {
     "slide_type": "slide"
    }
   },
   "outputs": [],
   "source": [
    "P1.distance(P2)"
   ]
  },
  {
   "cell_type": "code",
   "execution_count": null,
   "metadata": {
    "slideshow": {
     "slide_type": "slide"
    }
   },
   "outputs": [],
   "source": [
    "P1 - P2"
   ]
  }
 ],
 "metadata": {
  "celltoolbar": "Slideshow",
  "kernelspec": {
   "display_name": "C++17",
   "language": "C++17",
   "name": "xeus-cling-cpp17"
  },
  "language_info": {
   "codemirror_mode": "text/x-c++src",
   "file_extension": ".cpp",
   "mimetype": "text/x-c++src",
   "name": "c++",
   "version": "-std=c++17"
  }
 },
 "nbformat": 4,
 "nbformat_minor": 2
}
