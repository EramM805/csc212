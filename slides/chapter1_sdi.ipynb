{
 "cells": [
  {
   "cell_type": "markdown",
   "metadata": {},
   "source": [
    "# Phases of Software Development\n",
    "* Specification of the task\n",
    "* Design of a solution\n",
    "* Implementation (coding) of the solution\n",
    " + Testing and debugging (Test Driven Development)\n",
    "* Analysis of the implemented solution "
   ]
  },
  {
   "cell_type": "markdown",
   "metadata": {},
   "source": [
    "## Specification, Design, Implementation\n",
    "* __Specification__ What does it need to do?\n",
    "* __Design__ How should it work? \n",
    "* __Implementation__ How does it work? "
   ]
  },
  {
   "cell_type": "markdown",
   "metadata": {},
   "source": [
    "### Problem: How do I get localized temperature? \n",
    "![](figures/temperature.jpg)\n",
    "Andy Miccone (https://www.flickr.com/photos/andymiccone/40514662612/)"
   ]
  },
  {
   "cell_type": "markdown",
   "metadata": {},
   "source": [
    "### Scoped (Minimum Viable) Problem: Table of Temperatures\n",
    "    \n",
    "| Celsius | Fahrenheit |\n",
    "| --------| -----------|\n",
    "| start   |   |\n",
    "| ... | |\n",
    "| ... | |\n",
    "| stop | | "
   ]
  },
  {
   "cell_type": "markdown",
   "metadata": {},
   "source": [
    "## Specification: Decomposing the Problem:\n",
    "1. ??\n",
    "2. ??\n",
    "3. ??"
   ]
  },
  {
   "cell_type": "markdown",
   "metadata": {},
   "source": [
    "<!--## Design Concept: Decomposing the Problem -->\n",
    "<!--1. $T(F^\\circ$) = $T(C^\\circ)*\\frac{9}{5} + 32$ -->\n",
    "<!--2. Printing it in the requested form -->"
   ]
  },
  {
   "cell_type": "markdown",
   "metadata": {},
   "source": [
    "### Design: Pseudocode\n",
    "1. Break down the steps in the problem as if you were writing a homework assignment\n",
    "2. Give your instructions to a classmate & try to write psuedocode based on their instructions\n",
    "3. Present to the class (Instruct me on solving the problem)"
   ]
  },
  {
   "cell_type": "markdown",
   "metadata": {},
   "source": [
    "### Design: Pseudocode\n",
    "1. ?\n",
    "2. ?\n",
    "3. ?"
   ]
  },
  {
   "cell_type": "markdown",
   "metadata": {},
   "source": [
    "<!--Design Concept: Psuedocode -->\n",
    "<!-- 0. language boilerplates/library imports -->\n",
    "<!-- 1. Display the table headings -->\n",
    "<!-- 2. Initialize the loop iterating between the start and stop values -->\n",
    "<!-- 3. compute the fahrenheit temperature using the conversion formula -->\n",
    "<!---4. display the celsius and fahrenheit temperature -->"
   ]
  },
  {
   "cell_type": "markdown",
   "metadata": {},
   "source": [
    "### Convert pseudocode to code\n",
    "* __Pseudocode__ \n",
    "```cpp\n",
    "//compute the fahrenheit temperature using the conversion formula\n",
    "```\n",
    "* __code__:\n",
    "```cpp\n",
    "double celsius_to_fahrenheit(double c);```"
   ]
  },
  {
   "cell_type": "markdown",
   "metadata": {},
   "source": [
    "### Formal Specifications: Procedural Abstraction \n",
    "* __Precondition__ What must be true before the function is called?\n",
    "* __Postcondition__ What must be true after the function is called?\n",
    "\n",
    "__Example__:\n",
    "```cpp\n",
    "double celsius_to_fahrenheit(double c);\n",
    "// Precondition: c >= -273.15\n",
    "// Postcondition: returns: f where f = c*(9/5) + 32\n",
    "```"
   ]
  },
  {
   "cell_type": "markdown",
   "metadata": {},
   "source": [
    "## Implementation"
   ]
  },
  {
   "cell_type": "code",
   "execution_count": 1,
   "metadata": {},
   "outputs": [],
   "source": [
    "// library imports\n",
    "#include <cassert> // assert functions\n",
    "#include <cstdlib> // EXIT_SUCCESS for portability\n",
    "#include <iomanip> // Pretty formatting functions\n",
    "#include <iostream> // cout (input and output)"
   ]
  },
  {
   "cell_type": "code",
   "execution_count": 2,
   "metadata": {},
   "outputs": [],
   "source": [
    "// C to F conversion function\n",
    "double celsius_to_fahrenheit(double c){\n",
    "    //pre: c >= -273.15, post: f = c*(9/5) + 32\n",
    "    const double MINIMUM_CELSIUS = -273.15; \n",
    "    if (c < MINIMUM_CELSIUS){ throw c; } \n",
    "    return (9.0/5.0) * c + 32;\n",
    "}"
   ]
  },
  {
   "cell_type": "code",
   "execution_count": 19,
   "metadata": {},
   "outputs": [
    {
     "data": {
      "text/plain": [
       "32"
      ]
     },
     "execution_count": 19,
     "metadata": {},
     "output_type": "execute_result"
    }
   ],
   "source": [
    "// Does our function work?\n",
    "celsius_to_fahrenheit(0)"
   ]
  },
  {
   "cell_type": "code",
   "execution_count": 4,
   "metadata": {},
   "outputs": [
    {
     "ename": "Error",
     "evalue": "",
     "output_type": "error",
     "traceback": [
      "Error: "
     ]
    }
   ],
   "source": [
    "// Does it throw an error?\n",
    "celsius_to_fahrenheit(-1000)"
   ]
  },
  {
   "cell_type": "code",
   "execution_count": 5,
   "metadata": {},
   "outputs": [],
   "source": [
    "// Set up the pretty number printing\n",
    "void setup_cout_fractions(int fraction_digits){\n",
    "    if (fraction_digits < 0){ throw fraction_digits; }\n",
    "    std::cout.precision(fraction_digits);\n",
    "    std::cout.setf(std::ios::fixed, std::ios::floatfield);\n",
    "    std::cout.setf(std::ios::showpoint);\n",
    "    if (fraction_digits == 0){\n",
    "        std::cout.unsetf(std::ios::showpoint);\n",
    "        }\n",
    "}"
   ]
  },
  {
   "cell_type": "code",
   "execution_count": 6,
   "metadata": {},
   "outputs": [],
   "source": [
    "// Does it work?\n",
    "double mypi = 3.14159265359;"
   ]
  },
  {
   "cell_type": "code",
   "execution_count": 7,
   "metadata": {},
   "outputs": [
    {
     "name": "stdout",
     "output_type": "stream",
     "text": [
      "3.142\n",
      "3.141593\n",
      "3\n"
     ]
    }
   ],
   "source": [
    "setup_cout_fractions(3);\n",
    "std::cout<< mypi << std::endl;\n",
    "setup_cout_fractions(6);\n",
    "std::cout<< mypi << std::endl;\n",
    "setup_cout_fractions(0);\n",
    "std::cout<< mypi <<std::endl;"
   ]
  },
  {
   "cell_type": "code",
   "execution_count": 8,
   "metadata": {},
   "outputs": [
    {
     "ename": "Error",
     "evalue": "",
     "output_type": "error",
     "traceback": [
      "Error: "
     ]
    }
   ],
   "source": [
    "// Does it throw an error?\n",
    "setup_cout_fractions(-6)"
   ]
  },
  {
   "cell_type": "code",
   "execution_count": 15,
   "metadata": {},
   "outputs": [
    {
     "name": "stderr",
     "output_type": "stream",
     "text": [
      "\u001b[1minput_line_25:2:6: \u001b[0m\u001b[0;1;31merror: \u001b[0m\u001b[1mredefinition of 'print_temperature_table'\u001b[0m\n",
      "void print_temperature_table(double start, double stop, double increment, const int WIDTH, const int DIGITS){\n",
      "\u001b[0;1;32m     ^\n",
      "\u001b[0m\u001b[1minput_line_19:2:6: \u001b[0m\u001b[0;1;30mnote: \u001b[0mprevious definition is here\u001b[0m\n",
      "void print_temperature_table(double start, double stop, double increment, const int WIDTH, const int DIGITS){\n",
      "\u001b[0;1;32m     ^\n",
      "\u001b[0m"
     ]
    },
    {
     "ename": "Interpreter Error",
     "evalue": "",
     "output_type": "error",
     "traceback": [
      "Interpreter Error: "
     ]
    }
   ],
   "source": [
    "// let's make a function to print the table:\n",
    "void print_temperature_table(double start, double stop, double increment, const int WIDTH, const int DIGITS){\n",
    "    const char SEP[] = \"    \";\n",
    "    setup_cout_fractions(DIGITS);\n",
    "    \n",
    "    std::cout<< \"Celsius\" << SEP <<\"Fahrenheit\" << std::endl;\n",
    "    \n",
    "    for(double celsius = start; celsius <= stop; celsius+=increment){\n",
    "        std::cout<< std::setw(WIDTH) << celsius << \"C°\" << SEP;\n",
    "        std::cout<< std::setw(WIDTH) << celsius_to_fahrenheit(celsius) <<\"F°\"<<std::endl;\n",
    "    }\n",
    "}"
   ]
  },
  {
   "cell_type": "code",
   "execution_count": 16,
   "metadata": {},
   "outputs": [
    {
     "ename": "Error",
     "evalue": "",
     "output_type": "error",
     "traceback": [
      "Error: "
     ]
    }
   ],
   "source": [
    "//let's check for the digit<0 error\n",
    "print_temperature_table(0, 100, 25, 10, -5)"
   ]
  },
  {
   "cell_type": "code",
   "execution_count": 17,
   "metadata": {},
   "outputs": [
    {
     "ename": "Error",
     "evalue": "",
     "output_type": "error",
     "traceback": [
      "Error: "
     ]
    }
   ],
   "source": [
    "//Let's check for the celsius < -273.15 error\n",
    "print_temperature_table(-500, 100, 25, 10, -5)"
   ]
  },
  {
   "cell_type": "code",
   "execution_count": 10,
   "metadata": {},
   "outputs": [
    {
     "name": "stdout",
     "output_type": "stream",
     "text": [
      "Celsius    Fahrenheit\n",
      "  0.0C°     32.0F°\n",
      "  5.0C°     41.0F°\n",
      " 10.0C°     50.0F°\n",
      " 15.0C°     59.0F°\n",
      " 20.0C°     68.0F°\n",
      " 25.0C°     77.0F°\n"
     ]
    }
   ],
   "source": [
    "print_temperature_table(0, 25, 5, 5, 1)"
   ]
  },
  {
   "cell_type": "code",
   "execution_count": 11,
   "metadata": {},
   "outputs": [
    {
     "name": "stdout",
     "output_type": "stream",
     "text": [
      "Celsius    Fahrenheit\n",
      "     0.000C°        32.000F°\n",
      "    25.000C°        77.000F°\n",
      "    50.000C°       122.000F°\n",
      "    75.000C°       167.000F°\n",
      "   100.000C°       212.000F°\n"
     ]
    }
   ],
   "source": [
    "print_temperature_table(0, 100, 25, 10, 3)"
   ]
  },
  {
   "cell_type": "markdown",
   "metadata": {},
   "source": [
    "### Eek! How do we correct that?"
   ]
  },
  {
   "cell_type": "code",
   "execution_count": 13,
   "metadata": {},
   "outputs": [],
   "source": [
    "// lets call the functions we wrote (put the program together)\n",
    "int main(){\n",
    "    const int DIGITS = 2;\n",
    "    const int WIDTH = 7;\n",
    "    //optimally these would be user input, but limited by (jupyter environment)\n",
    "    double start = 0;\n",
    "    double stop = 100;\n",
    "    double increment = 2.5;\n",
    "    \n",
    "    print_temperature_table(start, stop, increment, WIDTH, DIGITS);\n",
    "    \n",
    "    return EXIT_SUCCESS;\n",
    "}"
   ]
  },
  {
   "cell_type": "markdown",
   "metadata": {},
   "source": [
    "$$^\\circ$$"
   ]
  },
  {
   "cell_type": "markdown",
   "metadata": {},
   "source": [
    "### What are we missing in main?"
   ]
  },
  {
   "cell_type": "markdown",
   "metadata": {},
   "source": [
    "## Performance Analysis\n",
    "* Time Analysis: number of operations the algorithm performs\n",
    "* Space Analysis: amount of working memory the algorithm requires"
   ]
  },
  {
   "cell_type": "markdown",
   "metadata": {},
   "source": [
    "### How many steps to get to the top? \n",
    "![](figures/stairs.jpg)\n",
    "Rising Damp (https://www.flickr.com/photos/66126733@N04/6321379567/)"
   ]
  },
  {
   "cell_type": "markdown",
   "metadata": {},
   "source": [
    "## Stair Counting\n",
    ">Suppose that you and your friend Judy are standing at the top of the Eiffel Tower.\n",
    "As you gaze out over the French landscape, Judy turns to you and says, “I wonder\n",
    "how many steps there are to the bottom?” You, of course, are the everaccommodating\n",
    "host, so you reply, “I’m not sure . . . but I’ll find out.”"
   ]
  },
  {
   "cell_type": "markdown",
   "metadata": {},
   "source": [
    "## Stair Counting\n",
    "\n",
    "__Parameters__\n",
    "1. You and Judy start at the top of the staircase\n",
    "2. You and Judy end at the same place (top or bottom)\n",
    "3. There are 2689 steps\n",
    "\n",
    "__Operations__\n",
    "1. Step up or down\n",
    "2. Mark on the paper"
   ]
  },
  {
   "cell_type": "markdown",
   "metadata": {},
   "source": [
    "### Method 1: Walk down and keep a tally\n",
    "\n",
    "\n"
   ]
  },
  {
   "cell_type": "markdown",
   "metadata": {},
   "source": [
    "<!-- ### Method 1: Walk down and keep a tally -->\n",
    "<!--1. 2689 steps down -->\n",
    "<!--2. 2689 marks on the paper -->\n",
    "<!-- 1 step down, 1 mark>\n",
    "<!--3. 2689 steps up -->\n",
    "<!--4. 8067 total operations -->"
   ]
  },
  {
   "cell_type": "markdown",
   "metadata": {},
   "source": [
    "### Method 2: Walk down, but let Judy keep the tally "
   ]
  },
  {
   "cell_type": "markdown",
   "metadata": {},
   "source": [
    "<!--### Method 2: Walk down, but let Judy keep the tally-->\n",
    "<!--1. 1 step down -->\n",
    "<!--1. 1 step up -->\n",
    "<!--1. 1 mark-->\n",
    "<!--1. 2 steps down -->\n",
    "<!--1. 2 steps up -->\n",
    "<!--1. 1 mark-->\n",
    "<!---....--->\n",
    "<!--1. 2689 steps down -->\n",
    "<!--1. 2689 steps up -->\n",
    "<!--1. 1 mark-->\n",
    "<!--3. 2*3,616,705 steps + 2689 marks -->"
   ]
  },
  {
   "cell_type": "markdown",
   "metadata": {},
   "source": [
    "### Method 3: Jervis to the rescue\n",
    "![](figures/jervis.png)\n",
    "\n",
    "Data Structures & Other Objects, Third Edition (Chapter 1, pg. 16)"
   ]
  },
  {
   "cell_type": "markdown",
   "metadata": {},
   "source": [
    "<!--### Method 3: Jervis to the rescue-->\n",
    "<!-- 1 mark: 2 -->\n",
    "<!-- 1 mark: 6 -->\n",
    "<!-- 1 mark: 8 -->\n",
    "<!-- 1 mark: 9 -->"
   ]
  },
  {
   "cell_type": "markdown",
   "metadata": {},
   "source": [
    "### Time Complexity:\n",
    "\n",
    "| Method | # Steps | O notation | time |\n",
    "|--------| --------| -----------| ---- |\n",
    "| 1 | $3n$ | $O(n)$ | linear |\n",
    "| 2 | $\\frac{n(n + 1)}{2}$ | $O(n^2 + 2n)$ | quadratic |\n",
    "| 3 | $4$ | $\\lfloor\\log_{10}n\\rfloor + 1 $      | logarithmic|\n",
    "\n",
    "__n__ input/data size - 2689 steps\n"
   ]
  },
  {
   "cell_type": "markdown",
   "metadata": {},
   "source": [
    "#### Why is method 3 logarithmic and not constant? 2689 steps!\n",
    "\n",
    "2. $\\lfloor\\log_{10}2689\\rfloor$ = 3.43\n",
    "1. $2*10^3 + 6*10^2 + 8*10^1 + 9*10^0$\n",
    "3. More steps (on the order of 10) => more digits\n"
   ]
  },
  {
   "cell_type": "markdown",
   "metadata": {},
   "source": [
    "## Time Complexity of the Temperature Program?\n",
    "\n",
    "__operations__: assignment, selection, iteration, function calls, etc\n",
    "\n",
    "* `double celsius_to_fahrenheit(double c)`\n",
    "* `void setup_cout_fractions(int fraction_digits)`\n",
    "* `void print_temperature_table(double start, double stop, double increment, const int WIDTH, const int DIGITS)`\n",
    "* `int main()`"
   ]
  },
  {
   "cell_type": "markdown",
   "metadata": {},
   "source": [
    "```cpp\n",
    "double celsius_to_fahrenheit(double c){\n",
    "    //pre: c >= -273.15, post: f = c*(9/5) + 32\n",
    "    const double MINIMUM_CELSIUS = -273.15; \n",
    "    if (c < MINIMUM_CELSIUS){ throw c; } \n",
    "    return (9.0/5.0) * c + 32;\n",
    "}```"
   ]
  },
  {
   "cell_type": "markdown",
   "metadata": {},
   "source": [
    "```cpp\n",
    "void setup_cout_fractions(int fraction_digits){\n",
    "    if (fraction_digits < 0){ throw fraction_digits; }\n",
    "    std::cout.precision(fraction_digits);\n",
    "    std::cout.setf(std::ios::fixed, std::ios::floatfield);\n",
    "    std::cout.setf(std::ios::showpoint);\n",
    "    if (fraction_digits == 0){\n",
    "        std::cout.unsetf(std::ios::showpoint);\n",
    "        }\n",
    "}```"
   ]
  },
  {
   "cell_type": "markdown",
   "metadata": {},
   "source": [
    "```cpp\n",
    "void print_temperature_table(double start, double stop, double increment, const int WIDTH, const int DIGITS){\n",
    "    const char SEP[] = \"    \";\n",
    "    setup_cout_fractions(DIGITS);\n",
    "    \n",
    "    std::cout<< \"Celsius\" << SEP <<\"Fahrenheit\" << std::endl;\n",
    "    \n",
    "    for(double celsius = start; celsius <= stop; celsius+=increment){\n",
    "        std::cout<< std::setw(WIDTH) << celsius << \"C°\" << SEP;\n",
    "        std::cout<< std::setw(WIDTH) << celsius_to_fahrenheit(celsius) <<\"F°\"<<std::endl;\n",
    "    }\n",
    "}```"
   ]
  },
  {
   "cell_type": "markdown",
   "metadata": {},
   "source": [
    "```cpp\n",
    "int main(){\n",
    "    const int DIGITS = 2;\n",
    "    const int WIDTH = 7;\n",
    "    //optimally these would be user input, but limited by (jupyter environment)\n",
    "    double start = 0;\n",
    "    double stop = 100;\n",
    "    double increment = 2.5;\n",
    "    \n",
    "    print_temperature_table(start, stop, increment, WIDTH, DIGITS);\n",
    "    \n",
    "    return EXIT_SUCCESS;\n",
    "}```"
   ]
  }
 ],
 "metadata": {
  "kernelspec": {
   "display_name": "C++17",
   "language": "C++17",
   "name": "xeus-cling-cpp17"
  },
  "language_info": {
   "codemirror_mode": "text/x-c++src",
   "file_extension": ".cpp",
   "mimetype": "text/x-c++src",
   "name": "c++",
   "version": "-std=c++17"
  }
 },
 "nbformat": 4,
 "nbformat_minor": 2
}
