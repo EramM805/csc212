{
 "cells": [
  {
   "cell_type": "markdown",
   "metadata": {
    "slideshow": {
     "slide_type": "slide"
    }
   },
   "source": [
    "# Objectives\n",
    "* List the definitions of Heaps and B-Trees\n",
    "* modify a heap, with a reheapification\n",
    "* modify a B-tree (B\n",
    "* use a heap to implement a priority queue\n",
    "* use B-tree to implement a set class\n",
    "* STL: priority queue, heap, map, multimap\n",
    "* analyse time complexity of algorithms on different types of trees"
   ]
  },
  {
   "cell_type": "markdown",
   "metadata": {
    "slideshow": {
     "slide_type": "slide"
    }
   },
   "source": [
    "# Heap\n",
    "* Binary Tree with strict weak ordering of nodes:\n",
    "    *  parent_node.key $\\ge$ child_node.key\n",
    "\n",
    "* Adding elements:\n",
    "    1. place new entry oin first available slot to stay complete \n",
    "    2. swap new entry with parents until heap requirement is met\n",
    "    \n",
    "* Removing elements:\n",
    "    1. remove element with highest priority (may just be requested element)\n",
    "    2. move last leaf to spot where element was removed (so that tree structure is maintained)\n",
    "    3. swap with parent until heap requirement is met"
   ]
  },
  {
   "cell_type": "markdown",
   "metadata": {
    "slideshow": {
     "slide_type": "slide"
    }
   },
   "source": [
    "# Priority Queue as heap\n",
    "* node has indexing/weighing attribute\n",
    "* indexing/weighing is used for location in heap\n",
    "* queue processed based on on location in heap, root first\n",
    "\n",
    "* https://see.stanford.edu/materials/icspacs106b/h32-assign6pqueue.pdf"
   ]
  },
  {
   "cell_type": "markdown",
   "metadata": {},
   "source": [
    "# B-Trees\n",
    "* B-tree nodes have more than 2 children\n",
    "* each node contains more than one entry (literal value)\n",
    "* https://medium.com/basecs/busying-oneself-with-b-trees-78bbf10522e7"
   ]
  },
  {
   "cell_type": "markdown",
   "metadata": {},
   "source": [
    "## B-Tree Rules\n",
    "1. \\# root entries $\\geq$ 1\n",
    "2. `MINIMUM` $\\leq$ \\# node entries $\\leq$ 2*`MINIMUM`\n",
    "3. entries stored in partially filled, sorted smallest to largest\n",
    "4. \\# subtrees of node = 1 + \\# entries in node\n",
    "5. for non leaf nodes:\n",
    "    1. entry at index i $\\gt$ entries in subtree (i)\n",
    "    2.  entry at index i $\\lt$ entries in subtree (i+1)\n",
    "6. Balanced: every leaf in a B-Tree is at the same depth"
   ]
  },
  {
   "cell_type": "markdown",
   "metadata": {},
   "source": [
    "M\n",
    "![b-tree](figures/chap11/b-tree/b_tree01.png)"
   ]
  },
  {
   "cell_type": "code",
   "execution_count": 3,
   "metadata": {},
   "outputs": [
    {
     "name": "stdout",
     "output_type": "stream",
     "text": [
      "b_tree01.aux\t      b_tree01.fls  b_tree01.pdf  b_tree01.synctex.gz\r\n",
      "b_tree01.fdb_latexmk  b_tree01.log  b_tree01.png  b_tree01.tex\r\n"
     ]
    }
   ],
   "source": [
    "!ls figures/chap11/b-tree/"
   ]
  },
  {
   "cell_type": "code",
   "execution_count": null,
   "metadata": {},
   "outputs": [],
   "source": []
  }
 ],
 "metadata": {
  "celltoolbar": "Slideshow",
  "kernelspec": {
   "display_name": "Python 3",
   "language": "python",
   "name": "python3"
  },
  "language_info": {
   "codemirror_mode": {
    "name": "ipython",
    "version": 3
   },
   "file_extension": ".py",
   "mimetype": "text/x-python",
   "name": "python",
   "nbconvert_exporter": "python",
   "pygments_lexer": "ipython3",
   "version": "3.6.6"
  }
 },
 "nbformat": 4,
 "nbformat_minor": 2
}
