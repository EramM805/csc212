{
 "cells": [
  {
   "cell_type": "markdown",
   "metadata": {},
   "source": [
    "# Abstract Data Types and C++ Classes"
   ]
  },
  {
   "cell_type": "markdown",
   "metadata": {},
   "source": [
    "![Lego workmen repairing a faulty hard drive](figures/lego_hd.jpg)\n",
    "https://www.flickr.com/photos/wwarby/11682625885"
   ]
  },
  {
   "cell_type": "markdown",
   "metadata": {},
   "source": [
    "## Classes and Members\n",
    "\n",
    "* __Attributes__: What are the characteristics of the repair minifigs? \n",
    "* __Methods__: What sort of things can the minifigs do? "
   ]
  },
  {
   "cell_type": "markdown",
   "metadata": {},
   "source": [
    "### Let's define a 'Minifig' data type (class)\n",
    "```cpp\n",
    "#include <iostream>\n",
    "#include <string>\n",
    "class Minifig{\n",
    "    public:\n",
    "        std::string get_name();\n",
    "        bool has_tool();\n",
    "        void move(int xstep, int ystep);\n",
    "    private:\n",
    "        std::string name;\n",
    "        bool tool;\n",
    "        int xpos;\n",
    "        int ypos;    \n",
    "};\n",
    "```"
   ]
  },
  {
   "cell_type": "markdown",
   "metadata": {},
   "source": [
    "## Private vs Public?\n",
    "\n",
    "* __private__: can only be accessed by class methods\n",
    "* __public__: can be accessed by any function "
   ]
  },
  {
   "cell_type": "markdown",
   "metadata": {},
   "source": [
    "## But how do we create minifig objects? Constructor!"
   ]
  },
  {
   "cell_type": "code",
   "execution_count": null,
   "metadata": {},
   "outputs": [],
   "source": [
    "#include <iostream>\n",
    "#include <string>\n",
    "class Minifig{\n",
    "    public:\n",
    "        Minifig(std::string figname, bool hastool);\n",
    "        std::string get_name();\n",
    "        bool has_tool();\n",
    "        void move(int xstep, int ystep);\n",
    "    private:\n",
    "        std::string name;\n",
    "        bool tool;\n",
    "        int xpos;\n",
    "        int ypos;    \n",
    "};"
   ]
  },
  {
   "cell_type": "code",
   "execution_count": 2,
   "metadata": {},
   "outputs": [],
   "source": [
    "// class name:: means the method belongs to the <class name> class. \n",
    "// for example, std::string means that the string constructor method belongs the std class\n",
    "Minifig::Minifig(std::string figname, bool hastool){\n",
    "    name = figname;\n",
    "    tool = hastool;\n",
    "    xpos = 0;\n",
    "    ypos = 0;\n",
    "}"
   ]
  },
  {
   "cell_type": "code",
   "execution_count": 3,
   "metadata": {},
   "outputs": [],
   "source": [
    "Minifig Bob = Minifig(\"Bob\", true);"
   ]
  },
  {
   "cell_type": "code",
   "execution_count": 4,
   "metadata": {},
   "outputs": [
    {
     "data": {
      "text/plain": [
       "@0x7f34c5040028"
      ]
     },
     "execution_count": 4,
     "metadata": {},
     "output_type": "execute_result"
    }
   ],
   "source": [
    "//Bob's location in memory\n",
    "Bob"
   ]
  },
  {
   "cell_type": "code",
   "execution_count": 5,
   "metadata": {},
   "outputs": [
    {
     "name": "stderr",
     "output_type": "stream",
     "text": [
      "\u001b[1minput_line_15:2:6: \u001b[0m\u001b[0;1;31merror: \u001b[0m\u001b[1m'name' is a private member of 'Minifig'\u001b[0m\n",
      " Bob.name\n",
      "\u001b[0;1;32m     ^\n",
      "\u001b[0m\u001b[1minput_line_8:8:21: \u001b[0m\u001b[0;1;30mnote: \u001b[0mdeclared private here\u001b[0m\n",
      "        std::string name;\n",
      "\u001b[0;1;32m                    ^\n",
      "\u001b[0m"
     ]
    },
    {
     "ename": "Interpreter Error",
     "evalue": "",
     "output_type": "error",
     "traceback": [
      "Interpreter Error: "
     ]
    }
   ],
   "source": [
    "Bob.name"
   ]
  },
  {
   "cell_type": "code",
   "execution_count": 6,
   "metadata": {},
   "outputs": [
    {
     "name": "stderr",
     "output_type": "stream",
     "text": [
      "IncrementalExecutor::executeFunction: symbol '_ZN7Minifig8get_nameB5cxx11Ev' unresolved while linking [cling interface function]!\n",
      "You are probably missing the definition of Minifig::get_name[abi:cxx11]()\n",
      "Maybe you need to load the corresponding shared library?\n"
     ]
    }
   ],
   "source": [
    "Bob.get_name()"
   ]
  },
  {
   "cell_type": "code",
   "execution_count": 7,
   "metadata": {},
   "outputs": [
    {
     "name": "stderr",
     "output_type": "stream",
     "text": [
      "\u001b[1minput_line_17:2:10: \u001b[0m\u001b[0;1;31merror: \u001b[0m\u001b[1mno matching constructor for initialization of 'Minifig'\u001b[0m\n",
      " Minifig Alice;\n",
      "\u001b[0;1;32m         ^\n",
      "\u001b[0m\u001b[1minput_line_8:1:7: \u001b[0m\u001b[0;1;30mnote: \u001b[0mcandidate constructor (the implicit copy constructor) not viable: requires 1 argument, but 0 were provided\u001b[0m\n",
      "class Minifig{\n",
      "\u001b[0;1;32m      ^\n",
      "\u001b[0m\u001b[1minput_line_8:1:7: \u001b[0m\u001b[0;1;30mnote: \u001b[0mcandidate constructor (the implicit move constructor) not viable: requires 1 argument, but 0 were provided\u001b[0m\n",
      "\u001b[1minput_line_9:3:10: \u001b[0m\u001b[0;1;30mnote: \u001b[0mcandidate constructor not viable: requires 2 arguments, but 0 were provided\u001b[0m\n",
      "Minifig::Minifig(std::string figname, bool hastool){\n",
      "\u001b[0;1;32m         ^\n",
      "\u001b[0m"
     ]
    },
    {
     "ename": "Interpreter Error",
     "evalue": "",
     "output_type": "error",
     "traceback": [
      "Interpreter Error: "
     ]
    }
   ],
   "source": [
    "Minifig Dot;"
   ]
  },
  {
   "cell_type": "markdown",
   "metadata": {},
   "source": [
    "# Let's implement the empty constructor!"
   ]
  },
  {
   "cell_type": "code",
   "execution_count": 1,
   "metadata": {},
   "outputs": [],
   "source": [
    "#include <iostream>\n",
    "#include <string>\n",
    "class Minifig{\n",
    "    public:\n",
    "        Minifig();\n",
    "        Minifig(std::string figname, bool hastool);\n",
    "        std::string get_name();\n",
    "        bool has_tool();\n",
    "        void move(int xstep, int ystep);\n",
    "        void current_position();\n",
    "    private:\n",
    "        std::string name;\n",
    "        bool tool;\n",
    "        int xpos;\n",
    "        int ypos;    \n",
    "};"
   ]
  },
  {
   "cell_type": "code",
   "execution_count": 2,
   "metadata": {},
   "outputs": [],
   "source": [
    "Minifig::Minifig(){};"
   ]
  },
  {
   "cell_type": "code",
   "execution_count": 3,
   "metadata": {},
   "outputs": [],
   "source": [
    "Minifig Dot;"
   ]
  },
  {
   "cell_type": "code",
   "execution_count": 4,
   "metadata": {},
   "outputs": [],
   "source": [
    "Minifig::Minifig(std::string figname, bool hastool){\n",
    "    name = figname;\n",
    "    tool = hastool;\n",
    "    xpos = 0;\n",
    "    ypos = 0;\n",
    "}"
   ]
  },
  {
   "cell_type": "code",
   "execution_count": 5,
   "metadata": {},
   "outputs": [],
   "source": [
    "Dot = Minifig(\"Dot\", true);"
   ]
  },
  {
   "cell_type": "markdown",
   "metadata": {},
   "source": [
    "### Now let's implement the other methods"
   ]
  },
  {
   "cell_type": "code",
   "execution_count": 6,
   "metadata": {},
   "outputs": [],
   "source": [
    "std::string Minifig::get_name(){\n",
    "    return name;\n",
    "};"
   ]
  },
  {
   "cell_type": "code",
   "execution_count": 7,
   "metadata": {},
   "outputs": [
    {
     "data": {
      "text/plain": [
       "\"Alice\""
      ]
     },
     "execution_count": 7,
     "metadata": {},
     "output_type": "execute_result"
    }
   ],
   "source": [
    "Dot.get_name()"
   ]
  },
  {
   "cell_type": "code",
   "execution_count": 8,
   "metadata": {},
   "outputs": [],
   "source": [
    "bool Minifig::has_tool(){\n",
    "    return tool;\n",
    "};"
   ]
  },
  {
   "cell_type": "code",
   "execution_count": 9,
   "metadata": {},
   "outputs": [
    {
     "data": {
      "text/plain": [
       "true"
      ]
     },
     "execution_count": 9,
     "metadata": {},
     "output_type": "execute_result"
    }
   ],
   "source": [
    "Dot.has_tool()"
   ]
  },
  {
   "cell_type": "code",
   "execution_count": 10,
   "metadata": {},
   "outputs": [],
   "source": [
    "void Minifig::move(int xstep, int ystep){\n",
    "    xpos += xstep;\n",
    "    ypos +=ystep;\n",
    "};"
   ]
  },
  {
   "cell_type": "code",
   "execution_count": 11,
   "metadata": {},
   "outputs": [],
   "source": [
    "Dot.move(10,10)"
   ]
  },
  {
   "cell_type": "code",
   "execution_count": 12,
   "metadata": {},
   "outputs": [],
   "source": [
    "void Minifig::current_position(){\n",
    "    std::cout<<\"x: \"<< xpos << \" y: \"<< ypos <<std::endl;\n",
    "};"
   ]
  },
  {
   "cell_type": "code",
   "execution_count": 14,
   "metadata": {},
   "outputs": [
    {
     "name": "stdout",
     "output_type": "stream",
     "text": [
      "x: 10 y: 10\n"
     ]
    }
   ],
   "source": [
    "Dot.current_position()"
   ]
  },
  {
   "cell_type": "markdown",
   "metadata": {},
   "source": [
    "# What about optionally setting the start position?"
   ]
  },
  {
   "cell_type": "code",
   "execution_count": 1,
   "metadata": {},
   "outputs": [],
   "source": [
    "#include <iostream>\n",
    "#include <string>\n",
    "class Minifig{\n",
    "    public:\n",
    "        Minifig(std::string figname, bool hastool, int x=0, int y=0);\n",
    "        std::string get_name();\n",
    "        bool has_tool();\n",
    "        void move(int xstep, int ystep);\n",
    "        void current_position();\n",
    "    private:\n",
    "        std::string name;\n",
    "        bool tool;\n",
    "        int xpos;\n",
    "        int ypos;    \n",
    "};"
   ]
  },
  {
   "cell_type": "code",
   "execution_count": 2,
   "metadata": {},
   "outputs": [],
   "source": [
    "Minifig::Minifig(std::string figname, bool hastool, int x, int y){\n",
    "    name = figname;\n",
    "    tool = hastool;\n",
    "    xpos = x;\n",
    "    ypos = y;\n",
    "}"
   ]
  },
  {
   "cell_type": "code",
   "execution_count": 3,
   "metadata": {},
   "outputs": [],
   "source": [
    "void Minifig::current_position(){\n",
    "    std::cout<<\"x: \"<< xpos << \" y: \"<< ypos <<std::endl;\n",
    "};"
   ]
  },
  {
   "cell_type": "code",
   "execution_count": 4,
   "metadata": {},
   "outputs": [],
   "source": [
    "Minifig A(\"Luke\", true);\n",
    "Minifig B(\"Leia\", true, 2, 3);"
   ]
  },
  {
   "cell_type": "code",
   "execution_count": 5,
   "metadata": {},
   "outputs": [
    {
     "name": "stdout",
     "output_type": "stream",
     "text": [
      "x: 0 y: 0\n"
     ]
    }
   ],
   "source": [
    "A.current_position()"
   ]
  },
  {
   "cell_type": "code",
   "execution_count": 6,
   "metadata": {},
   "outputs": [
    {
     "name": "stdout",
     "output_type": "stream",
     "text": [
      "x: 2 y: 3\n"
     ]
    }
   ],
   "source": [
    "B.current_position()"
   ]
  },
  {
   "cell_type": "markdown",
   "metadata": {},
   "source": [
    "# Can we simplify some of this? (inline decorations)\n",
    "```cpp\n",
    "#include <iostream>\n",
    "#include <string>\n",
    "class Minifig{\n",
    "    public:\n",
    "        Minifig(){}; //constructor\n",
    "        Minifig(std::string figname, bool hastool, int x=0, int y=0);\n",
    "        ~Minifig(){}; //destructor\n",
    "        std::string get_name(){return name;}\n",
    "        bool has_tool(){return tool;}\n",
    "        void move(int xstep, int ystep);\n",
    "        void current_position();\n",
    "        \n",
    "    private:\n",
    "        std::string name;\n",
    "        bool tool;\n",
    "        int xpos;\n",
    "        int ypos;    \n",
    "};\n",
    "```"
   ]
  },
  {
   "cell_type": "markdown",
   "metadata": {},
   "source": [
    "# Can we actually print bob? friend functions!"
   ]
  },
  {
   "cell_type": "code",
   "execution_count": 1,
   "metadata": {},
   "outputs": [],
   "source": [
    "#include <iostream>\n",
    "#include <string>\n",
    "class Minifig{\n",
    "    public:\n",
    "        Minifig(){}; //constructor\n",
    "        Minifig(std::string figname, bool hastool, int x=0, int y=0);\n",
    "        ~Minifig(){}; //destructor\n",
    "        std::string get_name(){return name;};\n",
    "        bool has_tool(){return tool;};\n",
    "        void move(int xstep, int ystep);\n",
    "        void current_position();\n",
    "        //works for all streams: iostream, sstream, fstream\n",
    "        friend std::istream& operator>>(std::istream &input, Minifig& fig);\n",
    "        friend std::ostream& operator<<(std::ostream &output, Minifig& fig);\n",
    "    private:\n",
    "        std::string name;\n",
    "        bool tool;\n",
    "        int xpos;\n",
    "        int ypos;    \n",
    "};"
   ]
  },
  {
   "cell_type": "code",
   "execution_count": 2,
   "metadata": {},
   "outputs": [],
   "source": [
    "Minifig::Minifig(std::string figname, bool hastool, int x, int y){\n",
    "    name = figname;\n",
    "    tool = hastool;\n",
    "    xpos = x;\n",
    "    ypos = y;\n",
    "};"
   ]
  },
  {
   "cell_type": "code",
   "execution_count": 3,
   "metadata": {},
   "outputs": [
    {
     "name": "stderr",
     "output_type": "stream",
     "text": [
      "\u001b[1minput_line_10:2:61: \u001b[0m\u001b[0;1;31merror: \u001b[0m\u001b[1mfunction definition is not allowed here\u001b[0m\n",
      " std::istream& operator>>(std::istream &input, Minifig& fig){\n",
      "\u001b[0;1;32m                                                            ^\n",
      "\u001b[0m"
     ]
    },
    {
     "ename": "Interpreter Error",
     "evalue": "",
     "output_type": "error",
     "traceback": [
      "Interpreter Error: "
     ]
    }
   ],
   "source": [
    "std::istream& operator>>(std::istream &input, Minifig& fig){\n",
    "    input>>fig.name>>fig.tool;\n",
    "    return input;\n",
    "};"
   ]
  },
  {
   "cell_type": "code",
   "execution_count": 7,
   "metadata": {},
   "outputs": [
    {
     "name": "stderr",
     "output_type": "stream",
     "text": [
      "\u001b[1minput_line_14:2:61: \u001b[0m\u001b[0;1;31merror: \u001b[0m\u001b[1mfunction definition is not allowed here\u001b[0m\n",
      " std::ostream&operator<<(std::ostream &output, Minifig& fig){\n",
      "\u001b[0;1;32m                                                            ^\n",
      "\u001b[0m"
     ]
    },
    {
     "ename": "Interpreter Error",
     "evalue": "",
     "output_type": "error",
     "traceback": [
      "Interpreter Error: "
     ]
    }
   ],
   "source": [
    "std::ostream&operator<<(std::ostream &output, Minifig& fig){\n",
    "output << fig.name << \"(\"<<fig.xpos <<\", \"<<fig.ypos <<\")\"<<std::endl;\n",
    "return output;\n",
    "}"
   ]
  },
  {
   "cell_type": "code",
   "execution_count": null,
   "metadata": {},
   "outputs": [],
   "source": []
  }
 ],
 "metadata": {
  "kernelspec": {
   "display_name": "C++17",
   "language": "C++17",
   "name": "xeus-cling-cpp17"
  },
  "language_info": {
   "codemirror_mode": "text/x-c++src",
   "file_extension": ".cpp",
   "mimetype": "text/x-c++src",
   "name": "c++",
   "version": "-std=c++17"
  }
 },
 "nbformat": 4,
 "nbformat_minor": 2
}
