{
 "cells": [
  {
   "cell_type": "markdown",
   "metadata": {
    "slideshow": {
     "slide_type": "slide"
    }
   },
   "source": [
    "# Container Classes"
   ]
  },
  {
   "cell_type": "markdown",
   "metadata": {
    "slideshow": {
     "slide_type": "slide"
    }
   },
   "source": [
    "# Objectives\n",
    "* Define the characteristics of a container class\n",
    "* Design and implement collection classes using arrays\n",
    "* use `typedef` to abstract the datatype the class stores\n",
    "* use `static const` to identify fixed attributes and methods that don't change the class\n",
    "* use STL functions in the class implementation\n",
    "* write and maintain invariants for classes"
   ]
  },
  {
   "cell_type": "markdown",
   "metadata": {
    "slideshow": {
     "slide_type": "slide"
    }
   },
   "source": [
    "![merlin putting books in bottomless bag](figures/chap03/merlin.gif)"
   ]
  },
  {
   "cell_type": "markdown",
   "metadata": {
    "slideshow": {
     "slide_type": "slide"
    }
   },
   "source": [
    "# Containers\n",
    "\n",
    "| random | sequential | associative |\n",
    "|:-------------:|:-------:|:---------------:|\n",
    "|<img src=\"figures/chap03/merlin.gif\" alt=\"drawing\" width=\"200\"/>|<img src=\"figures\\chap08\\legoq.jpg\" alt=\"lego standing on a bench and 3 legos in line\" width=\"200\">|<img src=\"figures/chap03/labels.jpg\" alt=\"drawing\" width=\"200\"/>|"
   ]
  },
  {
   "cell_type": "markdown",
   "metadata": {
    "slideshow": {
     "slide_type": "slide"
    }
   },
   "source": [
    "+ __random__ collection of objects thrown into container\n",
    "+ __sequential__ linear index based storage (e.g. array, linked list)\n",
    "+ __associative__  (key, value) based storage (e.g. hash tables, heaps)"
   ]
  },
  {
   "cell_type": "markdown",
   "metadata": {
    "slideshow": {
     "slide_type": "slide"
    }
   },
   "source": [
    "# Containers: Storage\n",
    "\n",
    "How does stuff get in and out of the container?\n",
    "* __create/delete__ the container\n",
    "* __insert/delete__ elements into/from the container\n",
    "* __size__ is size fixed, can it grow"
   ]
  },
  {
   "cell_type": "markdown",
   "metadata": {
    "slideshow": {
     "slide_type": "slide"
    }
   },
   "source": [
    "# Containers: Access\n",
    "\n",
    "* __Access__: retrieving elements from the container\n",
    "   + index based, value based, position based, random\n",
    "   + indexing/subscript operator []"
   ]
  },
  {
   "cell_type": "markdown",
   "metadata": {
    "slideshow": {
     "slide_type": "slide"
    }
   },
   "source": [
    "# Containers: Traversal\n",
    "* __Traversal__: moving from one element to the next in the container\n",
    "   + index increment/decrement, link following, random, etc...\n",
    "   + __iterators__ custom objects for looping over a data structure "
   ]
  },
  {
   "cell_type": "markdown",
   "metadata": {},
   "source": [
    "## place holder: Let's make a bag...."
   ]
  },
  {
   "cell_type": "markdown",
   "metadata": {
    "slideshow": {
     "slide_type": "slide"
    }
   },
   "source": [
    "## Invariant (conditions that stay true) of the Bag Class:\n",
    "* The bag can't have negative items\n",
    "* The number of items in the bag is recorded\n",
    "* The items are stored in an indexed structure, using 0 based consecutive indexing. \n"
   ]
  },
  {
   "cell_type": "markdown",
   "metadata": {
    "slideshow": {
     "slide_type": "slide"
    }
   },
   "source": [
    "## Bag: Constructor\n",
    "|make a bag,|bag b |\n",
    "|:--|:--:|\n",
    "| bag b;|<img src=\"figures/chap03/bag01.png\" width=\"100\">|"
   ]
  },
  {
   "cell_type": "markdown",
   "metadata": {
    "slideshow": {
     "slide_type": "slide"
    }
   },
   "source": [
    "## Bag: Copy Constructor\n",
    "|make a copy of a bag |bag b | bag c|\n",
    "|:--|:--:|:---:|\n",
    "| bag c(b);|<img src=\"figures/chap03/bag01.png\" width=\"100\">|<img src=\"figures/chap03/bag01.png\" width=\"100\">|"
   ]
  },
  {
   "cell_type": "markdown",
   "metadata": {
    "slideshow": {
     "slide_type": "slide"
    }
   },
   "source": [
    "## Bag: Size\n",
    "|how many things is the bag holding? | bag b |\n",
    "|:---|:----:|\n",
    "|b.size();|<img src=\"figures/chap03/bag02.png\" width=\"100\">|\n",
    "\n"
   ]
  },
  {
   "cell_type": "markdown",
   "metadata": {
    "slideshow": {
     "slide_type": "slide"
    }
   },
   "source": [
    "## Bag: Insert\n",
    "|add stuff to the bag |bag |\n",
    "|:--|:--:|\n",
    "| b.insert(42) <br /> b.insert(42)<br /> b.insert(106) |<img src=\"figures/chap03/bag03.png\" width=\"100\">|"
   ]
  },
  {
   "cell_type": "markdown",
   "metadata": {
    "slideshow": {
     "slide_type": "slide"
    }
   },
   "source": [
    "## Bag: Erase\n",
    "|remove all instances from the bag| bag b |\n",
    "|---:|:--:|\n",
    "|b.erase(106);|<img src=\"figures/chap03/bag04.png\" width=\"100\">|"
   ]
  },
  {
   "attachments": {},
   "cell_type": "markdown",
   "metadata": {
    "slideshow": {
     "slide_type": "slide"
    }
   },
   "source": [
    "## Bag: Erase one\n",
    "|erase just one instance | bag b |\n",
    "|:---|:----:|\n",
    "|b.erase_one(42);|<img src=\"figures/chap03/bag05.png\" width=\"100\">|"
   ]
  },
  {
   "cell_type": "markdown",
   "metadata": {
    "slideshow": {
     "slide_type": "subslide"
    }
   },
   "source": [
    "## Bag: Count\n",
    "|how many 42's are in the bag? | bag b |\n",
    "|:----|:----:|\n",
    "| b.count(42); |<img src=\"figures/chap03/bag05.png\" width=\"100\">|"
   ]
  },
  {
   "cell_type": "markdown",
   "metadata": {
    "slideshow": {
     "slide_type": "slide"
    }
   },
   "source": [
    "## Bag: operator+\n",
    "|create new bag by adding two bags | bag b | bag c | bag d |\n",
    "|:--- | :---: | :---: | :---:|\n",
    "| bag d = b + c;| <img src=\"figures/chap03/bag05.png\" width=\"100\"> | <img src=\"figures/chap03/bag06.png\" width=\"100\">|<img src=\"figures/chap03/bag07.png\" width=\"100\">"
   ]
  },
  {
   "attachments": {},
   "cell_type": "markdown",
   "metadata": {
    "slideshow": {
     "slide_type": "slide"
    }
   },
   "source": [
    "## Bag: operator+=\n",
    "|inplace concatenation (add one bag to another)|bag d(pre) | bag c | bag d (post)|\n",
    "|:--|:---:|:---:|:---:|\n",
    "d+=c;|<img src=\"figures/chap03/bag07.png\" width=\"100\">|<img src=\"figures/chap03/bag06.png\" width=\"100\">|<img src=\"figures/chap03/bag08.png\" width=\"100\">|\n"
   ]
  },
  {
   "cell_type": "markdown",
   "metadata": {
    "slideshow": {
     "slide_type": "slide"
    }
   },
   "source": [
    "## \"bag.h\" (very inefficient implementation)\n"
   ]
  },
  {
   "cell_type": "code",
   "execution_count": 6,
   "metadata": {
    "slideshow": {
     "slide_type": "slide"
    }
   },
   "outputs": [
    {
     "name": "stderr",
     "output_type": "stream",
     "text": [
      "\u001b[1minput_line_17:1:7: \u001b[0m\u001b[0;1;31merror: \u001b[0m\u001b[1mredefinition of 'bag'\u001b[0m\n",
      "class bag{\n",
      "\u001b[0;1;32m      ^\n",
      "\u001b[0m\u001b[1minput_line_8:1:7: \u001b[0m\u001b[0;1;30mnote: \u001b[0mprevious definition is here\u001b[0m\n",
      "class bag{\n",
      "\u001b[0;1;32m      ^\n",
      "\u001b[0m"
     ]
    },
    {
     "ename": "Interpreter Error",
     "evalue": "",
     "output_type": "error",
     "traceback": [
      "Interpreter Error: "
     ]
    }
   ],
   "source": [
    "#include <cstdlib> //provides size_t\n",
    "\n",
    "class bag{\n",
    "    public:\n",
    "        //typedefs and member constants\n",
    "        typedef int value_type;\n",
    "        typedef size_t size_type;\n",
    "        static const size_type CAPACITY = 30;\n",
    "        //constructor\n",
    "        bag(){used=0;}\n",
    "        //modifying methods (changes the bag)\n",
    "        size_type erase(const value_type& target); //return count erased targets\n",
    "        bool erase_one(const value_type& target); //return true if target in bag\n",
    "        void insert(const value_type& target);\n",
    "        void operator +=(const value_type& entry);\n",
    "        void view() const;\n",
    "        //const methods (doesn't change the bag)\n",
    "        size_type size() const {return used; }\n",
    "        size_type count(const value_type& target) const;\n",
    "    private:\n",
    "        value_type data[CAPACITY];\n",
    "        size_type used;\n",
    "    };\n",
    "// acts on bags but doesn't need access to private attributes\n",
    "bag operator +(const bag& b1, const bag& b2);\n"
   ]
  },
  {
   "cell_type": "markdown",
   "metadata": {
    "slideshow": {
     "slide_type": "slide"
    }
   },
   "source": [
    "## typedef: type aliasing\n",
    "__def__ine `value_type` as __type__ *type*\n",
    "\n",
    "```cpp\n",
    "typedef int value_type\n",
    "```\n",
    "`value_type` is int\n",
    "\n",
    "```cpp\n",
    "typedef std::string value_type\n",
    "```\n",
    "`value_type` is string"
   ]
  },
  {
   "cell_type": "markdown",
   "metadata": {
    "slideshow": {
     "slide_type": "slide"
    }
   },
   "source": [
    "## mostly overflow proof positive integer data type: size_t \n",
    "* values of size_t can hold the size of any variable\n",
    "* don't have to worry about long, long long, short, etc\n",
    "* ```#include <cstdlib>```\n",
    "```cpp\n",
    "typedef std::size_t size_type\n",
    "```"
   ]
  },
  {
   "cell_type": "code",
   "execution_count": 7,
   "metadata": {
    "slideshow": {
     "slide_type": "slide"
    }
   },
   "outputs": [
    {
     "name": "stderr",
     "output_type": "stream",
     "text": [
      "\u001b[1minput_line_18:3:5: \u001b[0m\u001b[0;1;31merror: \u001b[0m\u001b[1mredefinition of 'one'\u001b[0m\n",
      "bag one;\n",
      "\u001b[0;1;32m    ^\n",
      "\u001b[0m\u001b[1minput_line_9:3:5: \u001b[0m\u001b[0;1;30mnote: \u001b[0mprevious definition is here\u001b[0m\n",
      "bag one;\n",
      "\u001b[0;1;32m    ^\n",
      "\u001b[0m"
     ]
    },
    {
     "ename": "Interpreter Error",
     "evalue": "",
     "output_type": "error",
     "traceback": [
      "Interpreter Error: "
     ]
    }
   ],
   "source": [
    "// constructor is implemented in declaration, so \n",
    "bag one;"
   ]
  },
  {
   "cell_type": "code",
   "execution_count": 8,
   "metadata": {
    "slideshow": {
     "slide_type": "slide"
    }
   },
   "outputs": [
    {
     "data": {
      "text/plain": [
       "0"
      ]
     },
     "execution_count": 8,
     "metadata": {},
     "output_type": "execute_result"
    }
   ],
   "source": [
    "one.size()"
   ]
  },
  {
   "cell_type": "code",
   "execution_count": 9,
   "metadata": {
    "slideshow": {
     "slide_type": "slide"
    }
   },
   "outputs": [],
   "source": [
    "#include <stdexcept>\n",
    "//let's add to our bag\n",
    "void bag::insert(const value_type& entry){\n",
    "    if (used>=CAPACITY){\n",
    "        //change to range error\n",
    "        throw std::runtime_error(std::string(\"Bag is full\"));\n",
    "    }\n",
    "    data[used] = entry;\n",
    "    ++used;\n",
    "}"
   ]
  },
  {
   "cell_type": "code",
   "execution_count": 10,
   "metadata": {
    "slideshow": {
     "slide_type": "slide"
    }
   },
   "outputs": [
    {
     "data": {
      "text/plain": [
       "1"
      ]
     },
     "execution_count": 10,
     "metadata": {},
     "output_type": "execute_result"
    }
   ],
   "source": [
    "one.insert(15);\n",
    "one.size()"
   ]
  },
  {
   "cell_type": "code",
   "execution_count": 11,
   "metadata": {
    "slideshow": {
     "slide_type": "slide"
    }
   },
   "outputs": [
    {
     "data": {
      "text/plain": [
       "2"
      ]
     },
     "execution_count": 11,
     "metadata": {},
     "output_type": "execute_result"
    }
   ],
   "source": [
    "one.insert(42);\n",
    "one.size()"
   ]
  },
  {
   "cell_type": "code",
   "execution_count": 12,
   "metadata": {
    "slideshow": {
     "slide_type": "slide"
    }
   },
   "outputs": [
    {
     "ename": "Standard Exception",
     "evalue": "Bag is full",
     "output_type": "error",
     "traceback": [
      "Standard Exception: Bag is full"
     ]
    }
   ],
   "source": [
    "for (int i=0; i<100; i++){\n",
    "    one.insert(i*10);\n",
    "}"
   ]
  },
  {
   "cell_type": "code",
   "execution_count": 13,
   "metadata": {
    "slideshow": {
     "slide_type": "slide"
    }
   },
   "outputs": [
    {
     "data": {
      "text/plain": [
       "30"
      ]
     },
     "execution_count": 13,
     "metadata": {},
     "output_type": "execute_result"
    }
   ],
   "source": [
    "one.size()"
   ]
  },
  {
   "cell_type": "code",
   "execution_count": null,
   "metadata": {
    "slideshow": {
     "slide_type": "slide"
    }
   },
   "outputs": [],
   "source": [
    "//lets remove some values \n",
    "bool bag::erase_one(const value_type& target){\n",
    "    size_type index = 0;\n",
    "    while ((index < used) && (data[index] != target)){\n",
    "        ++index; \n",
    "    }\n",
    "    //target not in bag\n",
    "    if (index==used){\n",
    "        return false;\n",
    "    }\n",
    "    // target at index , so replace target with last value (index: used-i)\n",
    "    data[index] = data[used-1];\n",
    "    --used; //delete one value\n",
    "    return true; \n",
    "}"
   ]
  },
  {
   "cell_type": "markdown",
   "metadata": {
    "slideshow": {
     "slide_type": "slide"
    }
   },
   "source": [
    "* ```++i``` - increment then return\n",
    "* ```i++``` - return then increment"
   ]
  },
  {
   "cell_type": "code",
   "execution_count": null,
   "metadata": {
    "slideshow": {
     "slide_type": "slide"
    }
   },
   "outputs": [],
   "source": [
    "one.erase_one(15)"
   ]
  },
  {
   "cell_type": "code",
   "execution_count": null,
   "metadata": {
    "slideshow": {
     "slide_type": "slide"
    }
   },
   "outputs": [],
   "source": [
    "one.erase_one(20)"
   ]
  },
  {
   "cell_type": "code",
   "execution_count": null,
   "metadata": {
    "slideshow": {
     "slide_type": "slide"
    }
   },
   "outputs": [],
   "source": [
    "one.erase_one(200)"
   ]
  },
  {
   "cell_type": "code",
   "execution_count": null,
   "metadata": {
    "slideshow": {
     "slide_type": "slide"
    }
   },
   "outputs": [],
   "source": [
    "one.erase_one(-89)"
   ]
  },
  {
   "cell_type": "code",
   "execution_count": null,
   "metadata": {
    "slideshow": {
     "slide_type": "slide"
    }
   },
   "outputs": [],
   "source": [
    "one.size()"
   ]
  },
  {
   "cell_type": "code",
   "execution_count": null,
   "metadata": {
    "slideshow": {
     "slide_type": "slide"
    }
   },
   "outputs": [],
   "source": [
    "//let's clear up some space and replace with some repeats\n",
    "for (int j = 5; j<=one.size(); j++){\n",
    "    one.erase_one(j*10);\n",
    "}"
   ]
  },
  {
   "cell_type": "code",
   "execution_count": null,
   "metadata": {
    "slideshow": {
     "slide_type": "slide"
    }
   },
   "outputs": [],
   "source": [
    "one.size()"
   ]
  },
  {
   "cell_type": "code",
   "execution_count": null,
   "metadata": {
    "slideshow": {
     "slide_type": "slide"
    }
   },
   "outputs": [],
   "source": [
    "for (int k=5; k<10; k++){\n",
    "    one.insert(5);\n",
    "}"
   ]
  },
  {
   "cell_type": "code",
   "execution_count": null,
   "metadata": {
    "slideshow": {
     "slide_type": "slide"
    }
   },
   "outputs": [],
   "source": [
    "// how do we check that we've really added 5 5's?\n",
    "bag::size_type bag::count()(const value_type& target){\n",
    "    //solve in class\n",
    "}"
   ]
  },
  {
   "cell_type": "code",
   "execution_count": null,
   "metadata": {
    "slideshow": {
     "slide_type": "slide"
    }
   },
   "outputs": [],
   "source": [
    "// how do we erase those 5s?\n",
    "bag::size_type bag::erase(const value_type& target){\n",
    "    //solve in class\n",
    "}"
   ]
  },
  {
   "cell_type": "code",
   "execution_count": null,
   "metadata": {
    "slideshow": {
     "slide_type": "slide"
    }
   },
   "outputs": [],
   "source": [
    "bag two;\n",
    "two.insert(1);\n",
    "two.insert(2);\n",
    "two.insert(3);\n",
    "two.size()"
   ]
  },
  {
   "cell_type": "code",
   "execution_count": null,
   "metadata": {
    "slideshow": {
     "slide_type": "slide"
    }
   },
   "outputs": [],
   "source": [
    "one.size()"
   ]
  },
  {
   "cell_type": "code",
   "execution_count": null,
   "metadata": {
    "slideshow": {
     "slide_type": "slide"
    }
   },
   "outputs": [],
   "source": [
    "#include <iostream>\n",
    "#include <algorithm>"
   ]
  },
  {
   "cell_type": "code",
   "execution_count": null,
   "metadata": {
    "slideshow": {
     "slide_type": "slide"
    }
   },
   "outputs": [],
   "source": [
    "void bag::operator +=(const bag& addend){\n",
    "    if((size() + addend.size()) > CAPACITY){\n",
    "        std::string errormsg;\n",
    "        std::sprintf(errormsg, \"Bag is full. Max is %i elements\", CAPACITY)\n",
    "        throw std::runtime_error(errormsg);\n",
    "    }\n",
    "    //c++ stdlib http://www.cplusplus.com/reference/algorithm/copy/\n",
    "    //https://en.cppreference.com/w/cpp/algorithm/copy\n",
    "    // Copies the elements in the range [first,last) into the range beginning at result.\n",
    "    // copy(pointer/index first, pointer/index last, start of where to copy into result)\n",
    "    std::copy(addend.data, addend.data + addend.used, data+used)\n",
    "    used +=addend.used;    \n",
    "}"
   ]
  },
  {
   "cell_type": "markdown",
   "metadata": {
    "slideshow": {
     "slide_type": "slide"
    }
   },
   "source": [
    "## Compiling on Visual Studio\n",
    "\n",
    "```bash\n",
    "g++ -Wall bag.h bag.cpp main.cpp -o bagtest.cpp\n",
    "```"
   ]
  },
  {
   "cell_type": "markdown",
   "metadata": {
    "slideshow": {
     "slide_type": "slide"
    }
   },
   "source": [
    "# Image Credits\n",
    "* http://thehonestbookclub.blogspot.com/2017/01/top-10-borderline-bonkers-book-blogger.html\n",
    "* https://www.flickr.com/photos/ashchand/15575413014/\n",
    "* https://www.flickr.com/photos/pasukaru76/4656741022/"
   ]
  },
  {
   "cell_type": "code",
   "execution_count": null,
   "metadata": {},
   "outputs": [],
   "source": []
  }
 ],
 "metadata": {
  "celltoolbar": "Slideshow",
  "kernelspec": {
   "display_name": "C++17",
   "language": "C++17",
   "name": "xeus-cling-cpp17"
  },
  "language_info": {
   "codemirror_mode": "text/x-c++src",
   "file_extension": ".cpp",
   "mimetype": "text/x-c++src",
   "name": "c++",
   "version": "-std=c++17"
  },
  "latex_envs": {
   "LaTeX_envs_menu_present": true,
   "autoclose": false,
   "autocomplete": true,
   "bibliofile": "biblio.bib",
   "cite_by": "apalike",
   "current_citInitial": 1,
   "eqLabelWithNumbers": true,
   "eqNumInitial": 1,
   "hotkeys": {
    "equation": "Ctrl-E",
    "itemize": "Ctrl-I"
   },
   "labels_anchors": false,
   "latex_user_defs": false,
   "report_style_numbering": false,
   "user_envs_cfg": false
  },
  "varInspector": {
   "cols": {
    "lenName": 16,
    "lenType": 16,
    "lenVar": 40
   },
   "kernels_config": {
    "python": {
     "delete_cmd_postfix": "",
     "delete_cmd_prefix": "del ",
     "library": "var_list.py",
     "varRefreshCmd": "print(var_dic_list())"
    },
    "r": {
     "delete_cmd_postfix": ") ",
     "delete_cmd_prefix": "rm(",
     "library": "var_list.r",
     "varRefreshCmd": "cat(var_dic_list()) "
    }
   },
   "types_to_exclude": [
    "module",
    "function",
    "builtin_function_or_method",
    "instance",
    "_Feature"
   ],
   "window_display": false
  }
 },
 "nbformat": 4,
 "nbformat_minor": 2
}
