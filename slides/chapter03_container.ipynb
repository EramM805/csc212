{
 "cells": [
  {
   "cell_type": "markdown",
   "metadata": {},
   "source": [
    "# Container Classes"
   ]
  },
  {
   "cell_type": "markdown",
   "metadata": {},
   "source": [
    "![merlin putting books in bottomless bag](figures/merlin.gif)\n",
    "\n",
    "http://thehonestbookclub.blogspot.com/2017/01/top-10-borderline-bonkers-book-blogger.html"
   ]
  },
  {
   "cell_type": "markdown",
   "metadata": {},
   "source": [
    "## Bag Class Specs:\n",
    "* __constructor__: make a bag, make a copy of a bag\n",
    "```cpp \n",
    "bag b; \n",
    "bag c(b); \n",
    "```\n",
    "\n",
    "* __size__: how big is the bag?\n",
    "```cpp\n",
    "b.size();\n",
    "```\n",
    "\n",
    "* __insert__: add stuff to the bag\n",
    "```cpp\n",
    "b.insert(42);\n",
    "b.insert(42);\n",
    "b.insert(106);\n",
    "```\n",
    "* __erase__: remove stuff from the bag\n",
    "```cpp\n",
    "b.erase(106);\n",
    "```\n",
    "\n",
    "* __erase_one__: erase just one item\n",
    "```cpp\n",
    "b.erase_one(42);\n",
    "```\n",
    "\n",
    "* __count__: how many 1's are in the bag?\n",
    "```cpp\n",
    "b.count(1); \n",
    "```\n",
    "\n",
    "* **+** : create new bag by adding two bags\n",
    "```cpp\n",
    "bag d = b + c;\n",
    "```\n",
    "\n",
    "* **+=** : inplace concatenation (add one bag to another)\n",
    "```cpp\n",
    "d+=c;\n",
    "```"
   ]
  },
  {
   "cell_type": "markdown",
   "metadata": {},
   "source": [
    "## typedef: type aliasing\n",
    "__def__ine `value_type` as __type__ *type*\n",
    "\n",
    "```cpp\n",
    "typedef int value_type\n",
    "```\n",
    "`value_type` is int\n",
    "\n",
    "```cpp\n",
    "typedef std::string value_type\n",
    "```\n",
    "`value_type` is string"
   ]
  },
  {
   "cell_type": "markdown",
   "metadata": {},
   "source": [
    "## mostly overflow proof positive integer data type: size_t \n",
    "* values of size_t can hold the size of any variable\n",
    "* don't have to worry about long, long long, short, etc\n",
    "* ```#include <cstdlib>```\n",
    "```cpp\n",
    "typedef std::size_t size_type\n",
    "```"
   ]
  },
  {
   "cell_type": "markdown",
   "metadata": {},
   "source": [
    "## Invariant (conditions that stay true) of the Bag Class:\n",
    "* The bag can't have negative items\n",
    "* The number of items in the bag is stored in `used`\n",
    "* The items are stored in an indexed structure, using 0 based consecutive indexing. \n"
   ]
  },
  {
   "cell_type": "markdown",
   "metadata": {},
   "source": [
    "## \"bag.h\" (very inefficient implementation)\n"
   ]
  },
  {
   "cell_type": "code",
   "execution_count": 1,
   "metadata": {},
   "outputs": [],
   "source": [
    "#include <cstdlib> //provides size_t\n",
    "\n",
    "class bag{\n",
    "    public:\n",
    "        //typedefs and member constants\n",
    "        typedef int value_type;\n",
    "        typedef size_t size_type;\n",
    "        static const size_type CAPACITY = 30;\n",
    "        //constructor\n",
    "        bag(){used=0;}\n",
    "        //modifying methods (changes the bag)\n",
    "        size_type erase(const value_type& target); //return count erased targets\n",
    "        bool erase_one(const value_type& target); //return true if target in bag\n",
    "        void insert(const value_type& target);\n",
    "        void operator +=(const value_type& entry);\n",
    "        //const methods (doesn't change the bag)\n",
    "        size_type size() const {return used; }\n",
    "        size_type count(const value_type& target) const;\n",
    "    private:\n",
    "        value_type data[CAPACITY];\n",
    "        size_type used;\n",
    "    };\n",
    "// acts on bags but doesn't need access to private attributes\n",
    "bag operator +(const bag& b1, const bag& b2);\n"
   ]
  },
  {
   "cell_type": "code",
   "execution_count": 2,
   "metadata": {},
   "outputs": [],
   "source": [
    "// constructor is implemented in declaration, so \n",
    "bag one;"
   ]
  },
  {
   "cell_type": "code",
   "execution_count": 3,
   "metadata": {},
   "outputs": [
    {
     "data": {
      "text/plain": [
       "0"
      ]
     },
     "execution_count": 3,
     "metadata": {},
     "output_type": "execute_result"
    }
   ],
   "source": [
    "one.size()"
   ]
  },
  {
   "cell_type": "code",
   "execution_count": 5,
   "metadata": {},
   "outputs": [],
   "source": [
    "#include <stdexcept>\n",
    "//let's add to our bag\n",
    "void bag::insert(const value_type& entry){\n",
    "    if (size()>=CAPACITY){\n",
    "        throw std::runtime_error(std::string(\"Bag is full\"));\n",
    "    }\n",
    "    data[used] = entry;\n",
    "    ++used;\n",
    "}"
   ]
  },
  {
   "cell_type": "code",
   "execution_count": 6,
   "metadata": {},
   "outputs": [
    {
     "data": {
      "text/plain": [
       "1"
      ]
     },
     "execution_count": 6,
     "metadata": {},
     "output_type": "execute_result"
    }
   ],
   "source": [
    "one.insert(15);\n",
    "one.size()"
   ]
  },
  {
   "cell_type": "code",
   "execution_count": 7,
   "metadata": {},
   "outputs": [
    {
     "data": {
      "text/plain": [
       "2"
      ]
     },
     "execution_count": 7,
     "metadata": {},
     "output_type": "execute_result"
    }
   ],
   "source": [
    "one.insert(42);\n",
    "one.size()"
   ]
  },
  {
   "cell_type": "code",
   "execution_count": 8,
   "metadata": {},
   "outputs": [
    {
     "ename": "Standard Exception",
     "evalue": "Bag is full",
     "output_type": "error",
     "traceback": [
      "Standard Exception: Bag is full"
     ]
    }
   ],
   "source": [
    "for (int i=0; i<100; i++){\n",
    "    one.insert(i*10);\n",
    "}"
   ]
  },
  {
   "cell_type": "code",
   "execution_count": 9,
   "metadata": {},
   "outputs": [
    {
     "data": {
      "text/plain": [
       "30"
      ]
     },
     "execution_count": 9,
     "metadata": {},
     "output_type": "execute_result"
    }
   ],
   "source": [
    "one.size()"
   ]
  },
  {
   "cell_type": "code",
   "execution_count": 10,
   "metadata": {},
   "outputs": [],
   "source": [
    "//lets remove some values \n",
    "bool bag::erase_one(const value_type& target){\n",
    "    size_type index = 0;\n",
    "    while ((index < used) && (data[index] != target)){\n",
    "        ++index; \n",
    "    }\n",
    "    //target not in bag\n",
    "    if (index==used){\n",
    "        return false;\n",
    "    }\n",
    "    // target at index , so replace target with last value (index: used-i)\n",
    "    data[index] = data[used-1];\n",
    "    --used; //delete one value\n",
    "    return true; \n",
    "}"
   ]
  },
  {
   "cell_type": "markdown",
   "metadata": {},
   "source": [
    "* ```++i``` - increment then return\n",
    "* ```i++``` - return then increment"
   ]
  },
  {
   "cell_type": "code",
   "execution_count": 12,
   "metadata": {},
   "outputs": [
    {
     "data": {
      "text/plain": [
       "true"
      ]
     },
     "execution_count": 12,
     "metadata": {},
     "output_type": "execute_result"
    }
   ],
   "source": [
    "one.erase_one(15)"
   ]
  },
  {
   "cell_type": "code",
   "execution_count": 13,
   "metadata": {},
   "outputs": [
    {
     "data": {
      "text/plain": [
       "true"
      ]
     },
     "execution_count": 13,
     "metadata": {},
     "output_type": "execute_result"
    }
   ],
   "source": [
    "one.erase_one(20)"
   ]
  },
  {
   "cell_type": "code",
   "execution_count": 14,
   "metadata": {},
   "outputs": [
    {
     "data": {
      "text/plain": [
       "true"
      ]
     },
     "execution_count": 14,
     "metadata": {},
     "output_type": "execute_result"
    }
   ],
   "source": [
    "one.erase_one(200)"
   ]
  },
  {
   "cell_type": "code",
   "execution_count": 15,
   "metadata": {},
   "outputs": [
    {
     "data": {
      "text/plain": [
       "false"
      ]
     },
     "execution_count": 15,
     "metadata": {},
     "output_type": "execute_result"
    }
   ],
   "source": [
    "one.erase_one(-89)"
   ]
  },
  {
   "cell_type": "code",
   "execution_count": 16,
   "metadata": {},
   "outputs": [
    {
     "data": {
      "text/plain": [
       "27"
      ]
     },
     "execution_count": 16,
     "metadata": {},
     "output_type": "execute_result"
    }
   ],
   "source": [
    "one.size()"
   ]
  },
  {
   "cell_type": "code",
   "execution_count": 19,
   "metadata": {},
   "outputs": [],
   "source": [
    "//let's clear up some space and replace with some repeats\n",
    "for (int j = 5; j<=one.size(); j++){\n",
    "    one.erase_one(j*10);\n",
    "}"
   ]
  },
  {
   "cell_type": "code",
   "execution_count": 20,
   "metadata": {},
   "outputs": [
    {
     "data": {
      "text/plain": [
       "15"
      ]
     },
     "execution_count": 20,
     "metadata": {},
     "output_type": "execute_result"
    }
   ],
   "source": [
    "one.size()"
   ]
  },
  {
   "cell_type": "code",
   "execution_count": 21,
   "metadata": {},
   "outputs": [],
   "source": [
    "for (int k=5; k<10; k++){\n",
    "    one.insert(5);\n",
    "}"
   ]
  },
  {
   "cell_type": "code",
   "execution_count": null,
   "metadata": {},
   "outputs": [],
   "source": [
    "// how do we check that we've really added 5 5's?\n",
    "bag::size_type bag::count()(const value_type& target){\n",
    "    //solve in class\n",
    "}"
   ]
  },
  {
   "cell_type": "code",
   "execution_count": null,
   "metadata": {},
   "outputs": [],
   "source": [
    "// how do we erase those 5s?\n",
    "bag::size_type bag::erase(const value_type& target){\n",
    "    //solve in class\n",
    "}"
   ]
  },
  {
   "cell_type": "code",
   "execution_count": 23,
   "metadata": {},
   "outputs": [
    {
     "data": {
      "text/plain": [
       "3"
      ]
     },
     "execution_count": 23,
     "metadata": {},
     "output_type": "execute_result"
    }
   ],
   "source": [
    "bag two;\n",
    "two.insert(1);\n",
    "two.insert(2);\n",
    "two.insert(3);\n",
    "two.size()"
   ]
  },
  {
   "cell_type": "code",
   "execution_count": 38,
   "metadata": {},
   "outputs": [
    {
     "data": {
      "text/plain": [
       "20"
      ]
     },
     "execution_count": 38,
     "metadata": {},
     "output_type": "execute_result"
    }
   ],
   "source": [
    "one.size()"
   ]
  },
  {
   "cell_type": "code",
   "execution_count": 41,
   "metadata": {},
   "outputs": [],
   "source": [
    "#include <iostream>\n",
    "#include <algorithm>"
   ]
  },
  {
   "cell_type": "code",
   "execution_count": 42,
   "metadata": {},
   "outputs": [
    {
     "name": "stderr",
     "output_type": "stream",
     "text": [
      "\u001b[1minput_line_70:2:42: \u001b[0m\u001b[0;1;31merror: \u001b[0m\u001b[1mfunction definition is not allowed here\u001b[0m\n",
      " void bag::operator +=(const bag& addend){\n",
      "\u001b[0;1;32m                                         ^\n",
      "\u001b[0m"
     ]
    },
    {
     "ename": "Interpreter Error",
     "evalue": "",
     "output_type": "error",
     "traceback": [
      "Interpreter Error: "
     ]
    }
   ],
   "source": [
    "void bag::operator +=(const bag& addend){\n",
    "    if((size() + addend.size()) > CAPACITY){\n",
    "        std::string errormsg;\n",
    "        std::sprintf(errormsg, \"Bag is full. Max is %i elements\", CAPACITY)\n",
    "        throw std::runtime_error(errormsg);\n",
    "    }\n",
    "    //c++ stdlib http://www.cplusplus.com/reference/algorithm/copy/\n",
    "    //https://en.cppreference.com/w/cpp/algorithm/copy\n",
    "    // Copies the elements in the range [first,last) into the range beginning at result.\n",
    "    // copy(pointer/index first, pointer/index last, start of where to copy into result)\n",
    "    std::copy(addend.data, addend.data + addend.used, data+used)\n",
    "    used +=addend.used;    \n",
    "}"
   ]
  },
  {
   "cell_type": "markdown",
   "metadata": {},
   "source": [
    "## lets move to visual studio to compile, and then lets also implement one + two\n",
    "\n",
    "```bash\n",
    "g++ -Wall bag.h bag.cpp main.cpp -o bagtest.cpp\n",
    "```"
   ]
  },
  {
   "cell_type": "markdown",
   "metadata": {},
   "source": [
    "## optional: install a unit testing framework (libcppunit, gtest) and convert the adhoc tests to a formal one"
   ]
  },
  {
   "cell_type": "markdown",
   "metadata": {},
   "source": [
    "## time analysis?"
   ]
  }
 ],
 "metadata": {
  "kernelspec": {
   "display_name": "C++17",
   "language": "C++17",
   "name": "xeus-cling-cpp17"
  },
  "language_info": {
   "codemirror_mode": "text/x-c++src",
   "file_extension": ".cpp",
   "mimetype": "text/x-c++src",
   "name": "c++",
   "version": "-std=c++17"
  }
 },
 "nbformat": 4,
 "nbformat_minor": 2
}
