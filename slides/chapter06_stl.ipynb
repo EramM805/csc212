{
 "cells": [
  {
   "cell_type": "markdown",
   "metadata": {
    "slideshow": {
     "slide_type": "slide"
    }
   },
   "source": [
    "# Chapter 06: Software Development with Templates, Iterators, and the STL"
   ]
  },
  {
   "cell_type": "markdown",
   "metadata": {
    "slideshow": {
     "slide_type": "slide"
    }
   },
   "source": [
    "# Objectives:\n",
    "* recognize when to use template functions & classes\n",
    "* design and implement template functions & classes\n",
    "* use the Standard Template Library (STL) for sets, multisets, and lists\n",
    "* use iterators to step through STL class objects\n",
    "* manipulate STL class objects using the algorithms library\n",
    "* implement simple iterators for custom classes (like the bag class)"
   ]
  },
  {
   "cell_type": "markdown",
   "metadata": {
    "slideshow": {
     "slide_type": "slide"
    }
   },
   "source": [
    "## typedef: type aliasing"
   ]
  },
  {
   "cell_type": "code",
   "execution_count": null,
   "metadata": {
    "slideshow": {
     "slide_type": "fragment"
    }
   },
   "outputs": [],
   "source": [
    "//define the type of the item variable as int\n",
    "typedef int item;"
   ]
  },
  {
   "cell_type": "code",
   "execution_count": null,
   "metadata": {
    "slideshow": {
     "slide_type": "fragment"
    }
   },
   "outputs": [],
   "source": [
    "//implement the maximal function, which returns a value of type item\n",
    "item maximal(item a, item b){\n",
    "    if (a>b){return a;}\n",
    "    return b;\n",
    "}"
   ]
  },
  {
   "cell_type": "code",
   "execution_count": null,
   "metadata": {
    "slideshow": {
     "slide_type": "fragment"
    }
   },
   "outputs": [],
   "source": [
    "//call the function\n",
    "maximal(1, 2)"
   ]
  },
  {
   "cell_type": "code",
   "execution_count": null,
   "metadata": {
    "slideshow": {
     "slide_type": "fragment"
    }
   },
   "outputs": [],
   "source": [
    "maximal(\"hello\",  \"world\")"
   ]
  },
  {
   "cell_type": "code",
   "execution_count": null,
   "metadata": {
    "slideshow": {
     "slide_type": "slide"
    }
   },
   "outputs": [],
   "source": [
    "typedef std::string item;"
   ]
  },
  {
   "cell_type": "code",
   "execution_count": null,
   "metadata": {
    "slideshow": {
     "slide_type": "fragment"
    }
   },
   "outputs": [],
   "source": [
    "item maximal(item a, item b){\n",
    "    if (a>b){return a;}\n",
    "    return b;\n",
    "}"
   ]
  },
  {
   "cell_type": "code",
   "execution_count": null,
   "metadata": {
    "slideshow": {
     "slide_type": "fragment"
    }
   },
   "outputs": [],
   "source": [
    "maximal(\"hello\", \"world\")"
   ]
  },
  {
   "cell_type": "markdown",
   "metadata": {
    "slideshow": {
     "slide_type": "slide"
    }
   },
   "source": [
    "# Templates: Type abstraction"
   ]
  },
  {
   "cell_type": "code",
   "execution_count": null,
   "metadata": {
    "slideshow": {
     "slide_type": "fragment"
    }
   },
   "outputs": [],
   "source": [
    "//by convention, capitalize template parameters \n",
    "template <class Item>\n",
    "Item maximal(Item a, Item b){\n",
    " if (a>b){return a;}\n",
    "    return b;\n",
    "}"
   ]
  },
  {
   "cell_type": "code",
   "execution_count": null,
   "metadata": {
    "slideshow": {
     "slide_type": "fragment"
    }
   },
   "outputs": [],
   "source": [
    "maximal(1, 2)"
   ]
  },
  {
   "cell_type": "code",
   "execution_count": null,
   "metadata": {
    "slideshow": {
     "slide_type": "fragment"
    }
   },
   "outputs": [],
   "source": [
    "maximal(\"hello\", \"world\")"
   ]
  },
  {
   "cell_type": "markdown",
   "metadata": {
    "slideshow": {
     "slide_type": "slide"
    }
   },
   "source": [
    "# Template Classes: Abstract typedef\n",
    "\n",
    "* __typedef__:\n",
    "    ```cpp\n",
    "    class bag{\n",
    "        public: \n",
    "            typedef int value_type;\n",
    "    ```\n",
    "* __template class__:\n",
    "    ```cpp\n",
    "    template <class Item>\n",
    "    class bag{\n",
    "        public:\n",
    "            typedef Item value_type;\n",
    "    ```"
   ]
  },
  {
   "cell_type": "markdown",
   "metadata": {},
   "source": [
    "# Template Definitions\n",
    "\n",
    "__template prefix__: ```template <class Item>```\n",
    "\n",
    "__template parameter__: ```<class Item>```\n",
    "\n",
    "__abstracted data type__: ```Item```\n",
    "\n",
    "__class declaration__: ```class bag{...}```"
   ]
  },
  {
   "cell_type": "markdown",
   "metadata": {
    "slideshow": {
     "slide_type": "slide"
    }
   },
   "source": [
    "# Converting a container class to a template:\n",
    "1. the template prefix precedes each function prototype or implementation\n",
    "2. use `classname <paramter>`(`bag<Item>`) in function prototypes outside the declaration\n",
    "3. replaced typedef types with template paramter (ex: replace `value_type` with `Item`)\n",
    "4. implementation goes in header (.h/.hpp) file\n",
    "5. don't use `using namespace std`. Must write std:: in front of standard library functions"
   ]
  },
  {
   "cell_type": "markdown",
   "metadata": {
    "slideshow": {
     "slide_type": "slide"
    }
   },
   "source": [
    "# To Do\n",
    "\n",
    "In one cpp file:\n",
    "1. write a templated function for adding two objects together. \n",
    "2. test the function with an int, char, and string"
   ]
  },
  {
   "cell_type": "markdown",
   "metadata": {
    "slideshow": {
     "slide_type": "slide"
    }
   },
   "source": [
    "# Using a templated container class:\n",
    " ```cpp\n",
    "classname <data type> variable_name;\n",
    "bag <char> letters;\n",
    "bag <double> scores;\n",
    "```"
   ]
  },
  {
   "cell_type": "markdown",
   "metadata": {
    "slideshow": {
     "slide_type": "slide"
    }
   },
   "source": [
    "# What are some built in (STL) template classes?\n",
    "\n",
    "* set - collection of items where each item can only appear once\n",
    "* multiset - collection of items where each item appears multiple times\n",
    "* lists - doubly linked list with bidirectional iterator"
   ]
  },
  {
   "cell_type": "markdown",
   "metadata": {
    "slideshow": {
     "slide_type": "slide"
    }
   },
   "source": [
    "# STL Multiset"
   ]
  },
  {
   "cell_type": "code",
   "execution_count": 1,
   "metadata": {
    "slideshow": {
     "slide_type": "fragment"
    }
   },
   "outputs": [],
   "source": [
    "//https://en.cppreference.com/w/cpp/container/multiset\n",
    "#include <set>\n",
    "std::multiset <int> myset; //first is an empty list"
   ]
  },
  {
   "cell_type": "code",
   "execution_count": 2,
   "metadata": {
    "slideshow": {
     "slide_type": "fragment"
    }
   },
   "outputs": [
    {
     "data": {
      "text/plain": [
       "@0x80f4cc0"
      ]
     },
     "execution_count": 2,
     "metadata": {},
     "output_type": "execute_result"
    }
   ],
   "source": [
    "myset.insert(8); //first has one element: 8"
   ]
  },
  {
   "cell_type": "code",
   "execution_count": 3,
   "metadata": {
    "slideshow": {
     "slide_type": "fragment"
    }
   },
   "outputs": [
    {
     "data": {
      "text/plain": [
       "@0x83e3b20"
      ]
     },
     "execution_count": 3,
     "metadata": {},
     "output_type": "execute_result"
    }
   ],
   "source": [
    "myset.insert(4); //first: 8, 4"
   ]
  },
  {
   "cell_type": "code",
   "execution_count": 4,
   "metadata": {
    "slideshow": {
     "slide_type": "fragment"
    }
   },
   "outputs": [
    {
     "data": {
      "text/plain": [
       "@0x6f86f80"
      ]
     },
     "execution_count": 4,
     "metadata": {},
     "output_type": "execute_result"
    }
   ],
   "source": [
    "myset.insert(8); //first: 8, 4, 8"
   ]
  },
  {
   "cell_type": "markdown",
   "metadata": {
    "slideshow": {
     "slide_type": "slide"
    }
   },
   "source": [
    "# How do we view the elements in first?"
   ]
  },
  {
   "cell_type": "code",
   "execution_count": 5,
   "metadata": {
    "slideshow": {
     "slide_type": "fragment"
    }
   },
   "outputs": [
    {
     "data": {
      "text/plain": [
       "3"
      ]
     },
     "execution_count": 5,
     "metadata": {},
     "output_type": "execute_result"
    }
   ],
   "source": [
    "//let's print total number of elements\n",
    "myset.size()"
   ]
  },
  {
   "cell_type": "markdown",
   "metadata": {
    "slideshow": {
     "slide_type": "slide"
    }
   },
   "source": [
    "# But what if we want individual access? Iterators\n",
    "* __begin__: first item in container (multiset)/start of iterator, `first.begin()`\n",
    "* __*__: current item, `* first`\n",
    "* __++__: moves an iterator forward, `first++` or `++first`\n",
    "* __end__: returns the last element of the container"
   ]
  },
  {
   "cell_type": "code",
   "execution_count": 6,
   "metadata": {
    "slideshow": {
     "slide_type": "fragment"
    }
   },
   "outputs": [],
   "source": [
    "#include <iostream>\n",
    "std::multiset<int>::iterator cursor;"
   ]
  },
  {
   "cell_type": "code",
   "execution_count": 7,
   "metadata": {
    "slideshow": {
     "slide_type": "fragment"
    }
   },
   "outputs": [
    {
     "name": "stdout",
     "output_type": "stream",
     "text": [
      "4\n"
     ]
    }
   ],
   "source": [
    "cursor = myset.begin();\n",
    "std::cout<<(*cursor)<<std::endl;"
   ]
  },
  {
   "cell_type": "code",
   "execution_count": 8,
   "metadata": {
    "slideshow": {
     "slide_type": "fragment"
    }
   },
   "outputs": [
    {
     "name": "stdout",
     "output_type": "stream",
     "text": [
      "8\n"
     ]
    }
   ],
   "source": [
    "cursor++;\n",
    "std::cout<<(*cursor)<<std::endl;"
   ]
  },
  {
   "cell_type": "code",
   "execution_count": 9,
   "metadata": {
    "slideshow": {
     "slide_type": "fragment"
    }
   },
   "outputs": [
    {
     "data": {
      "text/plain": [
       "3"
      ]
     },
     "execution_count": 9,
     "metadata": {},
     "output_type": "execute_result"
    }
   ],
   "source": [
    "(*myset.end())"
   ]
  },
  {
   "cell_type": "markdown",
   "metadata": {
    "slideshow": {
     "slide_type": "slide"
    }
   },
   "source": [
    "# General form:"
   ]
  },
  {
   "cell_type": "code",
   "execution_count": null,
   "metadata": {
    "slideshow": {
     "slide_type": "fragment"
    }
   },
   "outputs": [],
   "source": [
    "std::multiset<int>::iterator cur;"
   ]
  },
  {
   "cell_type": "code",
   "execution_count": 11,
   "metadata": {
    "slideshow": {
     "slide_type": "fragment"
    }
   },
   "outputs": [
    {
     "name": "stdout",
     "output_type": "stream",
     "text": [
      "4\n",
      "8\n",
      "8\n"
     ]
    }
   ],
   "source": [
    "for (cur=myset.begin(); cur != myset.end(); ++cur){\n",
    "    std::cout<<(*cur)<<std::endl;\n",
    "}"
   ]
  },
  {
   "cell_type": "markdown",
   "metadata": {
    "slideshow": {
     "slide_type": "slide"
    }
   },
   "source": [
    "# Standard Categories of Iterators:\n",
    "* __const__: can't change the underlying container\n",
    "* __output__: used to store elements in a container (ex: `std::cout<<my_string;` stores string in buffer)\n",
    "* __input__: used to retrieve elements from a container (ex: `std::cin>>my_string` retrieves data from buffer, puts in string\")\n",
    "* __forward__: access container elements sequentially, supports *, ++, and !=/== operators\n",
    "* __bidirectional__: forward iterator & ability to move backward via -- operator\n",
    "* __random__: index/selection based access to elements, such as via [] operator\n",
    "\n",
    "supplement: https://www.cs.northwestern.edu/~riesbeck/programming/c++/stl-iterators.html"
   ]
  },
  {
   "cell_type": "markdown",
   "metadata": {
    "slideshow": {
     "slide_type": "slide"
    }
   },
   "source": [
    "# Iterator for linked list\n",
    "![nodes + link pointers, cursor above first node, then above second node](figures/chap05/traversal.png??)"
   ]
  },
  {
   "cell_type": "code",
   "execution_count": null,
   "metadata": {
    "slideshow": {
     "slide_type": "slide"
    }
   },
   "outputs": [],
   "source": [
    "node_iterator<int> start(head_ptr);\n",
    "node_iterator<int> finish;\n",
    "node_iterator<int> position;\n",
    "\n",
    "//what does the rest of this cod"
   ]
  }
 ],
 "metadata": {
  "celltoolbar": "Slideshow",
  "kernelspec": {
   "display_name": "C++17",
   "language": "C++17",
   "name": "xeus-cling-cpp17"
  },
  "language_info": {
   "codemirror_mode": "text/x-c++src",
   "file_extension": ".cpp",
   "mimetype": "text/x-c++src",
   "name": "c++",
   "version": "-std=c++17"
  }
 },
 "nbformat": 4,
 "nbformat_minor": 2
}
