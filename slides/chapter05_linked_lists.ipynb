{
 "cells": [
  {
   "cell_type": "markdown",
   "metadata": {
    "slideshow": {
     "slide_type": "slide"
    }
   },
   "source": [
    "# How did bags store data so for?\n",
    "* array, dynamic array\n",
    "    - pros: expandable (create new/delete old), look up time\n",
    "    - cons: \n",
    "        * can only add at end/ slow to add/remove\n",
    "        * create new array to expand\n",
    "   "
   ]
  },
  {
   "cell_type": "markdown",
   "metadata": {
    "slideshow": {
     "slide_type": "slide"
    }
   },
   "source": [
    "# Objectives\n",
    "* design, implement, test functions to manipulate nodes in a linked list\n",
    "* design, implement, and test collection classes that use linked lists to store elements\n",
    "* analyze problems that can be solved iwth linked lists and, when appropriate, propose alternatives"
   ]
  },
  {
   "cell_type": "markdown",
   "metadata": {
    "slideshow": {
     "slide_type": "slide"
    }
   },
   "source": [
    "# What is a linked list? \n",
    "![image of circles (nodes) connected with arrows (pointers)](figures/chap05/linked_list.png)"
   ]
  },
  {
   "cell_type": "markdown",
   "metadata": {
    "slideshow": {
     "slide_type": "slide"
    }
   },
   "source": [
    "# What components does a linked list node require?\n",
    "```cpp\n",
    "class node{\n",
    "    public:\n",
    "        typedef double value_type;\n",
    "        ...\n",
    "    private:\n",
    "        value_type data_field;\n",
    "        node *link_field;\n",
    "};\n",
    "```"
   ]
  },
  {
   "cell_type": "markdown",
   "metadata": {
    "slideshow": {
     "slide_type": "slide"
    }
   },
   "source": [
    "# How do we define the beginning and end of the list?\n",
    "![linked list with flagged head and tail pointers + end marker](figures/chap05/ll_head_tail.png??)"
   ]
  },
  {
   "cell_type": "markdown",
   "metadata": {
    "slideshow": {
     "slide_type": "slide"
    }
   },
   "source": [
    "```cpp\n",
    "class node{\n",
    "    public:\n",
    "        typedef double value_type;\n",
    "    private:\n",
    "        value_type data_field;\n",
    "        node *link_field;\n",
    "};\n",
    "node *head_ptr;\n",
    "node *tail_ptr;\n",
    "```\n",
    "![linked list with flagged head and tail pointers + end marker](figures/chap05/ll_head_tail.png??)\n",
    "    "
   ]
  },
  {
   "cell_type": "markdown",
   "metadata": {
    "slideshow": {
     "slide_type": "subslide"
    }
   },
   "source": [
    "# How about an empty list? \n",
    "```cpp\n",
    "#include <cstdlib>\n",
    "//some code omitted\n",
    "//use the NULL pointer to point nowhere\n",
    "const node * init_link = NULL;\n",
    "```"
   ]
  },
  {
   "cell_type": "markdown",
   "metadata": {
    "slideshow": {
     "slide_type": "slide"
    }
   },
   "source": [
    "# What are the components of a node?\n",
    "```cpp\n",
    "node(const value_type& init_data = value_type(), \n",
    "     const node* init_link=NULL){\n",
    "    data_field = init_data;\n",
    "    link_field = init_link;\n",
    "}\n",
    "```"
   ]
  },
  {
   "cell_type": "markdown",
   "metadata": {
    "slideshow": {
     "slide_type": "slide"
    }
   },
   "source": [
    "`value_type()`:\n",
    "* __init_data__ has a default argument that is created by the __value_type__ constructor\n",
    "* __value_type__ constructors return default values"
   ]
  },
  {
   "cell_type": "code",
   "execution_count": null,
   "metadata": {
    "slideshow": {
     "slide_type": "slide"
    }
   },
   "outputs": [],
   "source": [
    "#include <cstdlib>\n",
    "class node{\n",
    "    public:\n",
    "        typedef double value_type;\n",
    "        node(const value_type& init_data = value_type( ),\n",
    "            node* init_link = NULL){\n",
    "            data_field = init_data; link_field = init_link; }\n",
    "        // Member functions to set the data and link fields:\n",
    "        void set_data(const value_type& new_data) { data_field = new_data; }\n",
    "        void set_link(node* new_link) { link_field = new_link; }\n",
    "        // Constant member function to retrieve the current data:\n",
    "        value_type data( ) const { return data_field; }\n",
    "        // Two slightly different member functions to retrieve the current link:\n",
    "        const node* link( ) const { return link_field; }\n",
    "        node* link( ) { return link_field; }\n",
    "    private:\n",
    "        value_type data_field;\n",
    "        node* link_field;\n",
    "};"
   ]
  },
  {
   "cell_type": "code",
   "execution_count": 3,
   "metadata": {
    "slideshow": {
     "slide_type": "slide"
    }
   },
   "outputs": [],
   "source": [
    "//let's try the constructors defaults\n",
    "\n",
    "#include <cstdlib>\n",
    "node *head_ptr;\n",
    "head_ptr = NULL;\n",
    "auto p = new node;\n",
    "auto q = new node(4.9);\n",
    "auto r = new node(1.6, p);"
   ]
  },
  {
   "cell_type": "code",
   "execution_count": 6,
   "metadata": {
    "slideshow": {
     "slide_type": "slide"
    }
   },
   "outputs": [
    {
     "name": "stdout",
     "output_type": "stream",
     "text": [
      "address: 0x6ca2fe0\n",
      "data: 0\n",
      "data: 0\n",
      "link: 0\n"
     ]
    }
   ],
   "source": [
    "#include <iostream>\n",
    "std::cout<<\"address: \"<<p<<std::endl;\n",
    "std::cout<<\"data: \"<<(*p).data()<<std::endl;\n",
    "//member selection operator: (*p).data() is the same as p->data()\n",
    "std::cout<<\"data: \"<< p->data()<<std::endl;\n",
    "std::cout<<\"link: \"<< p->link()<<std::endl;"
   ]
  },
  {
   "cell_type": "code",
   "execution_count": 7,
   "metadata": {
    "slideshow": {
     "slide_type": "slide"
    }
   },
   "outputs": [
    {
     "name": "stdout",
     "output_type": "stream",
     "text": [
      "address: 0x5dcdd10\n",
      "content: 4.9\n",
      "link: 0\n"
     ]
    }
   ],
   "source": [
    "//q = node(4.9)\n",
    "std::cout<<\"address: \"<<q<<std::endl;\n",
    "std::cout<<\"content: \"<< q->data()<<std::endl;\n",
    "std::cout<<\"link: \"<< q->link()<<std::endl;"
   ]
  },
  {
   "cell_type": "code",
   "execution_count": 8,
   "metadata": {
    "slideshow": {
     "slide_type": "slide"
    }
   },
   "outputs": [
    {
     "name": "stdout",
     "output_type": "stream",
     "text": [
      "address: 0x5d8d590\n",
      "content: 1.6\n",
      "link: 0x6ca2fe0\n",
      "data of link: 0\n"
     ]
    }
   ],
   "source": [
    "//r = node(1.6, p)\n",
    "std::cout<<\"address: \"<<r<<std::endl;\n",
    "std::cout<<\"content: \"<< r->data()<<std::endl;\n",
    "std::cout<<\"link: \"<< r->link()<<std::endl;\n",
    "std::cout<<\"data of link: \"<< (r->link())->data()<<std::endl;"
   ]
  },
  {
   "cell_type": "code",
   "execution_count": 9,
   "metadata": {
    "slideshow": {
     "slide_type": "slide"
    }
   },
   "outputs": [],
   "source": [
    "#include <iomanip>\n",
    "#include <string>\n",
    "void print_node(std::string name, node * n){\n",
    "    std::cout<<std::setw(4)<<std::left<<name;\n",
    "    std::cout<<\"   address: \"<<std::setw(10)<<n;\n",
    "    std::cout<<\"   content: \"<<std::setw(5)<<n->data();\n",
    "    std::cout<<\"   link: \"<<std::setw(10)<<n->link()<<std::endl;\n",
    "}"
   ]
  },
  {
   "cell_type": "code",
   "execution_count": 10,
   "metadata": {
    "slideshow": {
     "slide_type": "slide"
    }
   },
   "outputs": [
    {
     "name": "stdout",
     "output_type": "stream",
     "text": [
      "p      address: 0x6ca2fe0    content: 0       link: 0         \n",
      "r      address: 0x5d8d590    content: 1.6     link: 0x6ca2fe0 \n",
      "q      address: 0x5dcdd10    content: 4.9     link: 0         \n"
     ]
    }
   ],
   "source": [
    "print_node(\"p\", p);\n",
    "print_node(\"r\", r);\n",
    "print_node(\"q\", q);"
   ]
  },
  {
   "cell_type": "markdown",
   "metadata": {
    "slideshow": {
     "slide_type": "slide"
    }
   },
   "source": [
    "Create a node *s* that has: \n",
    "* content = 13.7\n",
    "* links to q"
   ]
  },
  {
   "cell_type": "markdown",
   "metadata": {
    "slideshow": {
     "slide_type": "slide"
    }
   },
   "source": [
    "# what's the differences between the two link implementations?\n",
    "```cpp\n",
    "const node* link( ) const { return link_field; }\n",
    "node* link( ) { return link_field; }\n",
    "```\n",
    "* `node* link`: pointer to mutable node, can be used to change list\n",
    "* `const node* link() const`: pointer to immutable node, cannot be used to change list\n",
    "\n"
   ]
  },
  {
   "cell_type": "code",
   "execution_count": null,
   "metadata": {
    "slideshow": {
     "slide_type": "slide"
    }
   },
   "outputs": [],
   "source": [
    "auto b = new node(3.0);\n",
    "auto a = new node(1.6, b);"
   ]
  },
  {
   "cell_type": "code",
   "execution_count": null,
   "metadata": {
    "slideshow": {
     "slide_type": "slide"
    }
   },
   "outputs": [],
   "source": [
    "//which link is called here?\n",
    "std::cout<<\"a: \"<<a <<\" \"<< a->data()<<\" \"<<a->link()<<std::endl;\n",
    "std::cout<<\"b: \"<<b <<\" \"<< b->data()<<\" \"<<b->link()<<std::endl;"
   ]
  },
  {
   "cell_type": "code",
   "execution_count": null,
   "metadata": {
    "slideshow": {
     "slide_type": "slide"
    }
   },
   "outputs": [],
   "source": [
    "print_node(\"a\", a);\n",
    "print_node(\"b\", b);"
   ]
  },
  {
   "cell_type": "code",
   "execution_count": null,
   "metadata": {
    "slideshow": {
     "slide_type": "slide"
    }
   },
   "outputs": [],
   "source": [
    "//which link is called here?\n",
    "head_ptr = a;\n",
    "print_node(\"a\", a);\n",
    "print_node(\"b\", b);\n",
    "print_node(\"head\", head_ptr);"
   ]
  },
  {
   "cell_type": "code",
   "execution_count": null,
   "metadata": {
    "slideshow": {
     "slide_type": "slide"
    }
   },
   "outputs": [],
   "source": [
    "//what does mutability mean?\n",
    "node *second = head_ptr->link();"
   ]
  },
  {
   "cell_type": "code",
   "execution_count": null,
   "metadata": {
    "slideshow": {
     "slide_type": "slide"
    }
   },
   "outputs": [],
   "source": [
    "std::cout<<second<<std::endl;\n",
    "second->set_data(9.2);\n",
    "std::cout<<second<<\" \"<<b->data()<<std::endl;"
   ]
  },
  {
   "cell_type": "code",
   "execution_count": null,
   "metadata": {
    "slideshow": {
     "slide_type": "slide"
    }
   },
   "outputs": [],
   "source": [
    "print_node(\"a\", a);\n",
    "print_node(\"b\", b);\n",
    "print_node(\"head\", head_ptr);\n",
    "print_node(\"second\", second);"
   ]
  },
  {
   "cell_type": "code",
   "execution_count": null,
   "metadata": {
    "slideshow": {
     "slide_type": "slide"
    }
   },
   "outputs": [],
   "source": [
    "//Why is dereferencing a null ptr bad? \n",
    "node *null_ptr;\n",
    "null_ptr = NULL;\n",
    "std::cout<<(*null_ptr)<<std::endl;"
   ]
  },
  {
   "cell_type": "markdown",
   "metadata": {
    "slideshow": {
     "slide_type": "slide"
    }
   },
   "source": [
    "# Linked list toolkit\n",
    "https://github.com/ccnycs/csc212/tree/master/code/linked_list_tk\n",
    "```cpp\n",
    "std::size_t list_length(const node* head_ptr);\n",
    "void list_head_insert(node*& head_ptr, const node::value_type& entry); \n",
    "void list_insert(node* previous_ptr, const node::value_type& entry);  \n",
    "node* list_search(node* head_ptr, const node::value_type& target);\n",
    "const node* list_search\n",
    "(const node* head_ptr, const node::value_type& target);\n",
    "node* list_locate(node* head_ptr, std::size_t position);\n",
    "const node* list_locate(const node* head_ptr, std::size_t position);\n",
    "void list_head_remove(node*& head_ptr);\n",
    "void list_remove(node* previous_ptr);\n",
    "void list_clear(node*& head_ptr);\n",
    "void list_copy(const node* source_ptr, node*& head_ptr, node*& tail_ptr);\n",
    "```\n"
   ]
  },
  {
   "cell_type": "markdown",
   "metadata": {
    "slideshow": {
     "slide_type": "slide"
    }
   },
   "source": [
    "# Traverse Linked List\n",
    "![nodes + link pointers, cursor above first node, then above second node](figures/chap05/traversal.png??)"
   ]
  },
  {
   "cell_type": "code",
   "execution_count": null,
   "metadata": {
    "slideshow": {
     "slide_type": "slide"
    }
   },
   "outputs": [],
   "source": [
    "//compute length of linked list:\n",
    "size_t list_length(const node* head__ptr){\n",
    "    //Precondition: head_ptr is the head pointer of a linked list.\n",
    "    //Postcondition: The value returned is the number of nodes in the linked list.\n",
    "}"
   ]
  },
  {
   "cell_type": "markdown",
   "metadata": {
    "slideshow": {
     "slide_type": "slide"
    }
   },
   "source": [
    "# Insert at beginning\n",
    "![linked list with 3 elements and one added at beginning, then new list](figures/chap05/insertion_head.png??)"
   ]
  },
  {
   "cell_type": "code",
   "execution_count": null,
   "metadata": {
    "slideshow": {
     "slide_type": "slide"
    }
   },
   "outputs": [],
   "source": [
    "void list_head_insert(node*& head_ptr, const node::value_type& entry){\n",
    "    //Precondition: head_ptr is the head pointer of a linked list.\n",
    "    //Postcondtion: A new node containing entry has been added at the head of the list,\n",
    "    //head_ptr now points to entry\n",
    "    //NOTE: if insufficient dynamic memory, throw bad_alloc error\n",
    "}"
   ]
  },
  {
   "cell_type": "markdown",
   "metadata": {
    "slideshow": {
     "slide_type": "slide"
    }
   },
   "source": [
    "# Insert in middle?\n",
    "![linked list with 3 elements and one added at beginning, then new list](figures/chap05/insertion_middle.png??)"
   ]
  },
  {
   "cell_type": "code",
   "execution_count": null,
   "metadata": {
    "slideshow": {
     "slide_type": "slide"
    }
   },
   "outputs": [],
   "source": [
    "void list_insert(node* previous_ptr, const node::value_type& entry){\n",
    "    //pre: previous points to a node in linked list\n",
    "    //post: entry is inserted after the node previous points to\n",
    "}"
   ]
  },
  {
   "cell_type": "markdown",
   "metadata": {
    "slideshow": {
     "slide_type": "slide"
    }
   },
   "source": [
    "# find nodes by position and data value\n",
    "![nodes + link pointers, cursor above first node, then above second node](figures/chap05/traversal.png??)"
   ]
  },
  {
   "cell_type": "code",
   "execution_count": null,
   "metadata": {
    "slideshow": {
     "slide_type": "slide"
    }
   },
   "outputs": [],
   "source": [
    "node* list_search(node* head_ptr, const node::value_type& target){\n",
    "    //pre: head_ptr is the start of the list\n",
    "    //post: returns pointer to the first node containing the target data or NULL ptr\n",
    "}\n",
    "const node* list_search (const node* head_ptr, const node::value_type& target_{};\n",
    "//when two? when the function has a node parameter and returns a pointer to a node"
   ]
  },
  {
   "cell_type": "code",
   "execution_count": null,
   "metadata": {
    "slideshow": {
     "slide_type": "slide"
    }
   },
   "outputs": [],
   "source": [
    "node* list_locate(node* head_ptr, std::size_t position){\n",
    "    //pre: head_ptr is start of the list (position 1), position>0\n",
    "    //post: returns pointer to node at specified position or NULL ptr\n",
    "}\n",
    "const node* list_locate(const node* head_ptr, std::size_t position){};"
   ]
  },
  {
   "cell_type": "code",
   "execution_count": null,
   "metadata": {
    "slideshow": {
     "slide_type": "slide"
    }
   },
   "outputs": [],
   "source": [
    "void list_copy(const node* source_ptr, node*& head_ptr, node*& tail_ptr){\n",
    "    //pre: source_ptr is head_ptr of a linked list\n",
    "    //post: head_ptr and tail_ptr are head and tail of copy of source\n",
    "    //throws bad_alloc exception if not enough memory\n",
    "}"
   ]
  },
  {
   "cell_type": "markdown",
   "metadata": {
    "slideshow": {
     "slide_type": "slide"
    }
   },
   "source": [
    "# Removing First Node\n",
    "![list of 4 elements with 1st crossed out, underneath list with three elements with crossed out one missing and head ptr pointing to 2nd element of first list](figures/chap05/remove_head.png??)"
   ]
  },
  {
   "cell_type": "code",
   "execution_count": null,
   "metadata": {
    "slideshow": {
     "slide_type": "slide"
    }
   },
   "outputs": [],
   "source": [
    "void list_head_remove(node*& head_ptr){\n",
    "    //pre: head_ptr is at start, list length>0\n",
    "    //post: head node has been removed & returned to heap, head points to new start\n",
    "}"
   ]
  },
  {
   "cell_type": "markdown",
   "metadata": {
    "slideshow": {
     "slide_type": "slide"
    }
   },
   "source": [
    "# Remove any node\n",
    "![list of 4 elements with 2nd crossed out, underneath list with three elements with crossed out one missing and 1st element pointing to what was previously third element of list](figures/chap05/remove_middle.png??)"
   ]
  },
  {
   "cell_type": "code",
   "execution_count": null,
   "metadata": {
    "slideshow": {
     "slide_type": "slide"
    }
   },
   "outputs": [],
   "source": [
    "void list_remove(node* previous_ptr){\n",
    "    //pre: previous_ptr points to a node in the linked list\n",
    "    //post: node after previous has been removed, \n",
    "}"
   ]
  },
  {
   "cell_type": "code",
   "execution_count": null,
   "metadata": {
    "slideshow": {
     "slide_type": "slide"
    }
   },
   "outputs": [],
   "source": [
    "void list_clear(node*& head_ptr){\n",
    "    //pre: head_ptr is at start of list\n",
    "    //post: all nodes have been deleted and head_ptr is now null\n",
    "}"
   ]
  }
 ],
 "metadata": {
  "celltoolbar": "Slideshow",
  "kernelspec": {
   "display_name": "C++17",
   "language": "C++17",
   "name": "xeus-cling-cpp17"
  }
 },
 "nbformat": 4,
 "nbformat_minor": 2
}
