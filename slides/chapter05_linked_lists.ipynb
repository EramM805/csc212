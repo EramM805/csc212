{
 "cells": [
  {
   "cell_type": "markdown",
   "metadata": {
    "slideshow": {
     "slide_type": "slide"
    }
   },
   "source": [
    "# How did bags store data so for?\n",
    "* array, dynamic array\n",
    "    - pros: expandable (create new/delete old), look up time\n",
    "    - cons: \n",
    "        * can only add at end/ slow to add/remove\n",
    "        * create new array to expand\n",
    "   "
   ]
  },
  {
   "cell_type": "markdown",
   "metadata": {
    "slideshow": {
     "slide_type": "slide"
    }
   },
   "source": [
    "# Objectives\n",
    "* design, implement, test functions to manipulate nodes in a linked list\n",
    "* design, implement, and test collection classes that use linked lists to store elements\n",
    "* analyze problems that can be solved iwth linked lists and, when appropriate, propose alternatives"
   ]
  },
  {
   "cell_type": "markdown",
   "metadata": {
    "slideshow": {
     "slide_type": "slide"
    }
   },
   "source": [
    "# What is a linked list? \n",
    "![image of circles (nodes) connected with arrows (pointers)](figures/chap05/linked_list.png)"
   ]
  },
  {
   "cell_type": "markdown",
   "metadata": {
    "slideshow": {
     "slide_type": "slide"
    }
   },
   "source": [
    "# What components does a linked list node require?\n",
    "```cpp\n",
    "class node{\n",
    "    public:\n",
    "        typedef double value_type;\n",
    "        ...\n",
    "    private:\n",
    "        value_type data_field;\n",
    "        node *link_field;\n",
    "};\n",
    "```"
   ]
  },
  {
   "cell_type": "markdown",
   "metadata": {
    "slideshow": {
     "slide_type": "slide"
    }
   },
   "source": [
    "# How do we define the beginning and end of the list?\n",
    "![linked list with flagged head and tail pointers + end marker](figures/chap05/ll_head_tail.png??)"
   ]
  },
  {
   "cell_type": "markdown",
   "metadata": {
    "slideshow": {
     "slide_type": "slide"
    }
   },
   "source": [
    "```cpp\n",
    "class node{\n",
    "    public:\n",
    "        typedef double value_type;\n",
    "    private:\n",
    "        value_type data_field;\n",
    "        node *link_field;\n",
    "};\n",
    "node *head_ptr;\n",
    "node *tail_ptr;\n",
    "```\n",
    "![linked list with flagged head and tail pointers + end marker](figures/chap05/ll_head_tail.png??)\n",
    "    "
   ]
  },
  {
   "cell_type": "markdown",
   "metadata": {
    "slideshow": {
     "slide_type": "subslide"
    }
   },
   "source": [
    "# How about an empty list? \n",
    "```cpp\n",
    "#include <cstdlib>\n",
    "//some code omitted\n",
    "//use the NULL pointer to point nowhere\n",
    "const node * init_link = NULL;\n",
    "```"
   ]
  },
  {
   "cell_type": "markdown",
   "metadata": {
    "slideshow": {
     "slide_type": "slide"
    }
   },
   "source": [
    "# What are the components of a node?\n",
    "```cpp\n",
    "node(const value_type& init_data = value_type(), \n",
    "     const node* init_link=NULL){\n",
    "    data_field = init_data;\n",
    "    link_field = init_link;\n",
    "}\n",
    "```"
   ]
  },
  {
   "cell_type": "markdown",
   "metadata": {
    "slideshow": {
     "slide_type": "slide"
    }
   },
   "source": [
    "`value_type()`:\n",
    "* __init_data__ has a default argument that is created by the __value_type__ constructor\n",
    "* __value_type__ constructors return default values"
   ]
  },
  {
   "cell_type": "markdown",
   "metadata": {},
   "source": [
    "The following code is saved in a .h file"
   ]
  },
  {
   "cell_type": "code",
   "execution_count": 1,
   "metadata": {
    "slideshow": {
     "slide_type": "slide"
    }
   },
   "outputs": [],
   "source": [
    "#include <cstdlib>\n",
    "class node{\n",
    "    public:\n",
    "        typedef double value_type;\n",
    "        node(const value_type& init_data = value_type( ),\n",
    "            node* init_link = NULL){\n",
    "            data_field = init_data; link_field = init_link; }\n",
    "        // Member functions to set the data and link fields:\n",
    "        void set_data(const value_type& new_data) { data_field = new_data; }\n",
    "        void set_link(node* new_link) { link_field = new_link; }\n",
    "        // Constant member function to retrieve the current data:\n",
    "        value_type data( ) const { return data_field; }\n",
    "        // Two slightly different member functions to retrieve the current link:\n",
    "        const node* link( ) const { return link_field; }\n",
    "        node* link( ) { return link_field; }\n",
    "    private:\n",
    "        value_type data_field;\n",
    "        node* link_field;\n",
    "};"
   ]
  },
  {
   "cell_type": "markdown",
   "metadata": {},
   "source": [
    "The following code is placed in a main file to test the node class:"
   ]
  },
  {
   "cell_type": "code",
   "execution_count": 2,
   "metadata": {
    "slideshow": {
     "slide_type": "slide"
    }
   },
   "outputs": [],
   "source": [
    "//let's try the constructors defaults\n",
    "\n",
    "#include <cstdlib>\n",
    "node *head_ptr;\n",
    "head_ptr = NULL;\n",
    "auto p = new node;\n",
    "auto q = new node(4.9);\n",
    "auto r = new node(1.6, p);"
   ]
  },
  {
   "cell_type": "code",
   "execution_count": 3,
   "metadata": {
    "slideshow": {
     "slide_type": "slide"
    }
   },
   "outputs": [
    {
     "name": "stdout",
     "output_type": "stream",
     "text": [
      "address: 0x75d83a0\n",
      "data: 0\n",
      "data: 0\n",
      "link: 0\n"
     ]
    }
   ],
   "source": [
    "#include <iostream>\n",
    "std::cout<<\"address: \"<<p<<std::endl;\n",
    "std::cout<<\"data: \"<<(*p).data()<<std::endl;\n",
    "//member selection operator: (*p).data() is the same as p->data()\n",
    "std::cout<<\"data: \"<< p->data()<<std::endl;\n",
    "std::cout<<\"link: \"<< p->link()<<std::endl;"
   ]
  },
  {
   "cell_type": "code",
   "execution_count": 4,
   "metadata": {
    "slideshow": {
     "slide_type": "slide"
    }
   },
   "outputs": [
    {
     "name": "stdout",
     "output_type": "stream",
     "text": [
      "address: 0x72cd660\n",
      "content: 4.9\n",
      "link: 0\n"
     ]
    }
   ],
   "source": [
    "//q = node(4.9)\n",
    "std::cout<<\"address: \"<<q<<std::endl;\n",
    "std::cout<<\"content: \"<< q->data()<<std::endl;\n",
    "std::cout<<\"link: \"<< q->link()<<std::endl;"
   ]
  },
  {
   "cell_type": "code",
   "execution_count": 5,
   "metadata": {
    "slideshow": {
     "slide_type": "slide"
    }
   },
   "outputs": [
    {
     "name": "stdout",
     "output_type": "stream",
     "text": [
      "address: 0x647aaa0\n",
      "content: 1.6\n",
      "link: 0x75d83a0\n",
      "data of link: 0\n"
     ]
    }
   ],
   "source": [
    "//r = node(1.6, p)\n",
    "std::cout<<\"address: \"<<r<<std::endl;\n",
    "std::cout<<\"content: \"<< r->data()<<std::endl;\n",
    "std::cout<<\"link: \"<< r->link()<<std::endl;\n",
    "std::cout<<\"data of link: \"<< (r->link())->data()<<std::endl;"
   ]
  },
  {
   "cell_type": "code",
   "execution_count": 6,
   "metadata": {
    "slideshow": {
     "slide_type": "slide"
    }
   },
   "outputs": [],
   "source": [
    "#include <iomanip>\n",
    "#include <string>\n",
    "void print_node(std::string name, node * n){\n",
    "    std::cout<<std::setw(4)<<std::left<<name;\n",
    "    std::cout<<\"   address: \"<<std::setw(10)<<n;\n",
    "    std::cout<<\"   content: \"<<std::setw(5)<<n->data();\n",
    "    std::cout<<\"   link: \"<<std::setw(10)<<n->link()<<std::endl;\n",
    "}"
   ]
  },
  {
   "cell_type": "code",
   "execution_count": 7,
   "metadata": {
    "slideshow": {
     "slide_type": "slide"
    }
   },
   "outputs": [
    {
     "name": "stdout",
     "output_type": "stream",
     "text": [
      "p      address: 0x75d83a0    content: 0       link: 0         \n",
      "r      address: 0x647aaa0    content: 1.6     link: 0x75d83a0 \n",
      "q      address: 0x72cd660    content: 4.9     link: 0         \n"
     ]
    }
   ],
   "source": [
    "print_node(\"p\", p);\n",
    "print_node(\"r\", r);\n",
    "print_node(\"q\", q);"
   ]
  },
  {
   "cell_type": "markdown",
   "metadata": {
    "slideshow": {
     "slide_type": "slide"
    }
   },
   "source": [
    "Create a node *s* that has: \n",
    "* content = 13.7\n",
    "* links to q"
   ]
  },
  {
   "cell_type": "markdown",
   "metadata": {
    "slideshow": {
     "slide_type": "slide"
    }
   },
   "source": [
    "# what's the differences between the two link implementations?\n",
    "```cpp\n",
    "const node* link( ) const { return link_field; }\n",
    "node* link( ) { return link_field; }\n",
    "```\n",
    "* `node* link`: pointer to mutable node, can be used to change list\n",
    "* `const node* link() const`: pointer to immutable node, cannot be used to change list\n",
    "\n"
   ]
  },
  {
   "cell_type": "code",
   "execution_count": 8,
   "metadata": {
    "slideshow": {
     "slide_type": "slide"
    }
   },
   "outputs": [],
   "source": [
    "auto b = new node(3.0);\n",
    "auto a = new node(1.6, b);"
   ]
  },
  {
   "cell_type": "code",
   "execution_count": 9,
   "metadata": {
    "slideshow": {
     "slide_type": "slide"
    }
   },
   "outputs": [
    {
     "name": "stdout",
     "output_type": "stream",
     "text": [
      "a: 0x7371370 1.6 0x5b15360\n",
      "b: 0x5b15360 3 0\n"
     ]
    }
   ],
   "source": [
    "//which link is called here?\n",
    "std::cout<<\"a: \"<<a <<\" \"<< a->data()<<\" \"<<a->link()<<std::endl;\n",
    "std::cout<<\"b: \"<<b <<\" \"<< b->data()<<\" \"<<b->link()<<std::endl;"
   ]
  },
  {
   "cell_type": "code",
   "execution_count": 10,
   "metadata": {
    "slideshow": {
     "slide_type": "slide"
    }
   },
   "outputs": [
    {
     "name": "stdout",
     "output_type": "stream",
     "text": [
      "a      address: 0x7371370    content: 1.6     link: 0x5b15360 \n",
      "b      address: 0x5b15360    content: 3       link: 0         \n"
     ]
    }
   ],
   "source": [
    "print_node(\"a\", a);\n",
    "print_node(\"b\", b);"
   ]
  },
  {
   "cell_type": "code",
   "execution_count": 11,
   "metadata": {
    "slideshow": {
     "slide_type": "slide"
    }
   },
   "outputs": [
    {
     "name": "stdout",
     "output_type": "stream",
     "text": [
      "a      address: 0x7371370    content: 1.6     link: 0x5b15360 \n",
      "b      address: 0x5b15360    content: 3       link: 0         \n",
      "head   address: 0x7371370    content: 1.6     link: 0x5b15360 \n"
     ]
    }
   ],
   "source": [
    "//which link is called here?\n",
    "head_ptr = a;\n",
    "print_node(\"a\", a);\n",
    "print_node(\"b\", b);\n",
    "print_node(\"head\", head_ptr);"
   ]
  },
  {
   "cell_type": "code",
   "execution_count": 12,
   "metadata": {
    "slideshow": {
     "slide_type": "slide"
    }
   },
   "outputs": [],
   "source": [
    "//what does mutability mean?\n",
    "node *second = head_ptr->link();"
   ]
  },
  {
   "cell_type": "code",
   "execution_count": 13,
   "metadata": {
    "slideshow": {
     "slide_type": "slide"
    }
   },
   "outputs": [
    {
     "name": "stdout",
     "output_type": "stream",
     "text": [
      "0x5b15360\n",
      "0x5b15360 9.2\n"
     ]
    }
   ],
   "source": [
    "std::cout<<second<<std::endl;\n",
    "second->set_data(9.2);\n",
    "std::cout<<second<<\" \"<<b->data()<<std::endl;"
   ]
  },
  {
   "cell_type": "code",
   "execution_count": 14,
   "metadata": {
    "slideshow": {
     "slide_type": "slide"
    }
   },
   "outputs": [
    {
     "name": "stdout",
     "output_type": "stream",
     "text": [
      "a      address: 0x7371370    content: 1.6     link: 0x5b15360 \n",
      "b      address: 0x5b15360    content: 9.2     link: 0         \n",
      "head   address: 0x7371370    content: 1.6     link: 0x5b15360 \n",
      "second   address: 0x5b15360    content: 9.2     link: 0         \n"
     ]
    }
   ],
   "source": [
    "print_node(\"a\", a);\n",
    "print_node(\"b\", b);\n",
    "print_node(\"head\", head_ptr);\n",
    "print_node(\"second\", second);"
   ]
  },
  {
   "cell_type": "code",
   "execution_count": 15,
   "metadata": {
    "slideshow": {
     "slide_type": "slide"
    }
   },
   "outputs": [
    {
     "name": "stderr",
     "output_type": "stream",
     "text": [
      "\u001b[1minput_line_26:5:10: \u001b[0m\u001b[0;1;31merror: \u001b[0m\u001b[1minvalid operands to binary expression ('std::ostream' (aka 'basic_ostream<char>') and 'node')\u001b[0m\n",
      "std::cout<<(*null_ptr)<<std::endl;\n",
      "\u001b[0;1;32m~~~~~~~~~^ ~~~~~~~~~~~\n",
      "\u001b[0m\u001b[1m/home/hannah/miniconda3/envs/xeus-cling/bin/../lib/gcc/../../gcc/include/c++/ostream:245:7: \u001b[0m\u001b[0;1;30mnote: \u001b[0mcandidate function not viable: no known conversion from 'node' to 'const void *' for 1st argument;\n",
      "      take the address of the argument with &\u001b[0m\n",
      "      operator<<(const void* __p)\n",
      "\u001b[0;1;32m      ^\n",
      "\u001b[0m\u001b[1m/home/hannah/miniconda3/envs/xeus-cling/bin/../lib/gcc/../../gcc/include/c++/cstddef:122:5: \u001b[0m\u001b[0;1;30mnote: \u001b[0mcandidate function not viable: no known conversion from 'std::ostream' (aka 'basic_ostream<char>')\n",
      "      to 'std::byte' for 1st argument\u001b[0m\n",
      "    operator<<(byte __b, _IntegerType __shift) noexcept\n",
      "\u001b[0;1;32m    ^\n",
      "\u001b[0m\u001b[1m/home/hannah/miniconda3/envs/xeus-cling/bin/../lib/gcc/../../gcc/include/c++/system_error:217:5: \u001b[0m\u001b[0;1;30mnote: \u001b[0mcandidate function not viable: no known conversion from 'node' to 'const std::error_code' for 2nd\n",
      "      argument\u001b[0m\n",
      "    operator<<(basic_ostream<_CharT, _Traits>& __os, const error_code& __e)\n",
      "\u001b[0;1;32m    ^\n",
      "\u001b[0m\u001b[1m/home/hannah/miniconda3/envs/xeus-cling/bin/../lib/gcc/../../gcc/include/c++/ostream:108:7: \u001b[0m\u001b[0;1;30mnote: \u001b[0mcandidate function not viable: no known conversion from 'node' to 'std::basic_ostream<char,\n",
      "      std::char_traits<char> >::__ostream_type &(*)(std::basic_ostream<char, std::char_traits<char>\n",
      "      >::__ostream_type &)' (aka 'basic_ostream<char, std::char_traits<char> >\n",
      "      &(*)(basic_ostream<char, std::char_traits<char> > &)') for 1st argument\u001b[0m\n",
      "      operator<<(__ostream_type& (*__pf)(__ostream_type&))\n",
      "\u001b[0;1;32m      ^\n",
      "\u001b[0m\u001b[1m/home/hannah/miniconda3/envs/xeus-cling/bin/../lib/gcc/../../gcc/include/c++/ostream:117:7: \u001b[0m\u001b[0;1;30mnote: \u001b[0mcandidate function not viable: no known conversion from 'node' to 'std::basic_ostream<char,\n",
      "      std::char_traits<char> >::__ios_type &(*)(std::basic_ostream<char, std::char_traits<char>\n",
      "      >::__ios_type &)' (aka 'basic_ios<char, std::char_traits<char> > &(*)(basic_ios<char,\n",
      "      std::char_traits<char> > &)') for 1st argument\u001b[0m\n",
      "      operator<<(__ios_type& (*__pf)(__ios_type&))\n",
      "\u001b[0;1;32m      ^\n",
      "\u001b[0m\u001b[1m/home/hannah/miniconda3/envs/xeus-cling/bin/../lib/gcc/../../gcc/include/c++/ostream:127:7: \u001b[0m\u001b[0;1;30mnote: \u001b[0mcandidate function not viable: no known conversion from 'node' to 'std::ios_base &(*)(std::ios_base\n",
      "      &)' for 1st argument\u001b[0m\n",
      "      operator<<(ios_base& (*__pf) (ios_base&))\n",
      "\u001b[0;1;32m      ^\n",
      "\u001b[0m\u001b[1m/home/hannah/miniconda3/envs/xeus-cling/bin/../lib/gcc/../../gcc/include/c++/ostream:166:7: \u001b[0m\u001b[0;1;30mnote: \u001b[0mcandidate function not viable: no known conversion from 'node' to 'long' for 1st argument\u001b[0m\n",
      "      operator<<(long __n)\n",
      "\u001b[0;1;32m      ^\n",
      "\u001b[0m\u001b[1m/home/hannah/miniconda3/envs/xeus-cling/bin/../lib/gcc/../../gcc/include/c++/ostream:170:7: \u001b[0m\u001b[0;1;30mnote: \u001b[0mcandidate function not viable: no known conversion from 'node' to 'unsigned long' for 1st argument\u001b[0m\n",
      "      operator<<(unsigned long __n)\n",
      "\u001b[0;1;32m      ^\n",
      "\u001b[0m\u001b[1m/home/hannah/miniconda3/envs/xeus-cling/bin/../lib/gcc/../../gcc/include/c++/ostream:174:7: \u001b[0m\u001b[0;1;30mnote: \u001b[0mcandidate function not viable: no known conversion from 'node' to 'bool' for 1st argument\u001b[0m\n",
      "      operator<<(bool __n)\n",
      "\u001b[0;1;32m      ^\n",
      "\u001b[0m\u001b[1m/home/hannah/miniconda3/envs/xeus-cling/bin/../lib/gcc/../../gcc/include/c++/ostream:178:7: \u001b[0m\u001b[0;1;30mnote: \u001b[0mcandidate function not viable: no known conversion from 'node' to 'short' for 1st argument\u001b[0m\n",
      "      operator<<(short __n);\n",
      "\u001b[0;1;32m      ^\n",
      "\u001b[0m\u001b[1m/home/hannah/miniconda3/envs/xeus-cling/bin/../lib/gcc/../../gcc/include/c++/ostream:181:7: \u001b[0m\u001b[0;1;30mnote: \u001b[0mcandidate function not viable: no known conversion from 'node' to 'unsigned short' for 1st argument\u001b[0m\n",
      "      operator<<(unsigned short __n)\n",
      "\u001b[0;1;32m      ^\n",
      "\u001b[0m\u001b[1m/home/hannah/miniconda3/envs/xeus-cling/bin/../lib/gcc/../../gcc/include/c++/ostream:189:7: \u001b[0m\u001b[0;1;30mnote: \u001b[0mcandidate function not viable: no known conversion from 'node' to 'int' for 1st argument\u001b[0m\n",
      "      operator<<(int __n);\n",
      "\u001b[0;1;32m      ^\n",
      "\u001b[0m\u001b[1m/home/hannah/miniconda3/envs/xeus-cling/bin/../lib/gcc/../../gcc/include/c++/ostream:192:7: \u001b[0m\u001b[0;1;30mnote: \u001b[0mcandidate function not viable: no known conversion from 'node' to 'unsigned int' for 1st argument\u001b[0m\n",
      "      operator<<(unsigned int __n)\n",
      "\u001b[0;1;32m      ^\n",
      "\u001b[0m\u001b[1m/home/hannah/miniconda3/envs/xeus-cling/bin/../lib/gcc/../../gcc/include/c++/ostream:201:7: \u001b[0m\u001b[0;1;30mnote: \u001b[0mcandidate function not viable: no known conversion from 'node' to 'long long' for 1st argument\u001b[0m\n",
      "      operator<<(long long __n)\n",
      "\u001b[0;1;32m      ^\n",
      "\u001b[0m\u001b[1m/home/hannah/miniconda3/envs/xeus-cling/bin/../lib/gcc/../../gcc/include/c++/ostream:205:7: \u001b[0m\u001b[0;1;30mnote: \u001b[0mcandidate function not viable: no known conversion from 'node' to 'unsigned long long' for 1st\n",
      "      argument\u001b[0m\n",
      "      operator<<(unsigned long long __n)\n",
      "\u001b[0;1;32m      ^\n",
      "\u001b[0m\u001b[1m/home/hannah/miniconda3/envs/xeus-cling/bin/../lib/gcc/../../gcc/include/c++/ostream:220:7: \u001b[0m\u001b[0;1;30mnote: \u001b[0mcandidate function not viable: no known conversion from 'node' to 'double' for 1st argument\u001b[0m\n",
      "      operator<<(double __f)\n",
      "\u001b[0;1;32m      ^\n",
      "\u001b[0m\u001b[1m/home/hannah/miniconda3/envs/xeus-cling/bin/../lib/gcc/../../gcc/include/c++/ostream:224:7: \u001b[0m\u001b[0;1;30mnote: \u001b[0mcandidate function not viable: no known conversion from 'node' to 'float' for 1st argument\u001b[0m\n",
      "      operator<<(float __f)\n",
      "\u001b[0;1;32m      ^\n",
      "\u001b[0m\u001b[1m/home/hannah/miniconda3/envs/xeus-cling/bin/../lib/gcc/../../gcc/include/c++/ostream:232:7: \u001b[0m\u001b[0;1;30mnote: \u001b[0mcandidate function not viable: no known conversion from 'node' to 'long double' for 1st argument\u001b[0m\n",
      "      operator<<(long double __f)\n",
      "\u001b[0;1;32m      ^\n",
      "\u001b[0m\u001b[1m/home/hannah/miniconda3/envs/xeus-cling/bin/../lib/gcc/../../gcc/include/c++/ostream:270:7: \u001b[0m\u001b[0;1;30mnote: \u001b[0mcandidate function not viable: no known conversion from 'node' to 'std::basic_ostream<char,\n",
      "      std::char_traits<char> >::__streambuf_type *' (aka 'basic_streambuf<char,\n",
      "      std::char_traits<char> > *') for 1st argument\u001b[0m\n",
      "      operator<<(__streambuf_type* __sb);\n",
      "\u001b[0;1;32m      ^\n",
      "\u001b[0m\u001b[1m/home/hannah/miniconda3/envs/xeus-cling/bin/../lib/gcc/../../gcc/include/c++/ostream:502:5: \u001b[0m\u001b[0;1;30mnote: \u001b[0mcandidate function not viable: no known conversion from 'node' to 'char' for 2nd argument\u001b[0m\n",
      "    operator<<(basic_ostream<_CharT, _Traits>& __out, char __c)\n",
      "\u001b[0;1;32m    ^\n",
      "\u001b[0m\u001b[1m/home/hannah/miniconda3/envs/xeus-cling/bin/../lib/gcc/../../gcc/include/c++/ostream:508:5: \u001b[0m\u001b[0;1;30mnote: \u001b[0mcandidate function not viable: no known conversion from 'node' to 'char' for 2nd argument\u001b[0m\n",
      "    operator<<(basic_ostream<char, _Traits>& __out, char __c)\n",
      "\u001b[0;1;32m    ^\n",
      "\u001b[0m\u001b[1m/home/hannah/miniconda3/envs/xeus-cling/bin/../lib/gcc/../../gcc/include/c++/ostream:514:5: \u001b[0m\u001b[0;1;30mnote: \u001b[0mcandidate function not viable: no known conversion from 'node' to 'signed char' for 2nd argument\u001b[0m\n",
      "    operator<<(basic_ostream<char, _Traits>& __out, signed char __c)\n",
      "\u001b[0;1;32m    ^\n",
      "\u001b[0m\u001b[1m/home/hannah/miniconda3/envs/xeus-cling/bin/../lib/gcc/../../gcc/include/c++/ostream:519:5: \u001b[0m\u001b[0;1;30mnote: \u001b[0mcandidate function not viable: no known conversion from 'node' to 'unsigned char' for 2nd argument\u001b[0m\n",
      "    operator<<(basic_ostream<char, _Traits>& __out, unsigned char __c)\n",
      "\u001b[0;1;32m    ^\n",
      "\u001b[0m\u001b[1m/home/hannah/miniconda3/envs/xeus-cling/bin/../lib/gcc/../../gcc/include/c++/ostream:556:5: \u001b[0m\u001b[0;1;30mnote: \u001b[0mcandidate function not viable: no known conversion from 'node' to 'const char *' for 2nd argument\u001b[0m\n",
      "    operator<<(basic_ostream<char, _Traits>& __out, const char* __s)\n",
      "\u001b[0;1;32m    ^\n",
      "\u001b[0m\u001b[1m/home/hannah/miniconda3/envs/xeus-cling/bin/../lib/gcc/../../gcc/include/c++/ostream:569:5: \u001b[0m\u001b[0;1;30mnote: \u001b[0mcandidate function not viable: no known conversion from 'node' to 'const signed char *' for 2nd\n",
      "      argument\u001b[0m\n",
      "    operator<<(basic_ostream<char, _Traits>& __out, const signed char* __s)\n",
      "\u001b[0;1;32m    ^\n",
      "\u001b[0m\u001b[1m/home/hannah/miniconda3/envs/xeus-cling/bin/../lib/gcc/../../gcc/include/c++/ostream:574:5: \u001b[0m\u001b[0;1;30mnote: \u001b[0mcandidate function not viable: no known conversion from 'node' to 'const unsigned char *' for 2nd\n",
      "      argument\u001b[0m\n",
      "    operator<<(basic_ostream<char, _Traits>& __out, const unsigned char* __s)\n",
      "\u001b[0;1;32m    ^\n",
      "\u001b[0m\u001b[1m/home/hannah/miniconda3/envs/xeus-cling/bin/../lib/gcc/../../gcc/include/c++/bits/ostream.tcc:321:5: \u001b[0m\u001b[0;1;30mnote: \u001b[0mcandidate function not viable: no known conversion from 'node' to 'const char *' for 2nd argument\u001b[0m\n",
      "    operator<<(basic_ostream<_CharT, _Traits>& __out, const char* __s)\n",
      "\u001b[0;1;32m    ^\n",
      "\u001b[0m\u001b[1m/home/hannah/miniconda3/envs/xeus-cling/bin/../lib/gcc/../../gcc/include/c++/iomanip:79:5: \u001b[0m\u001b[0;1;30mnote: \u001b[0mcandidate function not viable: no known conversion from 'node' to 'std::_Resetiosflags' for 2nd\n",
      "      argument\u001b[0m\n",
      "    operator<<(basic_ostream<_CharT, _Traits>& __os, _Resetiosflags __f)\n",
      "\u001b[0;1;32m    ^\n",
      "\u001b[0m\u001b[1m/home/hannah/miniconda3/envs/xeus-cling/bin/../lib/gcc/../../gcc/include/c++/iomanip:109:5: \u001b[0m\u001b[0;1;30mnote: \u001b[0mcandidate function not viable: no known conversion from 'node' to 'std::_Setiosflags' for 2nd\n",
      "      argument\u001b[0m\n",
      "    operator<<(basic_ostream<_CharT, _Traits>& __os, _Setiosflags __f)\n",
      "\u001b[0;1;32m    ^\n",
      "\u001b[0m\u001b[1m/home/hannah/miniconda3/envs/xeus-cling/bin/../lib/gcc/../../gcc/include/c++/iomanip:143:5: \u001b[0m\u001b[0;1;30mnote: \u001b[0mcandidate function not viable: no known conversion from 'node' to 'std::_Setbase' for 2nd argument\u001b[0m\n",
      "    operator<<(basic_ostream<_CharT, _Traits>& __os, _Setbase __f)\n",
      "\u001b[0;1;32m    ^\n",
      "\u001b[0m\u001b[1m/home/hannah/miniconda3/envs/xeus-cling/bin/../lib/gcc/../../gcc/include/c++/iomanip:208:5: \u001b[0m\u001b[0;1;30mnote: \u001b[0mcandidate function not viable: no known conversion from 'node' to 'std::_Setprecision' for 2nd\n",
      "      argument\u001b[0m\n",
      "    operator<<(basic_ostream<_CharT, _Traits>& __os, _Setprecision __f)\n",
      "\u001b[0;1;32m    ^\n",
      "\u001b[0m\u001b[1m/home/hannah/miniconda3/envs/xeus-cling/bin/../lib/gcc/../../gcc/include/c++/iomanip:238:5: \u001b[0m\u001b[0;1;30mnote: \u001b[0mcandidate function not viable: no known conversion from 'node' to 'std::_Setw' for 2nd argument\u001b[0m\n",
      "    operator<<(basic_ostream<_CharT, _Traits>& __os, _Setw __f)\n",
      "\u001b[0;1;32m    ^\n",
      "\u001b[0m\u001b[1m/home/hannah/miniconda3/envs/xeus-cling/bin/../lib/gcc/../../gcc/include/c++/ostream:497:5: \u001b[0m\u001b[0;1;30mnote: \u001b[0mcandidate template ignored: deduced conflicting types for parameter '_CharT' ('char' vs. 'node')\u001b[0m\n",
      "    operator<<(basic_ostream<_CharT, _Traits>& __out, _CharT __c)\n",
      "\u001b[0;1;32m    ^\n",
      "\u001b[0m\u001b[1m/home/hannah/miniconda3/envs/xeus-cling/bin/../lib/gcc/../../gcc/include/c++/string_view:558:5: \u001b[0m\u001b[0;1;30mnote: \u001b[0mcandidate template ignored: could not match 'basic_string_view<type-parameter-0-0,\n",
      "      type-parameter-0-1>' against 'node'\u001b[0m\n",
      "    operator<<(basic_ostream<_CharT, _Traits>& __os,\n",
      "\u001b[0;1;32m    ^\n",
      "\u001b[0m\u001b[1m/home/hannah/miniconda3/envs/xeus-cling/bin/../lib/gcc/../../gcc/include/c++/bits/basic_string.h:6082:5: \u001b[0m\u001b[0;1;30mnote: \u001b[0mcandidate template ignored: could not match 'basic_string<type-parameter-0-0, type-parameter-0-1,\n",
      "      type-parameter-0-2>' against 'node'\u001b[0m\n",
      "    operator<<(basic_ostream<_CharT, _Traits>& __os,\n",
      "\u001b[0;1;32m    ^\n",
      "\u001b[0m\u001b[1m/home/hannah/miniconda3/envs/xeus-cling/bin/../lib/gcc/../../gcc/include/c++/ostream:539:5: \u001b[0m\u001b[0;1;30mnote: \u001b[0mcandidate template ignored: could not match 'const _CharT *' against 'node'\u001b[0m\n",
      "    operator<<(basic_ostream<_CharT, _Traits>& __out, const _CharT* __s)\n",
      "\u001b[0;1;32m    ^\n",
      "\u001b[0m\u001b[1m/home/hannah/miniconda3/envs/xeus-cling/bin/../lib/gcc/../../gcc/include/c++/bits/shared_ptr.h:66:5: \u001b[0m\u001b[0;1;30mnote: \u001b[0mcandidate template ignored: could not match '__shared_ptr<type-parameter-0-2, _Lp>' against 'node'\u001b[0m\n",
      "    operator<<(std::basic_ostream<_Ch, _Tr>& __os,\n",
      "\u001b[0;1;32m    ^\n",
      "\u001b[0m\u001b[1m/home/hannah/miniconda3/envs/xeus-cling/bin/../lib/gcc/../../gcc/include/c++/bits/valarray_after.h:410:5: \u001b[0m\u001b[0;1;30mnote: \u001b[0mcandidate template ignored: could not match '_Expr' against 'basic_ostream'\u001b[0m\n",
      "    _DEFINE_EXPR_BINARY_OPERATOR(<<, __shift_left)\n",
      "\u001b[0;1;32m    ^\n",
      "\u001b[0m\u001b[1m/home/hannah/miniconda3/envs/xeus-cling/bin/../lib/gcc/../../gcc/include/c++/bits/valarray_after.h:341:5: \u001b[0m\u001b[0;1;30mnote: \u001b[0mexpanded from macro '_DEFINE_EXPR_BINARY_OPERATOR'\u001b[0m\n",
      "    operator _Op(const _Expr<_Dom1, typename _Dom1::value_type>& __v,   \\\n",
      "\u001b[0;1;32m    ^\n",
      "\u001b[0m\u001b[1m/home/hannah/miniconda3/envs/xeus-cling/bin/../lib/gcc/../../gcc/include/c++/bits/valarray_after.h:410:5: \u001b[0m\u001b[0;1;30mnote: \u001b[0mcandidate template ignored: could not match '_Expr' against 'basic_ostream'\u001b[0m\n",
      "\u001b[1m/home/hannah/miniconda3/envs/xeus-cling/bin/../lib/gcc/../../gcc/include/c++/bits/valarray_after.h:354:5: \u001b[0m\u001b[0;1;30mnote: \u001b[0mexpanded from macro '_DEFINE_EXPR_BINARY_OPERATOR'\u001b[0m\n",
      "    operator _Op(const _Expr<_Dom, typename _Dom::value_type>& __v,     \\\n",
      "\u001b[0;1;32m    ^\n",
      "\u001b[0m\u001b[1m/home/hannah/miniconda3/envs/xeus-cling/bin/../lib/gcc/../../gcc/include/c++/bits/valarray_after.h:410:5: \u001b[0m\u001b[0;1;30mnote: \u001b[0mcandidate template ignored: could not match '_Expr<type-parameter-0-0, typename\n",
      "      type-parameter-0-0::value_type>' against 'node'\u001b[0m\n",
      "\u001b[1m/home/hannah/miniconda3/envs/xeus-cling/bin/../lib/gcc/../../gcc/include/c++/bits/valarray_after.h:367:5: \u001b[0m\u001b[0;1;30mnote: \u001b[0mexpanded from macro '_DEFINE_EXPR_BINARY_OPERATOR'\u001b[0m\n",
      "    operator _Op(const typename _Dom::value_type& __t,                  \\\n",
      "\u001b[0;1;32m    ^\n",
      "\u001b[0m\u001b[1m/home/hannah/miniconda3/envs/xeus-cling/bin/../lib/gcc/../../gcc/include/c++/bits/valarray_after.h:410:5: \u001b[0m\u001b[0;1;30mnote: \u001b[0mcandidate template ignored: could not match '_Expr' against 'basic_ostream'\u001b[0m\n",
      "\u001b[1m/home/hannah/miniconda3/envs/xeus-cling/bin/../lib/gcc/../../gcc/include/c++/bits/valarray_after.h:380:5: \u001b[0m\u001b[0;1;30mnote: \u001b[0mexpanded from macro '_DEFINE_EXPR_BINARY_OPERATOR'\u001b[0m\n",
      "    operator _Op(const _Expr<_Dom,typename _Dom::value_type>& __e,      \\\n",
      "\u001b[0;1;32m    ^\n",
      "\u001b[0m\u001b[1m/home/hannah/miniconda3/envs/xeus-cling/bin/../lib/gcc/../../gcc/include/c++/bits/valarray_after.h:410:5: \u001b[0m\u001b[0;1;30mnote: \u001b[0mcandidate template ignored: could not match '_Expr<type-parameter-0-0, typename\n",
      "      type-parameter-0-0::value_type>' against 'node'\u001b[0m\n",
      "\u001b[1m/home/hannah/miniconda3/envs/xeus-cling/bin/../lib/gcc/../../gcc/include/c++/bits/valarray_after.h:393:5: \u001b[0m\u001b[0;1;30mnote: \u001b[0mexpanded from macro '_DEFINE_EXPR_BINARY_OPERATOR'\u001b[0m\n",
      "    operator _Op(const valarray<typename _Dom::value_type>& __v,        \\\n",
      "\u001b[0;1;32m    ^\n",
      "\u001b[0m\u001b[1m/home/hannah/miniconda3/envs/xeus-cling/bin/../lib/gcc/../../gcc/include/c++/valarray:1180:1: \u001b[0m\u001b[0;1;30mnote: \u001b[0mcandidate template ignored: could not match 'valarray' against 'basic_ostream'\u001b[0m\n",
      "_DEFINE_BINARY_OPERATOR(<<, __shift_left)\n",
      "\u001b[0;1;32m^\n",
      "\u001b[0m\u001b[1m/home/hannah/miniconda3/envs/xeus-cling/bin/../lib/gcc/../../gcc/include/c++/valarray:1144:5: \u001b[0m\u001b[0;1;30mnote: \u001b[0mexpanded from macro '_DEFINE_BINARY_OPERATOR'\u001b[0m\n",
      "    operator _Op(const valarray<_Tp>& __v, const valarray<_Tp>& __w)    \\\n",
      "\u001b[0;1;32m    ^\n",
      "\u001b[0m\u001b[1m/home/hannah/miniconda3/envs/xeus-cling/bin/../lib/gcc/../../gcc/include/c++/valarray:1180:1: \u001b[0m\u001b[0;1;30mnote: \u001b[0mcandidate template ignored: could not match 'valarray' against 'basic_ostream'\u001b[0m\n",
      "\u001b[1m/home/hannah/miniconda3/envs/xeus-cling/bin/../lib/gcc/../../gcc/include/c++/valarray:1155:5: \u001b[0m\u001b[0;1;30mnote: \u001b[0mexpanded from macro '_DEFINE_BINARY_OPERATOR'\u001b[0m\n",
      "    operator _Op(const valarray<_Tp>& __v, const _Tp& __t)              \\\n",
      "\u001b[0;1;32m    ^\n",
      "\u001b[0m\u001b[1m/home/hannah/miniconda3/envs/xeus-cling/bin/../lib/gcc/../../gcc/include/c++/valarray:1180:1: \u001b[0m\u001b[0;1;30mnote: \u001b[0mcandidate template ignored: could not match 'valarray<type-parameter-0-0>' against 'node'\u001b[0m\n",
      "\u001b[1m/home/hannah/miniconda3/envs/xeus-cling/bin/../lib/gcc/../../gcc/include/c++/valarray:1165:5: \u001b[0m\u001b[0;1;30mnote: \u001b[0mexpanded from macro '_DEFINE_BINARY_OPERATOR'\u001b[0m\n",
      "    operator _Op(const _Tp& __t, const valarray<_Tp>& __v)              \\\n",
      "\u001b[0;1;32m    ^\n",
      "\u001b[0m\u001b[1m/home/hannah/miniconda3/envs/xeus-cling/bin/../lib/gcc/../../gcc/include/c++/iomanip:178:5: \u001b[0m\u001b[0;1;30mnote: \u001b[0mcandidate template ignored: could not match '_Setfill<type-parameter-0-0>' against 'node'\u001b[0m\n"
     ]
    },
    {
     "name": "stderr",
     "output_type": "stream",
     "text": [
      "    operator<<(basic_ostream<_CharT, _Traits>& __os, _Setfill<_CharT> __f)\n",
      "\u001b[0;1;32m    ^\n",
      "\u001b[0m\u001b[1m/home/hannah/miniconda3/envs/xeus-cling/bin/../lib/gcc/../../gcc/include/c++/ostream:682:5: \u001b[0m\u001b[0;1;30mnote: \u001b[0mcandidate template ignored: requirement '__and_<__not_<is_lvalue_reference<basic_ostream<char> &>\n",
      "      >, __is_convertible_to_basic_ostream<basic_ostream<char> &>,\n",
      "      __is_insertable<__rvalue_ostream_type<basic_ostream<char> &>, const node &> >::value' was not\n",
      "      satisfied [with _Ostream = std::basic_ostream<char> &, _Tp = node]\u001b[0m\n",
      "    operator<<(_Ostream&& __os, const _Tp& __x)\n",
      "\u001b[0;1;32m    ^\n",
      "\u001b[0m\u001b[1m/home/hannah/miniconda3/envs/xeus-cling/bin/../lib/gcc/../../gcc/include/c++/iomanip:311:5: \u001b[0m\u001b[0;1;30mnote: \u001b[0mcandidate template ignored: could not match '_Put_money<type-parameter-0-2>' against 'node'\u001b[0m\n",
      "    operator<<(basic_ostream<_CharT, _Traits>& __os, _Put_money<_MoneyT> __f)\n",
      "\u001b[0;1;32m    ^\n",
      "\u001b[0m\u001b[1m/home/hannah/miniconda3/envs/xeus-cling/bin/../lib/gcc/../../gcc/include/c++/iomanip:363:5: \u001b[0m\u001b[0;1;30mnote: \u001b[0mcandidate template ignored: could not match '_Put_time<type-parameter-0-0>' against 'node'\u001b[0m\n",
      "    operator<<(basic_ostream<_CharT, _Traits>& __os, _Put_time<_CharT> __f)\n",
      "\u001b[0;1;32m    ^\n",
      "\u001b[0m"
     ]
    },
    {
     "ename": "Interpreter Error",
     "evalue": "",
     "output_type": "error",
     "traceback": [
      "Interpreter Error: "
     ]
    }
   ],
   "source": [
    "//Why is dereferencing a null ptr bad? \n",
    "node *null_ptr;\n",
    "null_ptr = NULL;\n",
    "std::cout<<(*null_ptr)<<std::endl;"
   ]
  },
  {
   "cell_type": "markdown",
   "metadata": {
    "slideshow": {
     "slide_type": "slide"
    }
   },
   "source": [
    "# Linked list toolkit\n",
    "https://github.com/ccnycs/csc212/tree/master/code/linked_list_tk\n",
    "```cpp\n",
    "std::size_t list_length(const node* head_ptr);\n",
    "void list_head_insert(node*& head_ptr, const node::value_type& entry); \n",
    "void list_insert(node* previous_ptr, const node::value_type& entry);  \n",
    "node* list_search(node* head_ptr, const node::value_type& target);\n",
    "const node* list_search\n",
    "(const node* head_ptr, const node::value_type& target);\n",
    "node* list_locate(node* head_ptr, std::size_t position);\n",
    "const node* list_locate(const node* head_ptr, std::size_t position);\n",
    "void list_head_remove(node*& head_ptr);\n",
    "void list_remove(node* previous_ptr);\n",
    "void list_clear(node*& head_ptr);\n",
    "void list_copy(const node* source_ptr, node*& head_ptr, node*& tail_ptr);\n",
    "```\n"
   ]
  },
  {
   "cell_type": "markdown",
   "metadata": {},
   "source": [
    "The function prototypes are added to the node.h file under the node class declaration, and the function implementations go into a node.cpp file"
   ]
  },
  {
   "cell_type": "markdown",
   "metadata": {
    "slideshow": {
     "slide_type": "slide"
    }
   },
   "source": [
    "# Traverse Linked List\n",
    "![nodes + link pointers, cursor above first node, then above second node](figures/chap05/traversal.png??)"
   ]
  },
  {
   "cell_type": "code",
   "execution_count": null,
   "metadata": {
    "slideshow": {
     "slide_type": "slide"
    }
   },
   "outputs": [],
   "source": [
    "//compute length of linked list:\n",
    "size_t list_length(const node* head__ptr){\n",
    "    //Precondition: head_ptr is the head pointer of a linked list.\n",
    "    //Postcondition: The value returned is the number of nodes in the linked list.\n",
    "}"
   ]
  },
  {
   "cell_type": "markdown",
   "metadata": {
    "slideshow": {
     "slide_type": "slide"
    }
   },
   "source": [
    "# Insert at beginning\n",
    "![linked list with 3 elements and one added at beginning, then new list](figures/chap05/insertion_head.png??)"
   ]
  },
  {
   "cell_type": "code",
   "execution_count": null,
   "metadata": {
    "slideshow": {
     "slide_type": "slide"
    }
   },
   "outputs": [],
   "source": [
    "void list_head_insert(node*& head_ptr, const node::value_type& entry){\n",
    "    //Precondition: head_ptr is the head pointer of a linked list.\n",
    "    //Postcondtion: A new node containing entry has been added at the head of the list,\n",
    "    //head_ptr now points to entry\n",
    "    //NOTE: if insufficient dynamic memory, throw bad_alloc error\n",
    "}"
   ]
  },
  {
   "cell_type": "markdown",
   "metadata": {
    "slideshow": {
     "slide_type": "slide"
    }
   },
   "source": [
    "# Insert in middle?\n",
    "![linked list with 3 elements and one added at beginning, then new list](figures/chap05/insertion_middle.png??)"
   ]
  },
  {
   "cell_type": "code",
   "execution_count": null,
   "metadata": {
    "slideshow": {
     "slide_type": "slide"
    }
   },
   "outputs": [],
   "source": [
    "void list_insert(node* previous_ptr, const node::value_type& entry){\n",
    "    //pre: previous points to a node in linked list\n",
    "    //post: entry is inserted after the node previous points to\n",
    "}"
   ]
  },
  {
   "cell_type": "markdown",
   "metadata": {
    "slideshow": {
     "slide_type": "slide"
    }
   },
   "source": [
    "# find nodes by position and data value\n",
    "![nodes + link pointers, cursor above first node, then above second node](figures/chap05/traversal.png??)"
   ]
  },
  {
   "cell_type": "code",
   "execution_count": null,
   "metadata": {
    "slideshow": {
     "slide_type": "slide"
    }
   },
   "outputs": [],
   "source": [
    "node* list_search(node* head_ptr, const node::value_type& target){\n",
    "    //pre: head_ptr is the start of the list\n",
    "    //post: returns pointer to the first node containing the target data or NULL ptr\n",
    "}\n",
    "const node* list_search (const node* head_ptr, const node::value_type& target_{};\n",
    "//when two? when the function has a node parameter and returns a pointer to a node"
   ]
  },
  {
   "cell_type": "code",
   "execution_count": null,
   "metadata": {
    "slideshow": {
     "slide_type": "slide"
    }
   },
   "outputs": [],
   "source": [
    "node* list_locate(node* head_ptr, std::size_t position){\n",
    "    //pre: head_ptr is start of the list (position 1), position>0\n",
    "    //post: returns pointer to node at specified position or NULL ptr\n",
    "}\n",
    "const node* list_locate(const node* head_ptr, std::size_t position){};"
   ]
  },
  {
   "cell_type": "code",
   "execution_count": null,
   "metadata": {
    "slideshow": {
     "slide_type": "slide"
    }
   },
   "outputs": [],
   "source": [
    "void list_copy(const node* source_ptr, node*& head_ptr, node*& tail_ptr){\n",
    "    //pre: source_ptr is head_ptr of a linked list\n",
    "    //post: head_ptr and tail_ptr are head and tail of copy of source\n",
    "    //throws bad_alloc exception if not enough memory\n",
    "}"
   ]
  },
  {
   "cell_type": "markdown",
   "metadata": {
    "slideshow": {
     "slide_type": "slide"
    }
   },
   "source": [
    "# Removing First Node\n",
    "![list of 4 elements with 1st crossed out, underneath list with three elements with crossed out one missing and head ptr pointing to 2nd element of first list](figures/chap05/remove_head.png??)"
   ]
  },
  {
   "cell_type": "code",
   "execution_count": null,
   "metadata": {
    "slideshow": {
     "slide_type": "slide"
    }
   },
   "outputs": [],
   "source": [
    "void list_head_remove(node*& head_ptr){\n",
    "    //pre: head_ptr is at start, list length>0\n",
    "    //post: head node has been removed & returned to heap, head points to new start\n",
    "}"
   ]
  },
  {
   "cell_type": "markdown",
   "metadata": {
    "slideshow": {
     "slide_type": "slide"
    }
   },
   "source": [
    "# Remove any node\n",
    "![list of 4 elements with 2nd crossed out, underneath list with three elements with crossed out one missing and 1st element pointing to what was previously third element of list](figures/chap05/remove_middle.png??)"
   ]
  },
  {
   "cell_type": "code",
   "execution_count": null,
   "metadata": {
    "slideshow": {
     "slide_type": "slide"
    }
   },
   "outputs": [],
   "source": [
    "void list_remove(node* previous_ptr){\n",
    "    //pre: previous_ptr points to a node in the linked list\n",
    "    //post: node after previous has been removed, \n",
    "}"
   ]
  },
  {
   "cell_type": "code",
   "execution_count": null,
   "metadata": {
    "slideshow": {
     "slide_type": "slide"
    }
   },
   "outputs": [],
   "source": [
    "void list_clear(node*& head_ptr){\n",
    "    //pre: head_ptr is at start of list\n",
    "    //post: all nodes have been deleted and head_ptr is now null\n",
    "}"
   ]
  },
  {
   "cell_type": "markdown",
   "metadata": {},
   "source": [
    "# Summary: Linked Lists\n",
    "* Data structure is a list of node objects with the following attributes:\n",
    "    * `value_type data_field` - variable storing data, can be any type, including an object\n",
    "    * `node* link_field` - pointer to next node in the list\n",
    "* Linked List Toolkit - functions for manipulating a linked list:\n",
    "    - count\n",
    "        + std::size_t list_length(const node* head_ptr);\n",
    "    - insert \n",
    "        + void list_head_insert(node*& head_ptr, const node::value_type& entry); \n",
    "        + void list_insert(node* previous_ptr, const node::value_type& entry);  \n",
    "    - search by value\n",
    "        + node* list_search(node* head_ptr, const node::value_type& target);\n",
    "        + const node* list_search(const node* head_ptr, const node::value_type& target);\n",
    "    - search by index\n",
    "        + node* list_locate(node* head_ptr, std::size_t position);\n",
    "        + const node* list_locate(const node* head_ptr, std::size_t position);\n",
    "    - delete\n",
    "        + void list_head_remove(node*& head_ptr);\n",
    "        + void list_remove(node* previous_ptr);\n",
    "        + void list_clear(node*& head_ptr);\n",
    "    - copy\n",
    "        + void list_copy(const node* source_ptr, node*& head_ptr, node*& tail_ptr);\n",
    "* Does this function return something that can be used to change the list?\n",
    "    - Yes/mutable: node* link\n",
    "    - No/immutable: const node* link() const"
   ]
  },
  {
   "cell_type": "code",
   "execution_count": null,
   "metadata": {},
   "outputs": [],
   "source": []
  }
 ],
 "metadata": {
  "celltoolbar": "Slideshow",
  "kernelspec": {
   "display_name": "C++17",
   "language": "C++17",
   "name": "xeus-cling-cpp17"
  },
  "language_info": {
   "codemirror_mode": "text/x-c++src",
   "file_extension": ".cpp",
   "mimetype": "text/x-c++src",
   "name": "c++",
   "version": "-std=c++17"
  }
 },
 "nbformat": 4,
 "nbformat_minor": 2
}
