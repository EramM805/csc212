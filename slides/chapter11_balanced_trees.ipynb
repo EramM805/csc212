{
 "cells": [
  {
   "cell_type": "markdown",
   "metadata": {
    "slideshow": {
     "slide_type": "slide"
    }
   },
   "source": [
    "# Objectives\n",
    "* List the definitions of Heaps and B-Trees\n",
    "* modify a heap, with a reheapification\n",
    "* modify a B-tree (B\n",
    "* use a heap to implement a priority queue\n",
    "* use B-tree to implement a set class\n",
    "* STL: priority queue, heap, map, multimap\n",
    "* analyse time complexity of algorithms on different types of trees"
   ]
  },
  {
   "cell_type": "markdown",
   "metadata": {
    "slideshow": {
     "slide_type": "slide"
    }
   },
   "source": [
    "# Heap\n",
    "* Binary Tree with strict weak ordering of nodes:\n",
    "    *  parent_node.key $\\ge$ child_node.key\n",
    "\n",
    "* Adding elements:\n",
    "    1. place new entry oin first available slot to stay complete \n",
    "    2. swap new entry with parents until heap requirement is met\n",
    "    \n",
    "* Removing elements:\n",
    "    1. remove element with highest priority (may just be requested element)\n",
    "    2. move last leaf to spot where element was removed (so that tree structure is maintained)\n",
    "    3. swap with parent until heap requirement is met"
   ]
  },
  {
   "cell_type": "markdown",
   "metadata": {
    "slideshow": {
     "slide_type": "slide"
    }
   },
   "source": [
    "# Priority Queue as heap\n",
    "* node has indexing/weighing attribute\n",
    "* indexing/weighing is used for location in heap\n",
    "* queue processed based on on location in heap, root first\n",
    "\n",
    "* https://see.stanford.edu/materials/icspacs106b/h32-assign6pqueue.pdf"
   ]
  },
  {
   "cell_type": "code",
   "execution_count": null,
   "metadata": {},
   "outputs": [],
   "source": []
  }
 ],
 "metadata": {
  "celltoolbar": "Slideshow",
  "kernelspec": {
   "display_name": "Python 3",
   "language": "python",
   "name": "python3"
  },
  "language_info": {
   "codemirror_mode": {
    "name": "ipython",
    "version": 3
   },
   "file_extension": ".py",
   "mimetype": "text/x-python",
   "name": "python",
   "nbconvert_exporter": "python",
   "pygments_lexer": "ipython3",
   "version": "3.6.6"
  }
 },
 "nbformat": 4,
 "nbformat_minor": 2
}
