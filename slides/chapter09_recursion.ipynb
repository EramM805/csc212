{
 "cells": [
  {
   "cell_type": "markdown",
   "metadata": {
    "slideshow": {
     "slide_type": "slide"
    }
   },
   "source": [
    "# Chapter 09: Recursive Thinking"
   ]
  },
  {
   "cell_type": "markdown",
   "metadata": {
    "slideshow": {
     "slide_type": "slide"
    }
   },
   "source": [
    "# Objectives\n",
    "* understand what sorts of problems lend themselves to recursive solutions\n",
    "* trace recursive calls by drawing pictures of the run time stack\n",
    "* validate that the recursive function isn't infinite by providing a variant and a threshold"
   ]
  },
  {
   "cell_type": "markdown",
   "metadata": {
    "slideshow": {
     "slide_type": "slide"
    }
   },
   "source": [
    "# What is recursion?\n",
    "\n",
    "https://www.google.com/search?q=recursion"
   ]
  },
  {
   "cell_type": "markdown",
   "metadata": {
    "slideshow": {
     "slide_type": "subslide"
    }
   },
   "source": [
    "![xkcd #1739 about problems](figures/chap09/fixing_problems.png)"
   ]
  },
  {
   "cell_type": "markdown",
   "metadata": {
    "slideshow": {
     "slide_type": "slide"
    }
   },
   "source": [
    "# Recursive Problems\n",
    "\n",
    "*recursive programming involves spotting smaller occurrences of a problem within the problem itself*  - Main & Savitch\n",
    "\n"
   ]
  },
  {
   "cell_type": "markdown",
   "metadata": {
    "slideshow": {
     "slide_type": "slide"
    }
   },
   "source": [
    "![Matroshka](figures/chap09/giphy.gif)\n",
    "made by [cecy meade](https://giphy.com/gifs/girly-nest-nesting-3oEjHWPTo7c0ajPwty)"
   ]
  },
  {
   "cell_type": "markdown",
   "metadata": {
    "slideshow": {
     "slide_type": "slide"
    }
   },
   "source": [
    "# Ensuring That There Is No Infinite Recursion\n",
    "\n",
    "\n",
    "* __variant expression__: numeric quantity changed by fixed amount\n",
    "* __threshold__: value that triggers the base case\n",
    "* __base case__: entire computation is accomplished without recursion"
   ]
  },
  {
   "cell_type": "markdown",
   "metadata": {
    "slideshow": {
     "slide_type": "slide"
    }
   },
   "source": [
    "Find a variant expression and a threshold with the following properties:\n",
    "\n",
    "1. Between one call of the function and any succeeding recursive call of that function, the value of the variant expression changes by at least some fixed amount.\n",
    "\n",
    "2. If the function is called and the value of the variant expression is less than or equal to the threshold, then the function terminates without making any recursive calls"
   ]
  },
  {
   "cell_type": "markdown",
   "metadata": {
    "slideshow": {
     "slide_type": "slide"
    }
   },
   "source": [
    "## Induction Method to Show That a Recursive Function is Correct\n",
    "\n",
    "To show that a recursive function meets its precondition/postcondition contract, first show that there is no infinite recursion, and\n",
    "then show that the following two conditions are also valid:\n",
    "\n",
    "3. Whenever the function makes no recursive calls, then it meets its precondition/postcondition contract. (This is called the base step.)\n",
    "\n",
    "4. Whenever the function is called and all the recursive calls it makes meet their precondition/postcondition contracts, then the original call will also meet its precondition/postcondition contract. (This is called the induction step.)"
   ]
  },
  {
   "cell_type": "markdown",
   "metadata": {
    "slideshow": {
     "slide_type": "slide"
    }
   },
   "source": [
    "# Let's print numbers-vertically:\n",
    "\n",
    "__input__: 1234:\n",
    "\n",
    "__output__:\n",
    "```\n",
    "1\n",
    "2\n",
    "3\n",
    "4\n",
    "5\n",
    "```\n"
   ]
  },
  {
   "cell_type": "code",
   "execution_count": 1,
   "metadata": {
    "slideshow": {
     "slide_type": "slide"
    }
   },
   "outputs": [],
   "source": [
    "#include <iostream>\n",
    "int input = 12345;"
   ]
  },
  {
   "cell_type": "markdown",
   "metadata": {
    "slideshow": {
     "slide_type": "slide"
    }
   },
   "source": [
    "# What does an iterative (looped) solution look like?"
   ]
  },
  {
   "cell_type": "code",
   "execution_count": null,
   "metadata": {
    "slideshow": {
     "slide_type": "subslide"
    }
   },
   "outputs": [],
   "source": [
    "#include <cmath>\n",
    "double len = std::floor(std::log10(input));\n",
    "\n",
    "int in_copy = input;\n",
    "int number, place; \n",
    "\n",
    "for (int i = len; i>=0; i--){\n",
    "    place = std::pow(10,i);\n",
    "    number = in_copy/place;\n",
    "    in_copy = in_copy%place;\n",
    "    std::cout<<number<<std::endl;\n",
    "}"
   ]
  },
  {
   "cell_type": "markdown",
   "metadata": {
    "slideshow": {
     "slide_type": "slide"
    }
   },
   "source": [
    "## What tasks are repeated on ever smaller versions of the problem? \n",
    "    * print number%10\n",
    "    * set number = number / 10\n",
    "## What is the base case?\n",
    "    * numbers < 10"
   ]
  },
  {
   "cell_type": "markdown",
   "metadata": {
    "slideshow": {
     "slide_type": "slide"
    }
   },
   "source": [
    "# What does the recursive solution look like?"
   ]
  },
  {
   "cell_type": "code",
   "execution_count": 2,
   "metadata": {
    "slideshow": {
     "slide_type": "slide"
    }
   },
   "outputs": [],
   "source": [
    "void write_vertical(int num){\n",
    "    //start with break - why?\n",
    "    if (num<10){\n",
    "        std::cout<<num<<std::endl;\n",
    "    }else{\n",
    "        //what's needed to get to the break condition?\n",
    "        write_vertical(num/10);\n",
    "        //what does the number look like when it exits that function? 12\n",
    "        //we printed out 1, so now\n",
    "        std::cout<<(num%10)<<std::endl;\n",
    "    }\n",
    "}"
   ]
  },
  {
   "cell_type": "code",
   "execution_count": 3,
   "metadata": {
    "slideshow": {
     "slide_type": "subslide"
    }
   },
   "outputs": [
    {
     "name": "stdout",
     "output_type": "stream",
     "text": [
      "1\n",
      "2\n",
      "3\n",
      "4\n",
      "5\n"
     ]
    }
   ],
   "source": [
    "write_vertical(12345)"
   ]
  },
  {
   "cell_type": "code",
   "execution_count": 4,
   "metadata": {},
   "outputs": [],
   "source": [
    "void write_vertical_reverse(int num){\n",
    "    //start with break - why?\n",
    "    if (num<10){\n",
    "        std::cout<<num<<std::endl;\n",
    "    }else{\n",
    "         std::cout<<(num%10)<<std::endl;\n",
    "        //what's needed to get to the break condition?\n",
    "        write_vertical_reverse(num/10);\n",
    "        //what does the number look like when it exits that function? 12\n",
    "        //we printed out 1, so now      \n",
    "    }\n",
    "}"
   ]
  },
  {
   "cell_type": "code",
   "execution_count": 5,
   "metadata": {},
   "outputs": [
    {
     "name": "stdout",
     "output_type": "stream",
     "text": [
      "5\n",
      "4\n",
      "3\n",
      "2\n",
      "1\n"
     ]
    }
   ],
   "source": [
    "write_vertical_reverse(12345)"
   ]
  },
  {
   "cell_type": "markdown",
   "metadata": {
    "slideshow": {
     "slide_type": "slide"
    }
   },
   "source": [
    "# What does the stack trace look like?"
   ]
  },
  {
   "cell_type": "code",
   "execution_count": 6,
   "metadata": {
    "slideshow": {
     "slide_type": "slide"
    }
   },
   "outputs": [],
   "source": [
    "void write_vertical_trace(int num, int level){\n",
    "    level++;\n",
    "    //start with break - why?\n",
    "    if (num<10){\n",
    "        std::cout<<\"call: \"<<level<<\" \"<<num<<std::endl;\n",
    "    }else{\n",
    "        //what's needed to get to the break condition?\n",
    "        write_vertical_trace(num/10, level);\n",
    "        //what does the number look like when it exits that function? 12\n",
    "        //we printed out 1, so now\n",
    "        std::cout<<\"call: \"<<level<<\" \"<<(num%10)<<std::endl;\n",
    "    }\n",
    "}"
   ]
  },
  {
   "cell_type": "code",
   "execution_count": 7,
   "metadata": {
    "slideshow": {
     "slide_type": "subslide"
    }
   },
   "outputs": [
    {
     "name": "stdout",
     "output_type": "stream",
     "text": [
      "call: 5 1\n",
      "call: 4 2\n",
      "call: 3 3\n",
      "call: 2 4\n",
      "call: 1 5\n"
     ]
    }
   ],
   "source": [
    "write_vertical_trace(12345,0)"
   ]
  },
  {
   "cell_type": "markdown",
   "metadata": {
    "slideshow": {
     "slide_type": "slide"
    }
   },
   "source": [
    "### Let's push function calls onto the recursion stack:\n",
    "\n",
    "| line | number before execution| output |\n",
    "| :--:| :-----:| :---:\n",
    "| 1 | 1 | |\n",
    "| 8 | 12 | |\n",
    "| 1 | 12 | |\n",
    "| 8 | 123 | |\n",
    "| 1 | 123 | |\n",
    "| 8 | 1234 | |\n",
    "| 1 | 1234 | |\n",
    "| 8 | 12345 | |\n",
    "| 1 | 12345 | |\n",
    "\n",
    "\n",
    "\n",
    "\n",
    "\n"
   ]
  },
  {
   "cell_type": "markdown",
   "metadata": {
    "slideshow": {
     "slide_type": "slide"
    }
   },
   "source": [
    "### Let's pop function calls from the recursion stack:\n",
    "\n",
    "| line | number before execution| output |\n",
    "| :--:| :-----:| :---:\n",
    "| 5 | 1 | 1 |\n",
    "| 8 | 12 | |\n",
    "| 9 | 12 | 2 |\n",
    "| 8 | 123 | |\n",
    "| 9 | 123 | 3 |\n",
    "| 8 | 1234 | |\n",
    "| 9 | 1234 | 4|\n",
    "| 8 | 12345| |\n",
    "| 9 | 12345 | 5|\n"
   ]
  },
  {
   "cell_type": "markdown",
   "metadata": {
    "slideshow": {
     "slide_type": "slide"
    }
   },
   "source": [
    "# Fibonacci Sequence\n",
    "\n",
    "0, 1, 1, 2, 3, 5, 8, 13, 21, 34, 55, 89, 144...\n",
    "\n",
    "* __Base Case__: $F_0 = 0$, $F_1 = 1$\n",
    "   \n",
    "* __Recursive Case__: $F_n = F_{n-1} + F_{n-2}$\n",
    "\n",
    "\n",
    "1. Implement a recursive `int fib(int n)` that computes the nth Fibonacci number\n",
    "2. Prove that the recursion is finite\n",
    "3. Draw the stack trace"
   ]
  },
  {
   "cell_type": "markdown",
   "metadata": {
    "slideshow": {
     "slide_type": "slide"
    }
   },
   "source": [
    "# Programming Projects 1:\n",
    "\n",
    "Write a function that produces the following output:\n",
    "```\n",
    "This was written by call number 1.\n",
    "    This was written by call number 2.\n",
    "        This was written by call number 3.\n",
    "             This was written by call number 4.\n",
    "             This ALSO written by call number 4.\n",
    "        This ALSO written by call number 3.\n",
    "    This ALSO written by call number 2.\n",
    "This ALSO written by call number 1.\n",
    "```\n",
    "In this example, the recursion stopped when it reached four levels deep, but your function should be capable of continuing to any specified level."
   ]
  },
  {
   "cell_type": "markdown",
   "metadata": {
    "slideshow": {
     "slide_type": "slide"
    }
   },
   "source": [
    "$n! = \\prod_{i=1}^{n}{i}$\n",
    "\n",
    "* 0! = 1\n",
    "* 1! = 1 \n",
    "* 2!=2*1\n",
    "* 3! = 3 * 2 * 1\n",
    "\n",
    "\n",
    "__base case__: $0! = 1$\n",
    "\n",
    "__recursive case__: $n! = n * (n-1)!$"
   ]
  },
  {
   "cell_type": "code",
   "execution_count": 2,
   "metadata": {},
   "outputs": [],
   "source": [
    "#include <stdexcept>\n",
    "int factorial(int n){\n",
    "    if (n<0){throw std::invalid_argument(\"Input can't be negative\");}\n",
    "    if(n==0){return 1;}\n",
    "    return n*factorial(n-1);\n",
    "    \n",
    "}"
   ]
  },
  {
   "cell_type": "code",
   "execution_count": 3,
   "metadata": {},
   "outputs": [
    {
     "data": {
      "text/plain": [
       "1"
      ]
     },
     "execution_count": 3,
     "metadata": {},
     "output_type": "execute_result"
    }
   ],
   "source": [
    "factorial(1)"
   ]
  },
  {
   "cell_type": "code",
   "execution_count": 4,
   "metadata": {},
   "outputs": [
    {
     "ename": "Standard Exception",
     "evalue": "Input can't be negative",
     "output_type": "error",
     "traceback": [
      "Standard Exception: Input can't be negative"
     ]
    }
   ],
   "source": [
    "factorial(-1)"
   ]
  },
  {
   "cell_type": "code",
   "execution_count": 5,
   "metadata": {},
   "outputs": [
    {
     "data": {
      "text/plain": [
       "120"
      ]
     },
     "execution_count": 5,
     "metadata": {},
     "output_type": "execute_result"
    }
   ],
   "source": [
    "factorial(5)"
   ]
  },
  {
   "cell_type": "code",
   "execution_count": null,
   "metadata": {},
   "outputs": [],
   "source": [
    "factorial(-1\n",
    "         )"
   ]
  },
  {
   "cell_type": "code",
   "execution_count": null,
   "metadata": {},
   "outputs": [],
   "source": []
  }
 ],
 "metadata": {
  "celltoolbar": "Slideshow",
  "kernelspec": {
   "display_name": "C++17",
   "language": "C++17",
   "name": "xeus-cling-cpp17"
  },
  "language_info": {
   "codemirror_mode": "text/x-c++src",
   "file_extension": ".cpp",
   "mimetype": "text/x-c++src",
   "name": "c++",
   "version": "-std=c++17"
  }
 },
 "nbformat": 4,
 "nbformat_minor": 2
}
