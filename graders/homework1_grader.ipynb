{
 "cells": [
  {
   "cell_type": "code",
   "execution_count": 8,
   "metadata": {},
   "outputs": [
    {
     "name": "stderr",
     "output_type": "stream",
     "text": [
      "/home1/hannah/miniconda3/envs/xeus-cling/lib/python3.7/site-packages/tqdm/autonotebook/__init__.py:14: TqdmExperimentalWarning: Using `tqdm.autonotebook.tqdm` in notebook mode. Use `tqdm.tqdm` instead to force console mode (e.g. in jupyter console)\n",
      "  \" (e.g. in jupyter console)\", TqdmExperimentalWarning)\n"
     ]
    }
   ],
   "source": [
    "from pathlib import Path\n",
    "import subprocess\n",
    "import os\n",
    "import shutil\n",
    "import re\n",
    "import pandas as pd\n",
    "\n",
    "from tqdm.autonotebook import tqdm"
   ]
  },
  {
   "cell_type": "code",
   "execution_count": 9,
   "metadata": {},
   "outputs": [],
   "source": [
    "HWP = Path(\"/home1/hannah/projects/homeworks212/needs_grading/\")\n",
    "roster = pd.read_csv(HWP/\"classroom_roster.csv\").fillna(value=\"NULL\")\n",
    "assignments = Path(\"Homework 1 Hello World-02-21-2019-02-45-18/\")"
   ]
  },
  {
   "cell_type": "code",
   "execution_count": 10,
   "metadata": {},
   "outputs": [],
   "source": [
    "nums = re.compile(r\"\\d+\")"
   ]
  },
  {
   "cell_type": "code",
   "execution_count": 12,
   "metadata": {},
   "outputs": [],
   "source": [
    "tqdm.pandas()"
   ]
  },
  {
   "cell_type": "code",
   "execution_count": 14,
   "metadata": {
    "scrolled": false
   },
   "outputs": [],
   "source": [
    "def grade_student(row):\n",
    "    try:\n",
    "        os.chdir(HWP/assignments/row['github_username'])\n",
    "    except FileNotFoundError:\n",
    "        grade = 0\n",
    "        error = \"no submission\"\n",
    "        return\n",
    "    \n",
    "    if Path(\"build\").exists():\n",
    "        shutil.rmtree(\"build\")\n",
    "    os.mkdir(\"build\")\n",
    "    os.chdir(\"build\")\n",
    "    \n",
    "    for args in ([[\"cmake\",\"..\"], [\"make\"], [\"./tests\"]]):\n",
    "        process = subprocess.run(args, capture_output=True, text=True)\n",
    "        if process.returncode != 0:\n",
    "            grade = process.stderr\n",
    "            error = 0\n",
    "            return\n",
    "        \n",
    "    if args != [\"./tests\"]:\n",
    "        return\n",
    "    \n",
    "    output = process.stdout.split(\"\\n\")\n",
    "    scores = nums.findall(output[-2])\n",
    "    grade = int(scores[0])/1\n",
    "    error = \"NULL\"\n",
    "    return grade, error"
   ]
  },
  {
   "cell_type": "code",
   "execution_count": 21,
   "metadata": {},
   "outputs": [
    {
     "data": {
      "text/plain": [
       "(1.0, 'NULL')"
      ]
     },
     "execution_count": 21,
     "metadata": {},
     "output_type": "execute_result"
    }
   ],
   "source": [
    "grade_student(roster.iloc[0])"
   ]
  },
  {
   "cell_type": "code",
   "execution_count": null,
   "metadata": {},
   "outputs": [
    {
     "data": {
      "application/vnd.jupyter.widget-view+json": {
       "model_id": "4676f1c524db4aa5954d40d514300733",
       "version_major": 2,
       "version_minor": 0
      },
      "text/plain": [
       "HBox(children=(IntProgress(value=0, max=30), HTML(value='')))"
      ]
     },
     "metadata": {},
     "output_type": "display_data"
    }
   ],
   "source": [
    "roster['output'] = roster.progress_apply(grade_student, axis=1)"
   ]
  },
  {
   "cell_type": "code",
   "execution_count": null,
   "metadata": {},
   "outputs": [],
   "source": []
  }
 ],
 "metadata": {
  "kernelspec": {
   "display_name": "Python 3",
   "language": "python",
   "name": "python3"
  },
  "language_info": {
   "codemirror_mode": {
    "name": "ipython",
    "version": 3
   },
   "file_extension": ".py",
   "mimetype": "text/x-python",
   "name": "python",
   "nbconvert_exporter": "python",
   "pygments_lexer": "ipython3",
   "version": "3.7.2"
  }
 },
 "nbformat": 4,
 "nbformat_minor": 2
}
